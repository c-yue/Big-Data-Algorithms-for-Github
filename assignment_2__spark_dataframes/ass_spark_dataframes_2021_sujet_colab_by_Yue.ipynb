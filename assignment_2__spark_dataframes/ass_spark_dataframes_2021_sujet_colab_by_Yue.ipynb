{
  "nbformat": 4,
  "nbformat_minor": 0,
  "metadata": {
    "colab": {
      "name": "ass_spark_dataframes_2021_sujet_colab.ipynb",
      "provenance": [],
      "collapsed_sections": [
        "99_WnUHTVXp5",
        "YxGOfykpVXqB",
        "524h_jgeVXqB"
      ]
    },
    "kernelspec": {
      "display_name": "Python 3",
      "language": "python",
      "name": "python3"
    },
    "language_info": {
      "codemirror_mode": {
        "name": "ipython",
        "version": 3
      },
      "file_extension": ".py",
      "mimetype": "text/x-python",
      "name": "python",
      "nbconvert_exporter": "python",
      "pygments_lexer": "ipython3",
      "version": "3.8.3"
    }
  },
  "cells": [
    {
      "cell_type": "markdown",
      "metadata": {
        "id": "rbuZfFWZVXpn"
      },
      "source": [
        "<h1><center>Big Data Algorithms Techniques & Platforms | Coded by Yue CHEN</center></h1>\n",
        "<h2>\n",
        "<hr style=\" border:none; height:3px;\">\n",
        "<center>Spark and DataFrames</center>\n",
        "<hr style=\" border:none; height:3px;\">\n",
        "</h2>"
      ]
    },
    {
      "cell_type": "markdown",
      "metadata": {
        "id": "ZBLI_qUSVXpq"
      },
      "source": [
        "## Objectives \n",
        "\n",
        "<strong> Dataframes: </strong>\n",
        "<ul>\n",
        "    <li>  Pyspark </li> \n",
        "    <li>  Pandas library on Spark</li> \n",
        "</ul>"
      ]
    },
    {
      "cell_type": "markdown",
      "metadata": {
        "id": "42q0jiKKVXpr"
      },
      "source": [
        "# A. Context\n",
        "\n",
        "<p align=\"justify\">\n",
        "<font size=\"3\">\n",
        "For running this serie of exercises we are going to use a quite big dataset containing data on Bitcoin made available from <a href=\"https://www.kaggle.com/mczielinski/bitcoin-historical-data\">Kaggle</a>.\n",
        "\n",
        "As stated in the description of the dataset:\n",
        "\"Bitcoin is the longest running and most well known cryptocurrency, first released as open source in 2009 by the anonymous Satoshi Nakamoto. Bitcoin serves as a decentralized medium of digital exchange, with transactions verified and recorded in a public distributed ledger (the blockchain) without the need for a trusted record keeping authority or central intermediary.\" \n",
        "</font>\n",
        "</p>\n",
        "\n",
        "\n",
        "### The dataset\n",
        "\n",
        "<p align=\"justify\">\n",
        "<font size=\"3\">\n",
        "The dataset is in a .csv file:\n",
        "\n",
        "$bitstampUSD\\_1-min\\_data\\_2012-01-01\\_to\\_2021-03-31.csv$\n",
        "\n",
        "CSV files for select bitcoin exchanges for the time period of Jan 2012 to December March 2021, with minute to minute updates of OHLC (Open, High, Low, Close), Volume in BTC and indicated currency, and weighted bitcoin price. \n",
        "\n",
        "Notice that:\n",
        "<ul>\n",
        "    <li> Timestamps are in Unix time.</li>\n",
        "<li> Timestamps without any trades or activity have their data fields filled with NaNs. </li>\n",
        "<li>  If a timestamp is missing, or if there are jumps, this may be because the exchange (or its API) was down, the exchange (or its API) did not exist, or some other unforeseen technical error in data reporting or gathering. </li>\n",
        "</ul>\n",
        "As stated by the authors \"all effort has been made to deduplicate entries and verify the contents are correct and complete to the best of my ability, but obviously trust at your own risk\".\n",
        "</p>\n",
        "</font>"
      ]
    },
    {
      "cell_type": "markdown",
      "metadata": {
        "id": "Zd5y1A2BVXpr"
      },
      "source": [
        "# B. Environment set-up\n",
        "\n",
        "<p align=\"justify\">\n",
        "<font size=\"3\">\n",
        "As first step you must include your dataset in your environment.\n",
        "\n",
        "You can folllow the procedure that includes Kaggle data into colab working folders or simply download and re-upload the file on your Colab space.\n",
        "\n",
        "\n",
        "$bitstampUSD\\_1-min\\_data\\_2012-01-01\\_to\\_2021-03-31.csv$\n",
        "    \n",
        "and upload it in the folder where your notebook is supposed to read the input.\n",
        "\n",
        "</font>\n",
        "</p>\n",
        "\n",
        "<p align=\"justify\">\n",
        "<font size=\"3\">\n",
        "As second step you must prepare your environment running the following two cells that:\n",
        "<ul>\n",
        "    <li> Import the Pandas library.</li>\n",
        "<li> Set the Spark environment and return a SparkSession (acting as was acting the SparkContext in the previous exercises). </li>\n",
        "</ul>    \n",
        "    \n",
        "\n",
        "</font>\n",
        "</p>"
      ]
    },
    {
      "cell_type": "code",
      "metadata": {
        "id": "wVZaAkIgVXps"
      },
      "source": [
        "# import of Pandas library\n",
        "import pandas as pd"
      ],
      "execution_count": 1,
      "outputs": []
    },
    {
      "cell_type": "code",
      "metadata": {
        "id": "2FphS0y8x0kT"
      },
      "source": [
        "pip install pyspark"
      ],
      "execution_count": null,
      "outputs": []
    },
    {
      "cell_type": "code",
      "metadata": {
        "id": "YnIAJZrfVXps"
      },
      "source": [
        "!apt-get update\n",
        "!apt-get install openjdk-8-jdk-headless -qq > /dev/null\n",
        "!wget -q https://downloads.apache.org/spark/spark-3.0.3/spark-3.0.3-bin-hadoop2.7.tgz\n",
        "!tar zxvf spark-3.0.3-bin-hadoop2.7.tgz\n",
        "!pip install -q findspark\n",
        "\n",
        "import os\n",
        "os.environ[\"JAVA_HOME\"] = \"/usr/lib/jvm/java-8-openjdk-amd64\"\n",
        "os.environ[\"SPARK_HOME\"] = \"/content/spark-3.0.3-bin-hadoop2.7\"\n",
        "\n",
        "import findspark\n",
        "findspark.init()\n",
        "from pyspark import SparkConf, SparkContext\n",
        "conf = SparkConf().setMaster(\"local\")\n",
        "sc = SparkContext(conf = conf)\n",
        "print(\"initialization successful!\")\n",
        "\n",
        "import numpy as np\n",
        "import random as rn\n",
        "\n",
        "seed_value=0\n",
        "import os\n",
        "os.environ['PYTHONHASHSEED']=str(seed_value)\n"
      ],
      "execution_count": null,
      "outputs": []
    },
    {
      "cell_type": "code",
      "metadata": {
        "id": "-hzR2475-5_I"
      },
      "source": [
        "#import of the SparkSession\n",
        "from pyspark.sql import SparkSession\n",
        "#inizialization of the Spark Session\n",
        "spark = SparkSession \\\n",
        "    .builder \\\n",
        "    .appName(\"Assignment2\") \\\n",
        "    .getOrCreate()"
      ],
      "execution_count": 4,
      "outputs": []
    },
    {
      "cell_type": "markdown",
      "metadata": {
        "id": "6f9cycZhfuun"
      },
      "source": [
        "## B.1  File import\n",
        "    \n",
        "<p align=\"justify\">\n",
        "<font size=\"3\">\n",
        "In this exercise the goal is to create a Spark DataFrame from the csv file in imput. \n",
        "\n",
        "Recall that in Spark DataFrame the type of the columns is very important for the definition of the internal data representation. \n",
        "    \n",
        "For this step you the target set of typed columns is the following one: \n",
        "<ul>\n",
        "    <li>    $Date\\_Time: Timestamp$ </li>\n",
        "     <li>   $Open: double$ </li>\n",
        "     <li>   $High: double$ </li>\n",
        "    <li>    $Low: double$ </li>\n",
        "    <li>    $Close: double$ </li>\n",
        "    <li>    $Volume\\_BTC: double$ </li>\n",
        "    <li>    $Volume\\_Currency: double$ </li>\n",
        "    <li>    $Weighted\\_Price: double$ </li>\n",
        "</ul>\n",
        "    \n",
        "We will arrive to define the schema in 3 guided steps described in the following sections.\n",
        "</font>\n",
        "</p>\n",
        "\n",
        "<p align=\"justify\">\n",
        "<font size=\"3\">\n",
        "Notice that the header of the $csv$ file contains the data description and that the simple import of the\n",
        "file treats the timestamp column as a String. \n",
        "</font>\n",
        "</p>\n",
        "\n",
        "<p align=\"justify\">\n",
        "<font size=\"3\">\n",
        "In data import you must check that:\n",
        "<ul>\n",
        "    <li>  the types of the imported data (the ones read from the file using the operation you choose) are equal to the types in the given schema</li>\n",
        "    <li>  the names of columns correspond (and make transofrmations if necessary). </li> \n",
        "</ul>\n",
        "    \n",
        "</font>\n",
        "</p>"
      ]
    },
    {
      "cell_type": "markdown",
      "metadata": {
        "id": "SQZN4xiqVXpt"
      },
      "source": [
        "### <strong> Exercise 1.</strong> First import (1 point)\n",
        "    \n",
        "<p align=\"justify\">\n",
        "<font size=\"3\">\n",
        "Import the csv file in Spark DataFrame. If you have any doubt you can always refer to the Spark 3.1.1 documentation:\n",
        "\n",
        "<a href=\"https://spark.apache.org/docs/3.1.1/\">Spark Reference Documentation</a>\n",
        "\n",
        "</font>\n",
        "</p>"
      ]
    },
    {
      "cell_type": "code",
      "metadata": {
        "id": "imMeOHQmVXpu",
        "colab": {
          "base_uri": "https://localhost:8080/",
          "height": 0
        },
        "outputId": "5c01ea75-615f-43f6-eabb-a9e472d4cc6f"
      },
      "source": [
        "# Write the command that creates (reads) a Spark DataFrame and stores the reference in the dfs variable\n",
        "\n",
        "#'''############## WRITE YOUR CODE HERE ##############'''\n",
        "\n",
        "dfs = spark.read.csv(\"/content/bitstampUSD_1-min_data_2012-01-01_to_2021-03-31.csv\", header=True, inferSchema=True)\n",
        "\n",
        "#'''############## END OF THE EXERCISE ##############'''\n",
        "\n",
        "#show the DataFrame schema\n",
        "dfs\n",
        "\n",
        "#######################\n",
        "# EXPECTED OUTPUT:\n",
        "# DataFrame[Timestamp: int, Open: double, High: double, Low: double, Close: double, Volume_(BTC): double, Volume_(Currency): double, Weighted_Price: double]</font>\n",
        "#\n",
        "# Notice that if you have something like:\n",
        "# DataFrame[_c0: string, _c1: string, _c2: string, _c3: string, _c4: string, _c5: string, _c6: string, _c7: string]\n",
        "# you forgot a step: you did not include the schema of the columns\n",
        "#\n",
        "# Notice also that if you have:\n",
        "# DataFrame[Timestamp: string, Open: string, High: string, Low: string, Close: string, Volume_(BTC): string, Volume_(Currency): string, Weighted_Price: string]\n",
        "# you also forgot a step: the type of the Timestamp must be a String\n",
        "###########################"
      ],
      "execution_count": 5,
      "outputs": [
        {
          "output_type": "execute_result",
          "data": {
            "text/plain": [
              "DataFrame[Timestamp: int, Open: double, High: double, Low: double, Close: double, Volume_(BTC): double, Volume_(Currency): double, Weighted_Price: double]"
            ]
          },
          "metadata": {},
          "execution_count": 5
        }
      ]
    },
    {
      "cell_type": "code",
      "metadata": {
        "id": "XTbhA1Aip4mM",
        "colab": {
          "base_uri": "https://localhost:8080/",
          "height": 0
        },
        "outputId": "a777b2f8-7f6a-46c5-8e16-5c9792ba9624"
      },
      "source": [
        "# the following command is going to show 5 rows of the DataFrame\n",
        "dfs.take(5)"
      ],
      "execution_count": 6,
      "outputs": [
        {
          "output_type": "execute_result",
          "data": {
            "text/plain": [
              "[Row(Timestamp=1325317920, Open=4.39, High=4.39, Low=4.39, Close=4.39, Volume_(BTC)=0.45558087, Volume_(Currency)=2.0000000193, Weighted_Price=4.39),\n",
              " Row(Timestamp=1325317980, Open=nan, High=nan, Low=nan, Close=nan, Volume_(BTC)=nan, Volume_(Currency)=nan, Weighted_Price=nan),\n",
              " Row(Timestamp=1325318040, Open=nan, High=nan, Low=nan, Close=nan, Volume_(BTC)=nan, Volume_(Currency)=nan, Weighted_Price=nan),\n",
              " Row(Timestamp=1325318100, Open=nan, High=nan, Low=nan, Close=nan, Volume_(BTC)=nan, Volume_(Currency)=nan, Weighted_Price=nan),\n",
              " Row(Timestamp=1325318160, Open=nan, High=nan, Low=nan, Close=nan, Volume_(BTC)=nan, Volume_(Currency)=nan, Weighted_Price=nan)]"
            ]
          },
          "metadata": {},
          "execution_count": 6
        }
      ]
    },
    {
      "cell_type": "markdown",
      "metadata": {
        "id": "fkQ8aYX-VXpv"
      },
      "source": [
        "<p align=\"justify\">\n",
        "<font size=\"3\">\n",
        "Look again at the target schema:\n",
        "    \n",
        "<ul>\n",
        "    <li>    $Date\\_Time: Timestamp$ </li>\n",
        "     <li>   $Open: double$ </li>\n",
        "     <li>   $High: double$ </li>\n",
        "    <li>    $Low: double$ </li>\n",
        "    <li>    $Close: double$ </li>\n",
        "    <li>    $Volume\\_BTC: double$ </li>\n",
        "    <li>    $Volume\\_Currency: double$ </li>\n",
        "    <li>    $Weighted\\_Price: double$ </li>\n",
        "</ul>\n",
        "    \n",
        "You notice that the import data has three problems with respect to the target schema:\n",
        "    \n",
        "    \n",
        "<ul>\n",
        "    <li> the $Date\\_Time$ column is not present in the original file </li>\n",
        "    <li> there is an $int$ column $Timestamp$ that can be converted and transformed to a $Date$</li> \n",
        "    <li> some of the column names contain not required parentesis. </li>\n",
        "</ul>     \n",
        "</font>\n",
        "</p>\n",
        "\n",
        "\n"
      ]
    },
    {
      "cell_type": "markdown",
      "metadata": {
        "id": "OUS9JWIcVXpv"
      },
      "source": [
        "### <strong> Exercise 2. </strong> Timestamp column (1 point)\n",
        "    \n",
        "<p align=\"justify\">\n",
        "<font size=\"3\">\n",
        "Refine the import of the csv file and convert the \"timestamp\" column in the proper $Timestamp$ type:\n",
        "    <ul>\n",
        "        <li>   Create a new column <code>Date\\_Time</code> that is the conversion of the $String$ column $Timestamp$ in $Timestamp$ type  </li>\n",
        "</ul>\n",
        "The Dataframe are immutable structure, then your procedure will use a command (discussed in the slides) that will create a new Spark $DataFrame$ from the $dfs$ $DataFrame$ having a different schema. \n",
        "\n",
        "</font>\n",
        "</p>\n",
        "\n",
        "<p align=\"justify\">\n",
        "<font size=\"3\">\n",
        "Look at the timestamp column of the csv file and from the imported DataFrame \n",
        "</font>\n",
        "</p>"
      ]
    },
    {
      "cell_type": "code",
      "metadata": {
        "id": "_cmBqQc0_dkt"
      },
      "source": [
        "from pyspark.sql.functions import *"
      ],
      "execution_count": 7,
      "outputs": []
    },
    {
      "cell_type": "code",
      "metadata": {
        "id": "Pj8BeALtVXpv",
        "colab": {
          "base_uri": "https://localhost:8080/",
          "height": 0
        },
        "outputId": "633a5c29-1479-4dd4-d1d7-674bb253c7ed"
      },
      "source": [
        "# write the command that creates a new Data Frame Spark with Date_Time column\n",
        "# and stores the reference in the dfsdt variable (it must be a DataFrame Spark with Date_Time column)\n",
        "\n",
        "#'''############## WRITE YOUR CODE HERE ##############'''\n",
        "\n",
        "dfsdt = dfs.withColumn('Date_Time',(lit(to_timestamp(from_unixtime(dfs.Timestamp.cast('string'))))))\n",
        "\n",
        "#'''############## END OF THE EXERCISE ##############'''\n",
        "\n",
        "#show the DataFrame schema\n",
        "dfsdt\n",
        "\n",
        "#######################\n",
        "# EXPECTED OUTPUT:\n",
        "# DataFrame[Timestamp: int, Open: double, High: double, Low: double, Close: double, \n",
        "#Volume_(BTC): double, Volume_(Currency): double, Weighted_Price: double, Date_Time: timestamp]\n",
        "#######################"
      ],
      "execution_count": 8,
      "outputs": [
        {
          "output_type": "execute_result",
          "data": {
            "text/plain": [
              "DataFrame[Timestamp: int, Open: double, High: double, Low: double, Close: double, Volume_(BTC): double, Volume_(Currency): double, Weighted_Price: double, Date_Time: timestamp]"
            ]
          },
          "metadata": {},
          "execution_count": 8
        }
      ]
    },
    {
      "cell_type": "code",
      "metadata": {
        "id": "iBcoKytNVXpw",
        "colab": {
          "base_uri": "https://localhost:8080/",
          "height": 0
        },
        "outputId": "e8b66a86-b9a3-41a5-ebc1-4f64e1ad1ea4"
      },
      "source": [
        "#show 5 rows of the DataFrame\n",
        "dfsdt.take(5)"
      ],
      "execution_count": 9,
      "outputs": [
        {
          "output_type": "execute_result",
          "data": {
            "text/plain": [
              "[Row(Timestamp=1325317920, Open=4.39, High=4.39, Low=4.39, Close=4.39, Volume_(BTC)=0.45558087, Volume_(Currency)=2.0000000193, Weighted_Price=4.39, Date_Time=datetime.datetime(2011, 12, 31, 7, 52)),\n",
              " Row(Timestamp=1325317980, Open=nan, High=nan, Low=nan, Close=nan, Volume_(BTC)=nan, Volume_(Currency)=nan, Weighted_Price=nan, Date_Time=datetime.datetime(2011, 12, 31, 7, 53)),\n",
              " Row(Timestamp=1325318040, Open=nan, High=nan, Low=nan, Close=nan, Volume_(BTC)=nan, Volume_(Currency)=nan, Weighted_Price=nan, Date_Time=datetime.datetime(2011, 12, 31, 7, 54)),\n",
              " Row(Timestamp=1325318100, Open=nan, High=nan, Low=nan, Close=nan, Volume_(BTC)=nan, Volume_(Currency)=nan, Weighted_Price=nan, Date_Time=datetime.datetime(2011, 12, 31, 7, 55)),\n",
              " Row(Timestamp=1325318160, Open=nan, High=nan, Low=nan, Close=nan, Volume_(BTC)=nan, Volume_(Currency)=nan, Weighted_Price=nan, Date_Time=datetime.datetime(2011, 12, 31, 7, 56))]"
            ]
          },
          "metadata": {},
          "execution_count": 9
        }
      ]
    },
    {
      "cell_type": "markdown",
      "metadata": {
        "id": "vWEJTFojVXpw"
      },
      "source": [
        "### <strong> Exercise 3.</strong> Column names (2 points)\n",
        "\n",
        "\n",
        "<p align=\"justify\">\n",
        "<font size=\"3\">\n",
        "As you can see from the output of the previous exercise the names of the columns still present some problems since there are some parentesis that are not required.\n",
        "    <ul>\n",
        "     <li> Remove the not required parentesis from the colum names </li>\n",
        "     <li> Hint: look at the documentation of DataFrame API and check the operation for column renaming </li>\n",
        "</ul>\n",
        "</font>\n",
        "</p>\n"
      ]
    },
    {
      "cell_type": "code",
      "metadata": {
        "id": "yRv_VbgYVXpw",
        "colab": {
          "base_uri": "https://localhost:8080/",
          "height": 0
        },
        "outputId": "9ed7b9c5-47b0-43d2-fe18-90451d076754"
      },
      "source": [
        "# write the command that creates a new Data Frame Spark with correct names for all the columns\n",
        "# and store the reference in the dfscr variable (Data Frame Spark with Correct Names)\n",
        "\n",
        "#'''############## WRITE YOUR CODE HERE ##############'''\n",
        "\n",
        "dfscr = dfsdt.withColumnRenamed('Volume_(BTC)', 'Volume_BTC').withColumnRenamed('Volume_(Currency)', 'Volume_Currency')\n",
        "\n",
        "#'''############## END OF THE EXERCISE ##############'''\n",
        "\n",
        "#show the DataFrame schema\n",
        "dfscr\n",
        "\n",
        "#######################\n",
        "# EXPECTED OUTPUT:\n",
        "#DataFrame[Timestamp: int, Open: double, High: double, Low: double, Close: double, \n",
        "#          Volume_BTC: double, Volume_Currency: double, Weighted_Price: double]\n",
        "#######################"
      ],
      "execution_count": 10,
      "outputs": [
        {
          "output_type": "execute_result",
          "data": {
            "text/plain": [
              "DataFrame[Timestamp: int, Open: double, High: double, Low: double, Close: double, Volume_BTC: double, Volume_Currency: double, Weighted_Price: double, Date_Time: timestamp]"
            ]
          },
          "metadata": {},
          "execution_count": 10
        }
      ]
    },
    {
      "cell_type": "code",
      "metadata": {
        "id": "YU2SFo0UVXpw",
        "colab": {
          "base_uri": "https://localhost:8080/",
          "height": 0
        },
        "outputId": "7610c9f3-d1d5-4683-bb41-e1c629614681"
      },
      "source": [
        "#show 5 rows of the DataFrame\n",
        "dfscr.show(5)\n",
        "\n",
        "#######################\n",
        "# Expected output:\n",
        "#+----------+----+----+----+-----+----------+---------------+--------------+-------------------+\n",
        "#| Timestamp|Open|High| Low|Close|Volume_BTC|Volume_Currency|Weighted_Price|          Date_Time|\n",
        "#+----------+----+----+----+-----+----------+---------------+--------------+-------------------+\n",
        "#|1325317920|4.39|4.39|4.39| 4.39|0.45558087|   2.0000000193|          4.39|2011-12-31 07:52:00|\n",
        "#|1325317980| NaN| NaN| NaN|  NaN|       NaN|            NaN|           NaN|2011-12-31 07:53:00|\n",
        "#|1325318040| NaN| NaN| NaN|  NaN|       NaN|            NaN|           NaN|2011-12-31 07:54:00|\n",
        "#|1325318100| NaN| NaN| NaN|  NaN|       NaN|            NaN|           NaN|2011-12-31 07:55:00|\n",
        "#|1325318160| NaN| NaN| NaN|  NaN|       NaN|            NaN|           NaN|2011-12-31 07:56:00|\n",
        "#+----------+----+----+----+-----+----------+---------------+--------------+-------------------+"
      ],
      "execution_count": 11,
      "outputs": [
        {
          "output_type": "stream",
          "name": "stdout",
          "text": [
            "+----------+----+----+----+-----+----------+---------------+--------------+-------------------+\n",
            "| Timestamp|Open|High| Low|Close|Volume_BTC|Volume_Currency|Weighted_Price|          Date_Time|\n",
            "+----------+----+----+----+-----+----------+---------------+--------------+-------------------+\n",
            "|1325317920|4.39|4.39|4.39| 4.39|0.45558087|   2.0000000193|          4.39|2011-12-31 07:52:00|\n",
            "|1325317980| NaN| NaN| NaN|  NaN|       NaN|            NaN|           NaN|2011-12-31 07:53:00|\n",
            "|1325318040| NaN| NaN| NaN|  NaN|       NaN|            NaN|           NaN|2011-12-31 07:54:00|\n",
            "|1325318100| NaN| NaN| NaN|  NaN|       NaN|            NaN|           NaN|2011-12-31 07:55:00|\n",
            "|1325318160| NaN| NaN| NaN|  NaN|       NaN|            NaN|           NaN|2011-12-31 07:56:00|\n",
            "+----------+----+----+----+-----+----------+---------------+--------------+-------------------+\n",
            "only showing top 5 rows\n",
            "\n"
          ]
        }
      ]
    },
    {
      "cell_type": "markdown",
      "metadata": {
        "id": "lw7ktEJKVXpx"
      },
      "source": [
        "## B.2 DataFrame columns \n",
        "\n",
        "\n",
        "<p align=\"justify\">\n",
        "<font size=\"3\">\n",
        "    \n",
        "In this part of the exercise we are going continue to  modify in the Spark DataFrames.\n",
        "\n",
        "    \n",
        "Remember that using  PySpark, it's possible to access a DataFrame's columns either by attribute (<code>df.attributeName</code>) or by indexing <code>(df['attributeName'])</code>.\n",
        "</font>\n",
        "</p>\n",
        "\n",
        "\n",
        "<p align=\"justify\">\n",
        "<font size=\"3\">\n",
        "    \n",
        "Loook at the list of the functions to get familiar with the documentation: some functions that can be of help to manipulate the schema:\n",
        "    \n",
        "<ul>\n",
        "     <li>    <a href=\"https://spark.apache.org/docs/latest/api/python/reference/pyspark.sql.html#functions\">Spark Functions</a>.  </li>\n",
        "</ul>    \n",
        "    \n",
        "    \n",
        "</font>\n",
        "</p>\n",
        "\n"
      ]
    },
    {
      "cell_type": "markdown",
      "metadata": {
        "id": "ZBgUaY_oVXpx"
      },
      "source": [
        "### <strong> Exercise 4.</strong>  Add two new columns to the DataFrame (2 points)\n",
        "    \n",
        "<p align=\"justify\">\n",
        "<font size=\"3\">\n",
        "We want to extend the DataFrame with two other columns: given the $Date\\_Time$ column create two new columns ($Year$ and $Month$) that contain \n",
        "    <ul>\n",
        "     <li> the year </li>\n",
        "     <li> the month of the year </li>\n",
        "</ul>\n",
        "    \n",
        "</font>\n",
        "</p>\n",
        "    \n",
        "    \n",
        "    "
      ]
    },
    {
      "cell_type": "markdown",
      "metadata": {
        "id": "oDH7YsSeVXpx"
      },
      "source": [
        "<p align=\"justify\">\n",
        "<font size=\"3\">    \n",
        "Look at the documentation of Spark functions and find the two functions that are convenient for this use case (hint: the name of the columns can help: <a href=\"https://spark.apache.org/docs/latest/api/python/reference/pyspark.sql.html#functions\">Spark Functions</a>)\n",
        "</font>\n",
        "</p>"
      ]
    },
    {
      "cell_type": "code",
      "metadata": {
        "id": "mpL3519cVXpx",
        "scrolled": true
      },
      "source": [
        "#import the functions that you will use\n",
        "\n",
        "############## WRITE YOUR CODE HERE ##############\n",
        "\n",
        "from pyspark.sql.functions import *\n",
        "\n",
        "############## END OF THE EXERCISE ##############"
      ],
      "execution_count": 12,
      "outputs": []
    },
    {
      "cell_type": "code",
      "metadata": {
        "id": "zsehHsySVXpz",
        "colab": {
          "base_uri": "https://localhost:8080/",
          "height": 0
        },
        "outputId": "635181f2-2964-4de1-8f77-0e70a953e362"
      },
      "source": [
        "# write the command that creates a new Data Frame Spark with the two additional columns\n",
        "# and store the reference in the dfsym variable (Data Frame Spark with Correct Names)\n",
        "\n",
        "#'''############## WRITE YOUR CODE HERE ##############'''\n",
        "\n",
        "dfsym = dfscr.withColumn('Year', year(col('Date_Time'))).withColumn('Month', month(col('Date_Time')))\n",
        "\n",
        "#'''############## END OF THE EXERCISE ##############'''\n",
        "\n",
        "\n",
        "dfsym.show(5)\n",
        "\n",
        "#######################\n",
        "# Expected output:\n",
        "#+----------+----+----+----+-----+----------+---------------+--------------+-------------------+----+-----+\n",
        "#| Timestamp|Open|High| Low|Close|Volume_BTC|Volume_Currency|Weighted_Price|          Date_Time|Year|Month|\n",
        "#+----------+----+----+----+-----+----------+---------------+--------------+-------------------+----+-----+\n",
        "#|1325317920|4.39|4.39|4.39| 4.39|0.45558087|   2.0000000193|          4.39|2011-12-31 07:52:00|2011|   12|\n",
        "#|1325317980| NaN| NaN| NaN|  NaN|       NaN|            NaN|           NaN|2011-12-31 07:53:00|2011|   12|\n",
        "#|1325318040| NaN| NaN| NaN|  NaN|       NaN|            NaN|           NaN|2011-12-31 07:54:00|2011|   12|\n",
        "#|1325318100| NaN| NaN| NaN|  NaN|       NaN|            NaN|           NaN|2011-12-31 07:55:00|2011|   12|\n",
        "#|1325318160| NaN| NaN| NaN|  NaN|       NaN|            NaN|           NaN|2011-12-31 07:56:00|2011|   12|\n",
        "#+----------+----+----+----+-----+----------+---------------+--------------+-------------------+----+-----+\n"
      ],
      "execution_count": 13,
      "outputs": [
        {
          "output_type": "stream",
          "name": "stdout",
          "text": [
            "+----------+----+----+----+-----+----------+---------------+--------------+-------------------+----+-----+\n",
            "| Timestamp|Open|High| Low|Close|Volume_BTC|Volume_Currency|Weighted_Price|          Date_Time|Year|Month|\n",
            "+----------+----+----+----+-----+----------+---------------+--------------+-------------------+----+-----+\n",
            "|1325317920|4.39|4.39|4.39| 4.39|0.45558087|   2.0000000193|          4.39|2011-12-31 07:52:00|2011|   12|\n",
            "|1325317980| NaN| NaN| NaN|  NaN|       NaN|            NaN|           NaN|2011-12-31 07:53:00|2011|   12|\n",
            "|1325318040| NaN| NaN| NaN|  NaN|       NaN|            NaN|           NaN|2011-12-31 07:54:00|2011|   12|\n",
            "|1325318100| NaN| NaN| NaN|  NaN|       NaN|            NaN|           NaN|2011-12-31 07:55:00|2011|   12|\n",
            "|1325318160| NaN| NaN| NaN|  NaN|       NaN|            NaN|           NaN|2011-12-31 07:56:00|2011|   12|\n",
            "+----------+----+----+----+-----+----------+---------------+--------------+-------------------+----+-----+\n",
            "only showing top 5 rows\n",
            "\n"
          ]
        }
      ]
    },
    {
      "cell_type": "markdown",
      "metadata": {
        "id": "sDMJbhTbVXpz"
      },
      "source": [
        "###  <strong>Exercise 5.</strong>  Drop Timestamp (2 points)\n",
        "    \n",
        "<p align=\"justify\">\n",
        "<font size=\"3\">\n",
        "Finally we clean the schema and we can remove the the $Timestamp$ column.\n",
        "</font>\n",
        "</p>\n"
      ]
    },
    {
      "cell_type": "code",
      "metadata": {
        "id": "Qm8I1zhzVXp0",
        "colab": {
          "base_uri": "https://localhost:8080/",
          "height": 0
        },
        "outputId": "232c91b6-3198-495c-fa9c-45b611218275"
      },
      "source": [
        "# write the command that creates a new DataFrame Spark from the dfsym without the Timestamp column\n",
        "# and store the reference in the dfc variable (Data Frame Spark Clean)\n",
        "\n",
        "#'''############## WRITE YOUR CODE HERE ##############'''\n",
        "\n",
        "dfsc = dfsym.drop('Timestamp')\n",
        "\n",
        "#'''############## END OF THE EXERCISE ##############'''\n",
        "\n",
        "\n",
        "dfsc.show(5)\n",
        "\n",
        "#######################\n",
        "# Expected output:\n",
        "#+----+----+----+-----+----------+---------------+--------------+-------------------+----+-----+\n",
        "#|Open|High| Low|Close|Volume_BTC|Volume_Currency|Weighted_Price|          Date_Time|Year|Month|\n",
        "#+----+----+----+-----+----------+---------------+--------------+-------------------+----+-----+\n",
        "#|4.39|4.39|4.39| 4.39|0.45558087|   2.0000000193|          4.39|2011-12-31 07:52:00|2011|   12|\n",
        "#| NaN| NaN| NaN|  NaN|       NaN|            NaN|           NaN|2011-12-31 07:53:00|2011|   12|\n",
        "#| NaN| NaN| NaN|  NaN|       NaN|            NaN|           NaN|2011-12-31 07:54:00|2011|   12|\n",
        "#| NaN| NaN| NaN|  NaN|       NaN|            NaN|           NaN|2011-12-31 07:55:00|2011|   12|\n",
        "#| NaN| NaN| NaN|  NaN|       NaN|            NaN|           NaN|2011-12-31 07:56:00|2011|   12|\n",
        "#+----+----+----+-----+----------+---------------+--------------+-------------------+----+-----+\n"
      ],
      "execution_count": 14,
      "outputs": [
        {
          "output_type": "stream",
          "name": "stdout",
          "text": [
            "+----+----+----+-----+----------+---------------+--------------+-------------------+----+-----+\n",
            "|Open|High| Low|Close|Volume_BTC|Volume_Currency|Weighted_Price|          Date_Time|Year|Month|\n",
            "+----+----+----+-----+----------+---------------+--------------+-------------------+----+-----+\n",
            "|4.39|4.39|4.39| 4.39|0.45558087|   2.0000000193|          4.39|2011-12-31 07:52:00|2011|   12|\n",
            "| NaN| NaN| NaN|  NaN|       NaN|            NaN|           NaN|2011-12-31 07:53:00|2011|   12|\n",
            "| NaN| NaN| NaN|  NaN|       NaN|            NaN|           NaN|2011-12-31 07:54:00|2011|   12|\n",
            "| NaN| NaN| NaN|  NaN|       NaN|            NaN|           NaN|2011-12-31 07:55:00|2011|   12|\n",
            "| NaN| NaN| NaN|  NaN|       NaN|            NaN|           NaN|2011-12-31 07:56:00|2011|   12|\n",
            "+----+----+----+-----+----------+---------------+--------------+-------------------+----+-----+\n",
            "only showing top 5 rows\n",
            "\n"
          ]
        }
      ]
    },
    {
      "cell_type": "markdown",
      "metadata": {
        "id": "8dm-ovIcVXp0"
      },
      "source": [
        "#  C. Using Parquet\n",
        "\n",
        "<p align=\"justify\">\n",
        "<font size=\"3\">\n",
        "In order to gain in performance in the following it is a good idea, as we have seen at lesson, to use a NoSQL structure, here Parquet, that will \n",
        "    allow \n",
        "to partition the SparkDataframe and to store it in multiple Parquet files. \n",
        "</font>\n",
        "</p>\n",
        "\n",
        "<p align=\"justify\">\n",
        "<font size=\"3\">\n",
        "Parquet is a columnar storage format available to any project in the Hadoop ecosystem, regardless of the choice of data processing framework, data model or programming language.\n",
        "</font>\n",
        "</p>"
      ]
    },
    {
      "cell_type": "markdown",
      "metadata": {
        "id": "WicAuWMfA9xo"
      },
      "source": [
        "## C.1 Saving data in Parquet\n",
        "    \n",
        "For this first example partition the file according to:\n",
        "    \n",
        " <ul>\n",
        "     <li> the year </li>\n",
        "             <li> the month of the year </li>\n",
        "</ul>\n",
        "The $partitionBy()$ operation can help for this step (Documentation of reference: <a href=\"https://spark.apache.org/docs/latest/sql-data-sources-parquet.html\">Spark Functions</a>).\n",
        "</font>\n",
        "</p>\n",
        "\n"
      ]
    },
    {
      "cell_type": "code",
      "metadata": {
        "id": "vTR8AxS2VXp0",
        "colab": {
          "base_uri": "https://localhost:8080/",
          "height": 0
        },
        "outputId": "70aafc75-8331-4e12-a8c8-e6e403391c47"
      },
      "source": [
        "# here you can see and check the command that saves the dfsc DataFrame in Parquet\n",
        "\n",
        "dfsc.write.partitionBy([\"Year\", \"Month\"]).parquet(\"BTC/\",mode='overwrite')\n",
        "\n",
        "print(\"write to Parquet done\")\n"
      ],
      "execution_count": 15,
      "outputs": [
        {
          "output_type": "stream",
          "name": "stdout",
          "text": [
            "write to Parquet done\n"
          ]
        }
      ]
    },
    {
      "cell_type": "markdown",
      "metadata": {
        "id": "Ic-eLcr0VXp0"
      },
      "source": [
        "##  C.2 Check the folder Structure\n",
        "\n",
        " \n",
        "<p align=\"justify\">\n",
        "<font size=\"3\">\n",
        "Look at the folder structure that has been created for the storage of the file. You see how the partitioning stategy of Parquet and the data distribution of Spark can be used, explicitely or implicitely, to improve performance.\n",
        "\n",
        "While you navigate (and the folder structure) data remember that in the data access:\n",
        "    \n",
        " <ul>\n",
        "     <li> the navigation is done using Parquet </li>\n",
        "     <li> the leaf contain the encoded Parquet files </li>\n",
        "</ul>\n",
        "</font>\n",
        "</p>\n",
        "\n",
        "\n"
      ]
    },
    {
      "cell_type": "code",
      "metadata": {
        "id": "dC1C75uIVXp1"
      },
      "source": [
        "#BTC\n",
        "#        ├── Year=2011\n",
        "#        │   ├── ...\n",
        "#        │   │\n",
        "#        │   ├── month=12\n",
        "#        ├── Year=2012\n",
        "#        │   ├── month=1\n",
        "#        │   ├── ...\n",
        "#        │   │\n",
        "#       ...\n",
        "        \n"
      ],
      "execution_count": 16,
      "outputs": []
    },
    {
      "cell_type": "markdown",
      "metadata": {
        "id": "4JeyD03ipig_"
      },
      "source": [
        "This folder structure correspond to a phisical and logical data partition and "
      ]
    },
    {
      "cell_type": "markdown",
      "metadata": {
        "id": "gMCbaNcPVXp1"
      },
      "source": [
        "# D. Pandas\n",
        "\n",
        " \n",
        "<p align=\"justify\">\n",
        "<font size=\"3\">\n",
        "This data organization opens the opportunity to read data also using Pandas and not using Parquet.\n",
        "    \n",
        "Look at the documentation and check how you can read a Parquet structure and store it in a Pandas DataFrame:\n",
        "<a href=\"https://pandas.pydata.org/pandas-docs/stable/reference/api/pandas.read_parquet.html\">Pandas and Parquet</a>\n",
        "\n",
        "Notice how at the data-exchange base there is the presence of Arrow (thanks to $pyarrow$).\n",
        "</font>\n",
        "</p>\n",
        "\n",
        "\n",
        "<p align=\"justify\">\n",
        "<font size=\"3\">\n",
        "Write the command that using Pandas read the data for the year 2011.\n",
        "    \n",
        "</font>\n",
        "</p>"
      ]
    },
    {
      "cell_type": "code",
      "metadata": {
        "id": "B11RsK9YVXp1"
      },
      "source": [
        "#import of pandas\n",
        "import pandas as pd"
      ],
      "execution_count": 17,
      "outputs": []
    },
    {
      "cell_type": "code",
      "metadata": {
        "id": "jlRYuW0hVXp1",
        "scrolled": true,
        "colab": {
          "base_uri": "https://localhost:8080/",
          "height": 175
        },
        "outputId": "fac886ca-0598-4ff3-e5ae-03dbbd219fee"
      },
      "source": [
        "# Here we show you how we can create DataFrame using Pandas functions and reading from Parquet the data only for the year 2011/\n",
        "\n",
        "df = pd.read_parquet(\"BTC/Year=2011\")\n",
        "\n",
        "df[0:4]\n",
        "\n",
        "#######################\n",
        "# Check the expected output:\n",
        "#Open\tHigh\tLow\tClose\tVolume_BTC\tVolume_Currency\tWeighted_Price\tDate_Time\tMonth\n",
        "#0\t4.39\t4.39\t4.39\t4.39\t0.455581\t2.0\t4.39\t2011-12-31 07:52:00\t12\n",
        "#1\tNaN\tNaN\tNaN\tNaN\tNaN\tNaN\tNaN\t2011-12-31 07:53:00\t12\n",
        "#2\tNaN\tNaN\tNaN\tNaN\tNaN\tNaN\tNaN\t2011-12-31 07:54:00\t12\n",
        "#3\tNaN\tNaN\tNaN\tNaN\tNaN\tNaN\tNaN\t2011-12-31 07:55:00\t12\n",
        "#..."
      ],
      "execution_count": 18,
      "outputs": [
        {
          "output_type": "execute_result",
          "data": {
            "text/html": [
              "<div>\n",
              "<style scoped>\n",
              "    .dataframe tbody tr th:only-of-type {\n",
              "        vertical-align: middle;\n",
              "    }\n",
              "\n",
              "    .dataframe tbody tr th {\n",
              "        vertical-align: top;\n",
              "    }\n",
              "\n",
              "    .dataframe thead th {\n",
              "        text-align: right;\n",
              "    }\n",
              "</style>\n",
              "<table border=\"1\" class=\"dataframe\">\n",
              "  <thead>\n",
              "    <tr style=\"text-align: right;\">\n",
              "      <th></th>\n",
              "      <th>Open</th>\n",
              "      <th>High</th>\n",
              "      <th>Low</th>\n",
              "      <th>Close</th>\n",
              "      <th>Volume_BTC</th>\n",
              "      <th>Volume_Currency</th>\n",
              "      <th>Weighted_Price</th>\n",
              "      <th>Date_Time</th>\n",
              "      <th>Month</th>\n",
              "    </tr>\n",
              "  </thead>\n",
              "  <tbody>\n",
              "    <tr>\n",
              "      <th>0</th>\n",
              "      <td>4.39</td>\n",
              "      <td>4.39</td>\n",
              "      <td>4.39</td>\n",
              "      <td>4.39</td>\n",
              "      <td>0.455581</td>\n",
              "      <td>2.0</td>\n",
              "      <td>4.39</td>\n",
              "      <td>2011-12-31 07:52:00</td>\n",
              "      <td>12</td>\n",
              "    </tr>\n",
              "    <tr>\n",
              "      <th>1</th>\n",
              "      <td>NaN</td>\n",
              "      <td>NaN</td>\n",
              "      <td>NaN</td>\n",
              "      <td>NaN</td>\n",
              "      <td>NaN</td>\n",
              "      <td>NaN</td>\n",
              "      <td>NaN</td>\n",
              "      <td>2011-12-31 07:53:00</td>\n",
              "      <td>12</td>\n",
              "    </tr>\n",
              "    <tr>\n",
              "      <th>2</th>\n",
              "      <td>NaN</td>\n",
              "      <td>NaN</td>\n",
              "      <td>NaN</td>\n",
              "      <td>NaN</td>\n",
              "      <td>NaN</td>\n",
              "      <td>NaN</td>\n",
              "      <td>NaN</td>\n",
              "      <td>2011-12-31 07:54:00</td>\n",
              "      <td>12</td>\n",
              "    </tr>\n",
              "    <tr>\n",
              "      <th>3</th>\n",
              "      <td>NaN</td>\n",
              "      <td>NaN</td>\n",
              "      <td>NaN</td>\n",
              "      <td>NaN</td>\n",
              "      <td>NaN</td>\n",
              "      <td>NaN</td>\n",
              "      <td>NaN</td>\n",
              "      <td>2011-12-31 07:55:00</td>\n",
              "      <td>12</td>\n",
              "    </tr>\n",
              "  </tbody>\n",
              "</table>\n",
              "</div>"
            ],
            "text/plain": [
              "   Open  High   Low  ...  Weighted_Price           Date_Time  Month\n",
              "0  4.39  4.39  4.39  ...            4.39 2011-12-31 07:52:00     12\n",
              "1   NaN   NaN   NaN  ...             NaN 2011-12-31 07:53:00     12\n",
              "2   NaN   NaN   NaN  ...             NaN 2011-12-31 07:54:00     12\n",
              "3   NaN   NaN   NaN  ...             NaN 2011-12-31 07:55:00     12\n",
              "\n",
              "[4 rows x 9 columns]"
            ]
          },
          "metadata": {},
          "execution_count": 18
        }
      ]
    },
    {
      "cell_type": "markdown",
      "metadata": {
        "id": "GAYamKaEVXp1"
      },
      "source": [
        "###  D.1 Read Parquet file\n",
        "    \n",
        "<p align=\"justify\">\n",
        "<font size=\"3\">\n",
        "Here you can see now the the Spark DataFrame is created from Parquet data.\n",
        "</font>\n",
        "</p>"
      ]
    },
    {
      "cell_type": "code",
      "metadata": {
        "id": "6C0iA8SqVXp2",
        "colab": {
          "base_uri": "https://localhost:8080/",
          "height": 0
        },
        "outputId": "eec273fc-371a-45c0-ca48-bf83e476e978"
      },
      "source": [
        "# And here how we can create a DataFrame using Spark and reading the whole data/\n",
        "\n",
        "dfs = spark.read.parquet(\"BTC/\")\n",
        "\n",
        "print(\"read done\")"
      ],
      "execution_count": 19,
      "outputs": [
        {
          "output_type": "stream",
          "name": "stdout",
          "text": [
            "read done\n"
          ]
        }
      ]
    },
    {
      "cell_type": "markdown",
      "metadata": {
        "id": "cjH0cqC5VXp2"
      },
      "source": [
        "## <strong>Exercise 6</strong>. Verify number of column and count the number of rows (2 points)\n",
        "    \n",
        "<p align=\"justify\">\n",
        "Maybe you have not noticed that the volume of data we are treating is not so small as it seems. \n",
        "Count how many rows we are manipulating in the dataframe <code>dfs</code>\n",
        "<font size=\"3\">\n",
        "</font>\n",
        "</p>"
      ]
    },
    {
      "cell_type": "code",
      "metadata": {
        "id": "nYqK9VD8VXp2",
        "colab": {
          "base_uri": "https://localhost:8080/",
          "height": 0
        },
        "outputId": "021e6dd8-d9e7-4851-d215-f38232b62ea0"
      },
      "source": [
        "# Write the command that returns the number of rows of the DataFrame\n",
        "\n",
        "#'''############## WRITE YOUR ANSWER HERE ##############'''\n",
        "count = dfs.count()\n",
        "#'''############## END OF THE EXERCISE ##############'''\n",
        "\n",
        "print(count)\n",
        "\n",
        "#######################\n",
        "# Expected output:\n",
        "# 4857377"
      ],
      "execution_count": 20,
      "outputs": [
        {
          "output_type": "stream",
          "name": "stdout",
          "text": [
            "4857377\n"
          ]
        }
      ]
    },
    {
      "cell_type": "code",
      "metadata": {
        "id": "ZJVbEunCVXp2",
        "colab": {
          "base_uri": "https://localhost:8080/",
          "height": 0
        },
        "outputId": "64414e23-0e6d-4300-9d4b-91661036e930"
      },
      "source": [
        "#We can also check and verify the schema of the DataFrame\n",
        "dfs.printSchema()"
      ],
      "execution_count": 21,
      "outputs": [
        {
          "output_type": "stream",
          "name": "stdout",
          "text": [
            "root\n",
            " |-- Open: double (nullable = true)\n",
            " |-- High: double (nullable = true)\n",
            " |-- Low: double (nullable = true)\n",
            " |-- Close: double (nullable = true)\n",
            " |-- Volume_BTC: double (nullable = true)\n",
            " |-- Volume_Currency: double (nullable = true)\n",
            " |-- Weighted_Price: double (nullable = true)\n",
            " |-- Date_Time: timestamp (nullable = true)\n",
            " |-- Year: integer (nullable = true)\n",
            " |-- Month: integer (nullable = true)\n",
            "\n"
          ]
        }
      ]
    },
    {
      "cell_type": "markdown",
      "metadata": {
        "id": "SoAfjdAuVXp3"
      },
      "source": [
        "# E. Statistics\n",
        "\n",
        "<p align=\"justify\">\n",
        "<font size=\"3\">\n",
        "We want to calculate the statistics of the bitcoin by month for all the years.\n",
        "\n",
        "The computed statistics will be stored in a DataFrame having this schema\n",
        "<ul>\n",
        "     <li>   Mean_Vol  : double </li>\n",
        "     <li>   Std_Vol   : double </li>\n",
        "     <li>   Min_Vol   : double </li>\n",
        "     <li>   Max_vol   : double </li>\n",
        "     <li>   Year      : int </li>\n",
        "     <li>   Month     : int </li>\n",
        "  \n",
        "</ul>\n",
        "\n",
        "In this exercise you will have two develop different methodologies to compute the statistics:\n",
        "<ul>\n",
        "    <li>   using the <code>applyInPandas()</code> Pyspark function and the Pandas functions </li>\n",
        "     <li>  only using the Pyspark functionnalities </li>\n",
        "</ul>\n",
        "The statistics computed should be stored in a Pandas DataFrame with both the two approaches.\n",
        "</font>\n",
        "</p>"
      ]
    },
    {
      "cell_type": "markdown",
      "metadata": {
        "id": "Gts_hy5HVXp4"
      },
      "source": [
        "## E.1. Spark applyinPandas\n",
        "<p align=\"justify\">\n",
        "<font size=\"3\">\n",
        "The solution with $applyinPandas$ \n",
        "</font>\n",
        "</p>"
      ]
    },
    {
      "cell_type": "code",
      "metadata": {
        "id": "icjKlPHcVXp4"
      },
      "source": [
        "\n",
        "# the Python function that must be used. \n",
        "\n",
        "def compute_stats(key,df):\n",
        "    res = df[\"Volume_BTC\"].describe()\n",
        "\n",
        "    res_dict = {}\n",
        "    for index, value in res.items():\n",
        "\n",
        "        if index == \"mean\":\n",
        "            res_dict[\"Mean_Vol\"] = value\n",
        "        elif index == \"std\":\n",
        "            res_dict[\"Std_Vol\"] = value\n",
        "        elif index == \"min\":\n",
        "            res_dict[\"Min_Vol\"] = value\n",
        "        elif index == \"max\":\n",
        "            res_dict[\"Max_Vol\"] = value\n",
        "\n",
        "    final =  pd.DataFrame([res_dict])\n",
        "    final[\"Year\"]  = key[0]\n",
        "    final[\"Month\"] = key[1]\n",
        "    \n",
        "    return final"
      ],
      "execution_count": 22,
      "outputs": []
    },
    {
      "cell_type": "markdown",
      "metadata": {
        "id": "JsqKcxxNVXp4"
      },
      "source": [
        "### <strong>Exercise 7</strong>. The two parameters of the Python function (2 points)\n",
        "The two parameters of the Python <code>applyinPandas(funct,schema)</code> function (2 points)\n",
        "<p align=\"justify\">\n",
        "<font size=\"3\">\n",
        "    Look at the documentation of the <code>applyinPandas(funct,schema)</code> (<a href=\"https://spark.apache.org/docs/latest/api/python/reference/api/pyspark.sql.GroupedData.applyInPandas.html\">click here to go to the documentation of <code>applyinpandas</code></a>) and describe how it works in detail from the DataFrame point of view in our example (what the $key$ and the $df$ will contain in our example).\n",
        "\n",
        "</font>\n",
        "</p>"
      ]
    },
    {
      "cell_type": "markdown",
      "metadata": {
        "id": "99_WnUHTVXp5"
      },
      "source": [
        "##### **1.** <code>applyinPandas(funct,schema)</code> is used on a pyspark dataframe. it transform the pyspark dataframe to a pandas dataframe, and pass this pandas dataframe as df to the funct. And it pass group columns as key to the funct. \n",
        "\n",
        "##### **2.** The funct return pandas dataframe with columns define by the schema variable.\n",
        "\n",
        "##### **3.** As a result, the datafrmae returned from the funct is transformed to a pyspark dataframe.\n",
        "\n",
        "##### **4.** In this example, <code>applyinPandas</code> pass pandas dataframe as $df$ and ('Year' 'Month') as $key$ to function <code>compute_stats</code> to compute metrics by key group, then <code>applyinPandas</code> transform the result of <code>compute_stats</code> with column $schema$ format to a pyspark dataframe.\n",
        "\n",
        "\n",
        "\n"
      ]
    },
    {
      "cell_type": "markdown",
      "metadata": {
        "id": "shVh5lBcVXp5"
      },
      "source": [
        "### <strong>Exercise 8</strong>. The two parameters in action (1 point)\n",
        "<p align=\"justify\">\n",
        "<font size=\"3\">\n",
        "Compute the statistics using then the $applyInPandas$ and the provided functions. \n",
        "\n",
        "</font>\n",
        "</p>"
      ]
    },
    {
      "cell_type": "code",
      "metadata": {
        "id": "IebDul7NVXp6",
        "colab": {
          "base_uri": "https://localhost:8080/",
          "height": 0
        },
        "outputId": "d42ce456-0aa7-4eb6-bb68-2a55013c0439"
      },
      "source": [
        "schema = \"Mean_Vol double, Std_Vol double, Min_Vol double, Max_Vol double, Year int, Month int\"\n",
        "\n",
        "# Write the command that will store in the variable statsdf the DataFrame \n",
        "\n",
        "#'''############## WRITE YOUR ANSWER HERE ##############'''\n",
        "\n",
        "statsdf = dfs.groupby('Year', 'Month').applyInPandas(compute_stats, schema=\"Mean_Vol double, Std_Vol double, Min_Vol double, Max_Vol double, Year int, Month int\")\n",
        "\n",
        "#'''############## END OF THE EXERCISE ##############'''\n",
        "\n",
        "statsdf.show(5)\n",
        "\n",
        "\n",
        "####### EXPECTED OUTPUT\n",
        "#+------------------+------------------+----------+------------+----+-----+\n",
        "#|          Mean_Vol|           Std_Vol|   Min_Vol|     Max_Vol|Year|Month|\n",
        "#+------------------+------------------+----------+------------+----+-----+\n",
        "#| 20.39613620802532| 54.24699556644988|    9.4E-5|2258.8231405|2012|   10|\n",
        "#|12.095179597807542|44.149334198665166| 2.0452E-4|2037.2239038|2015|    2|\n",
        "#| 6.147061206279663|17.745599117954125|0.00127783|564.21436237|2019|   10|\n",
        "#| 8.468866447160776|  28.9837002907642|    1.0E-8|1616.0600006|2017|    3|\n",
        "#| 8.684880075589284| 17.69646210434965|       0.0|533.10078293|2017|    8|\n",
        "#+------------------+------------------+----------+------------+----+-----+#"
      ],
      "execution_count": 23,
      "outputs": [
        {
          "output_type": "stream",
          "name": "stdout",
          "text": [
            "+------------------+------------------+----------+------------+----+-----+\n",
            "|          Mean_Vol|           Std_Vol|   Min_Vol|     Max_Vol|Year|Month|\n",
            "+------------------+------------------+----------+------------+----+-----+\n",
            "| 20.39613620802532| 54.24699556644988|    9.4E-5|2258.8231405|2012|   10|\n",
            "|12.095179597807542|44.149334198665166| 2.0452E-4|2037.2239038|2015|    2|\n",
            "| 6.147061206279663|17.745599117954125|0.00127783|564.21436237|2019|   10|\n",
            "| 8.468866447160776|  28.9837002907642|    1.0E-8|1616.0600006|2017|    3|\n",
            "| 8.684880075589284| 17.69646210434965|       0.0|533.10078293|2017|    8|\n",
            "+------------------+------------------+----------+------------+----+-----+\n",
            "only showing top 5 rows\n",
            "\n"
          ]
        }
      ]
    },
    {
      "cell_type": "markdown",
      "metadata": {
        "id": "C6Pdf1N-VXp6"
      },
      "source": [
        "### <strong>Exercise 9</strong>. The statsdf DataFrame (1 point)\n",
        "<p align=\"justify\">\n",
        "<font size=\"3\">\n",
        "Which kind of DataFrame is statsdf?\n",
        "</font>\n",
        "</p>"
      ]
    },
    {
      "cell_type": "markdown",
      "metadata": {
        "id": "RbXKRuBEVXp6"
      },
      "source": [
        "#### **pyspark dataframe**\n",
        "\n",
        "using type(statsdf) we get output: \n",
        "\n",
        "pyspark.sql.dataframe.DataFrame\n",
        "\n",
        "using statsdf.take(1) we get output:\n",
        "\n",
        "[Row(Mean_Vol=21.68391320646053, Std_Vol=36.39353845336437, Min_Vol=0.00127551, Max_Vol=300.51609759, Year=2012, Month=4)]"
      ]
    },
    {
      "cell_type": "markdown",
      "metadata": {
        "id": "lgGmWPhSVXp7"
      },
      "source": [
        "\n",
        "### <strong>Exercise 10</strong>. DataFrame in Pandas (2 points)\n",
        "\n",
        "\n",
        "<p align=\"justify\">\n",
        "<font size=\"3\">\n",
        "Since we computed a stat by month the results will be small (we will have only one row by month)\n",
        "we can get and handle all the results in memory in Pandas.  \n",
        "    \n",
        "Notice that Spark is lazy so the $toPandas$ action will trigger the computation.\n",
        "    \n",
        "Write the command that will do the operation.\n",
        "    \n",
        "</font>\n",
        "</p>\n",
        "\n"
      ]
    },
    {
      "cell_type": "code",
      "metadata": {
        "id": "Wupi4CTgVXp7",
        "colab": {
          "base_uri": "https://localhost:8080/",
          "height": 0
        },
        "outputId": "2e456469-a667-413e-ca5a-b3aeb94ab9c2"
      },
      "source": [
        "%%time\n",
        "\n",
        "# Write the command that will store in the variable stats_dfp the outoput DataFrame \n",
        "\n",
        "#'''############## WRITE YOUR ANSWER HERE ##############'''\n",
        "\n",
        "stats_dfp = statsdf.toPandas()\n",
        "\n",
        "#'''############## END OF THE EXERCISE ##############'''"
      ],
      "execution_count": 24,
      "outputs": [
        {
          "output_type": "stream",
          "name": "stdout",
          "text": [
            "CPU times: user 142 ms, sys: 23.7 ms, total: 166 ms\n",
            "Wall time: 19.1 s\n"
          ]
        }
      ]
    },
    {
      "cell_type": "code",
      "metadata": {
        "id": "Ve6u_nzSVXp8",
        "colab": {
          "base_uri": "https://localhost:8080/",
          "height": 363
        },
        "outputId": "e0e72f1f-7bfa-4113-a4ee-3b1a094eb6d7"
      },
      "source": [
        "#results\n",
        "stats_dfp.head(10)\n",
        "\n",
        "#######################\n",
        "# Expected output:\n",
        "#\tMean_Vol\tStd_Vol\tMin_Vol\tMax_Vol\tYear\tMonth\n",
        "#0\t20.396136\t54.246996\t9.400000e-05\t2258.823141\t2012\t10\n",
        "#1\t12.095180\t44.149334\t2.045200e-04\t2037.223904\t2015\t2\n",
        "#2\t6.147061\t17.745599\t1.277830e-03\t564.214362\t2019\t10\n",
        "#3\t8.468866\t28.983700\t1.000000e-08\t1616.060001\t2017\t3\n",
        "#4\t8.684880\t17.696462\t0.000000e+00\t533.100783\t2017\t8\n",
        "#5\t16.040933\t57.641501\t2.044000e-05\t4111.876106\t2014\t4\n",
        "#6\t4.984386\t18.903445\t1.054000e-05\t822.866974\t2020\t6\n",
        "#7\t8.331579\t18.350084\t5.758000e-04\t806.636224\t2019\t5\n",
        "#8\t8.621910\t18.820399\t4.047000e-04\t602.282607\t2017\t10\n",
        "#9\t3.106413\t10.738051\t3.300000e-06\t582.564185\t2018\t10"
      ],
      "execution_count": 25,
      "outputs": [
        {
          "output_type": "execute_result",
          "data": {
            "text/html": [
              "<div>\n",
              "<style scoped>\n",
              "    .dataframe tbody tr th:only-of-type {\n",
              "        vertical-align: middle;\n",
              "    }\n",
              "\n",
              "    .dataframe tbody tr th {\n",
              "        vertical-align: top;\n",
              "    }\n",
              "\n",
              "    .dataframe thead th {\n",
              "        text-align: right;\n",
              "    }\n",
              "</style>\n",
              "<table border=\"1\" class=\"dataframe\">\n",
              "  <thead>\n",
              "    <tr style=\"text-align: right;\">\n",
              "      <th></th>\n",
              "      <th>Mean_Vol</th>\n",
              "      <th>Std_Vol</th>\n",
              "      <th>Min_Vol</th>\n",
              "      <th>Max_Vol</th>\n",
              "      <th>Year</th>\n",
              "      <th>Month</th>\n",
              "    </tr>\n",
              "  </thead>\n",
              "  <tbody>\n",
              "    <tr>\n",
              "      <th>0</th>\n",
              "      <td>20.396136</td>\n",
              "      <td>54.246996</td>\n",
              "      <td>9.400000e-05</td>\n",
              "      <td>2258.823141</td>\n",
              "      <td>2012</td>\n",
              "      <td>10</td>\n",
              "    </tr>\n",
              "    <tr>\n",
              "      <th>1</th>\n",
              "      <td>12.095180</td>\n",
              "      <td>44.149334</td>\n",
              "      <td>2.045200e-04</td>\n",
              "      <td>2037.223904</td>\n",
              "      <td>2015</td>\n",
              "      <td>2</td>\n",
              "    </tr>\n",
              "    <tr>\n",
              "      <th>2</th>\n",
              "      <td>6.147061</td>\n",
              "      <td>17.745599</td>\n",
              "      <td>1.277830e-03</td>\n",
              "      <td>564.214362</td>\n",
              "      <td>2019</td>\n",
              "      <td>10</td>\n",
              "    </tr>\n",
              "    <tr>\n",
              "      <th>3</th>\n",
              "      <td>8.468866</td>\n",
              "      <td>28.983700</td>\n",
              "      <td>1.000000e-08</td>\n",
              "      <td>1616.060001</td>\n",
              "      <td>2017</td>\n",
              "      <td>3</td>\n",
              "    </tr>\n",
              "    <tr>\n",
              "      <th>4</th>\n",
              "      <td>8.684880</td>\n",
              "      <td>17.696462</td>\n",
              "      <td>0.000000e+00</td>\n",
              "      <td>533.100783</td>\n",
              "      <td>2017</td>\n",
              "      <td>8</td>\n",
              "    </tr>\n",
              "    <tr>\n",
              "      <th>5</th>\n",
              "      <td>16.040933</td>\n",
              "      <td>57.641501</td>\n",
              "      <td>2.044000e-05</td>\n",
              "      <td>4111.876106</td>\n",
              "      <td>2014</td>\n",
              "      <td>4</td>\n",
              "    </tr>\n",
              "    <tr>\n",
              "      <th>6</th>\n",
              "      <td>4.984386</td>\n",
              "      <td>18.903445</td>\n",
              "      <td>1.054000e-05</td>\n",
              "      <td>822.866974</td>\n",
              "      <td>2020</td>\n",
              "      <td>6</td>\n",
              "    </tr>\n",
              "    <tr>\n",
              "      <th>7</th>\n",
              "      <td>8.331579</td>\n",
              "      <td>18.350084</td>\n",
              "      <td>5.758000e-04</td>\n",
              "      <td>806.636224</td>\n",
              "      <td>2019</td>\n",
              "      <td>5</td>\n",
              "    </tr>\n",
              "    <tr>\n",
              "      <th>8</th>\n",
              "      <td>8.621910</td>\n",
              "      <td>18.820399</td>\n",
              "      <td>4.047000e-04</td>\n",
              "      <td>602.282607</td>\n",
              "      <td>2017</td>\n",
              "      <td>10</td>\n",
              "    </tr>\n",
              "    <tr>\n",
              "      <th>9</th>\n",
              "      <td>3.106413</td>\n",
              "      <td>10.738051</td>\n",
              "      <td>3.300000e-06</td>\n",
              "      <td>582.564185</td>\n",
              "      <td>2018</td>\n",
              "      <td>10</td>\n",
              "    </tr>\n",
              "  </tbody>\n",
              "</table>\n",
              "</div>"
            ],
            "text/plain": [
              "    Mean_Vol    Std_Vol       Min_Vol      Max_Vol  Year  Month\n",
              "0  20.396136  54.246996  9.400000e-05  2258.823141  2012     10\n",
              "1  12.095180  44.149334  2.045200e-04  2037.223904  2015      2\n",
              "2   6.147061  17.745599  1.277830e-03   564.214362  2019     10\n",
              "3   8.468866  28.983700  1.000000e-08  1616.060001  2017      3\n",
              "4   8.684880  17.696462  0.000000e+00   533.100783  2017      8\n",
              "5  16.040933  57.641501  2.044000e-05  4111.876106  2014      4\n",
              "6   4.984386  18.903445  1.054000e-05   822.866974  2020      6\n",
              "7   8.331579  18.350084  5.758000e-04   806.636224  2019      5\n",
              "8   8.621910  18.820399  4.047000e-04   602.282607  2017     10\n",
              "9   3.106413  10.738051  3.300000e-06   582.564185  2018     10"
            ]
          },
          "metadata": {},
          "execution_count": 25
        }
      ]
    },
    {
      "cell_type": "markdown",
      "metadata": {
        "id": "LX4X2ioqVXp8"
      },
      "source": [
        "###  <strong>Exercise 11</strong>. Show the stats of the stats (1 point)\n",
        "\n",
        "\n",
        "<p align=\"justify\">\n",
        "<font size=\"3\">\n",
        "We want to calculate the statistics of the bitcoin by month for all the years.\n",
        "\n",
        "The computed statistics will be stored in a DataFrame having this schema\n",
        "<ul>\n",
        "     <li>   the min of the set min values </li>\n",
        "     <li>   the mean of the set of mean values </li>\n",
        "     <li>   ... </li> \n",
        "</ul>\n",
        "\n",
        "\n",
        "    \n",
        "</font>\n",
        "</p>\n"
      ]
    },
    {
      "cell_type": "code",
      "metadata": {
        "id": "4FFQDxOyVXp8",
        "colab": {
          "base_uri": "https://localhost:8080/",
          "height": 206
        },
        "outputId": "bbaad1c0-55d2-4a40-8b99-cbd0a332b8d4"
      },
      "source": [
        "# Write the command that will show and compute the stats on the numerical columns of the statsdf DataFrame\n",
        "\n",
        "#'''############## WRITE YOUR ANSWER HERE ##############'''\n",
        "\n",
        "stats_stats_dfp_summary = pd.DataFrame(['count', 'mean', 'stddev', 'min', 'max'])\n",
        "\n",
        "stats_stats_list = [[len(stats_dfp[column]),\\\n",
        "        np.mean(stats_dfp[column]),\\\n",
        "        np.std(stats_dfp[column]),\\\n",
        "        np.min(stats_dfp[column]),\\\n",
        "        np.max(stats_dfp[column])] for column in stats_dfp.columns]\n",
        "stats_stats_dfp_info = pd.DataFrame(stats_stats_list).transpose()\n",
        "\n",
        "stats_stats_dfp = pd.concat([stats_stats_dfp_summary,stats_stats_dfp_info],axis=1,ignore_index=True)\n",
        "stats_stats_dfp.columns = ['summary','Mean_Vol','Std_Vol','Min_Vol','Max_Vol','Year','Month']\n",
        "\n",
        "stats_stats_dfp\n",
        "\n",
        "#'''############## END OF THE EXERCISE ##############'''\n",
        "\n",
        "\n",
        "#######################\n",
        "# Expected output:\n",
        "#+-------+------------------+------------------+--------------------+------------------+------------------+------------------+\n",
        "#|summary|          Mean_Vol|           Std_Vol|             Min_Vol|           Max_Vol|              Year|             Month|\n",
        "#+-------+------------------+------------------+--------------------+------------------+------------------+------------------+\n",
        "#|  count|               112|               112|                 112|               112|               112|               112|\n",
        "#|   mean|10.782191354847754|28.871463944232485|0.004551177678571...|1067.2847720235718|2016.0892857142858| 6.428571428571429|\n",
        "#| stddev| 6.488551661205522| 18.11344145463867|0.043048607639448476| 895.8083462469303|2.7164947320662614|3.5252353718985097|\n",
        "#|    min| 2.929999689326444| 6.490701567379118|                 0.0|       43.31219578|              2011|                 1|\n",
        "#|    max|31.504423573146152|106.97606692383131|          0.45558087|      5853.8521659|              2021|                12|\n",
        "#+-------+------------------+------------------+--------------------+------------------+------------------+------------------+\n"
      ],
      "execution_count": 26,
      "outputs": [
        {
          "output_type": "execute_result",
          "data": {
            "text/html": [
              "<div>\n",
              "<style scoped>\n",
              "    .dataframe tbody tr th:only-of-type {\n",
              "        vertical-align: middle;\n",
              "    }\n",
              "\n",
              "    .dataframe tbody tr th {\n",
              "        vertical-align: top;\n",
              "    }\n",
              "\n",
              "    .dataframe thead th {\n",
              "        text-align: right;\n",
              "    }\n",
              "</style>\n",
              "<table border=\"1\" class=\"dataframe\">\n",
              "  <thead>\n",
              "    <tr style=\"text-align: right;\">\n",
              "      <th></th>\n",
              "      <th>summary</th>\n",
              "      <th>Mean_Vol</th>\n",
              "      <th>Std_Vol</th>\n",
              "      <th>Min_Vol</th>\n",
              "      <th>Max_Vol</th>\n",
              "      <th>Year</th>\n",
              "      <th>Month</th>\n",
              "    </tr>\n",
              "  </thead>\n",
              "  <tbody>\n",
              "    <tr>\n",
              "      <th>0</th>\n",
              "      <td>count</td>\n",
              "      <td>112.000000</td>\n",
              "      <td>112.000000</td>\n",
              "      <td>112.000000</td>\n",
              "      <td>112.000000</td>\n",
              "      <td>112.000000</td>\n",
              "      <td>112.000000</td>\n",
              "    </tr>\n",
              "    <tr>\n",
              "      <th>1</th>\n",
              "      <td>mean</td>\n",
              "      <td>10.782191</td>\n",
              "      <td>28.871464</td>\n",
              "      <td>0.004551</td>\n",
              "      <td>1067.284772</td>\n",
              "      <td>2016.089286</td>\n",
              "      <td>6.428571</td>\n",
              "    </tr>\n",
              "    <tr>\n",
              "      <th>2</th>\n",
              "      <td>stddev</td>\n",
              "      <td>6.459520</td>\n",
              "      <td>18.032397</td>\n",
              "      <td>0.042856</td>\n",
              "      <td>891.800235</td>\n",
              "      <td>2.704340</td>\n",
              "      <td>3.509462</td>\n",
              "    </tr>\n",
              "    <tr>\n",
              "      <th>3</th>\n",
              "      <td>min</td>\n",
              "      <td>2.930000</td>\n",
              "      <td>6.490702</td>\n",
              "      <td>0.000000</td>\n",
              "      <td>43.312196</td>\n",
              "      <td>2011.000000</td>\n",
              "      <td>1.000000</td>\n",
              "    </tr>\n",
              "    <tr>\n",
              "      <th>4</th>\n",
              "      <td>max</td>\n",
              "      <td>31.504424</td>\n",
              "      <td>106.976067</td>\n",
              "      <td>0.455581</td>\n",
              "      <td>5853.852166</td>\n",
              "      <td>2021.000000</td>\n",
              "      <td>12.000000</td>\n",
              "    </tr>\n",
              "  </tbody>\n",
              "</table>\n",
              "</div>"
            ],
            "text/plain": [
              "  summary    Mean_Vol     Std_Vol  ...      Max_Vol         Year       Month\n",
              "0   count  112.000000  112.000000  ...   112.000000   112.000000  112.000000\n",
              "1    mean   10.782191   28.871464  ...  1067.284772  2016.089286    6.428571\n",
              "2  stddev    6.459520   18.032397  ...   891.800235     2.704340    3.509462\n",
              "3     min    2.930000    6.490702  ...    43.312196  2011.000000    1.000000\n",
              "4     max   31.504424  106.976067  ...  5853.852166  2021.000000   12.000000\n",
              "\n",
              "[5 rows x 7 columns]"
            ]
          },
          "metadata": {},
          "execution_count": 26
        }
      ]
    },
    {
      "cell_type": "markdown",
      "metadata": {
        "id": "_wtYR3CaVXp8"
      },
      "source": [
        "# F. Plotting and equivalence \n",
        "<p align=\"justify\">\n",
        "<font size=\"3\">\n",
        "We want to plot the resutls of the statistics by year and month (that will be in the $x$ orizontal axis of the plot). \n",
        "\n",
        "$Plotly$ will be used for the plotting\n",
        "    \n",
        "\n",
        "This provided version of the code is fully working in Python.\n",
        "    \n",
        "\n",
        "A Python routine converts the two columns $Year$ and $Month$ into a $DateTime$ column 'Date' (in order to plot the data in relation with the date).\n",
        "    \n",
        "</font>\n",
        "</p>\n",
        "\n"
      ]
    },
    {
      "cell_type": "code",
      "metadata": {
        "id": "5E1eQmpJVXp9",
        "colab": {
          "base_uri": "https://localhost:8080/",
          "height": 69
        },
        "outputId": "7bf788c9-7822-4cb2-df24-a562b56f95c0"
      },
      "source": [
        "#install plotly and import the libraries\n",
        "\n",
        "!pip install plotly\n",
        "\n",
        "from plotly.offline import iplot,init_notebook_mode\n",
        "import plotly.graph_objects as go\n",
        "\n",
        "init_notebook_mode(connected=True)"
      ],
      "execution_count": 27,
      "outputs": [
        {
          "output_type": "stream",
          "name": "stdout",
          "text": [
            "Requirement already satisfied: plotly in /usr/local/lib/python3.7/dist-packages (4.4.1)\n",
            "Requirement already satisfied: six in /usr/local/lib/python3.7/dist-packages (from plotly) (1.15.0)\n",
            "Requirement already satisfied: retrying>=1.3.3 in /usr/local/lib/python3.7/dist-packages (from plotly) (1.3.3)\n"
          ]
        },
        {
          "output_type": "display_data",
          "data": {
            "text/html": [
              "        <script type=\"text/javascript\">\n",
              "        window.PlotlyConfig = {MathJaxConfig: 'local'};\n",
              "        if (window.MathJax) {MathJax.Hub.Config({SVG: {font: \"STIX-Web\"}});}\n",
              "        if (typeof require !== 'undefined') {\n",
              "        require.undef(\"plotly\");\n",
              "        requirejs.config({\n",
              "            paths: {\n",
              "                'plotly': ['https://cdn.plot.ly/plotly-latest.min']\n",
              "            }\n",
              "        });\n",
              "        require(['plotly'], function(Plotly) {\n",
              "            window._Plotly = Plotly;\n",
              "        });\n",
              "        }\n",
              "        </script>\n",
              "        "
            ]
          },
          "metadata": {}
        }
      ]
    },
    {
      "cell_type": "code",
      "metadata": {
        "id": "wlyn4HLZVXp9"
      },
      "source": [
        "#Helper function that converts the Year Month of our data into Date type\n",
        "\n",
        "def get_date_from_year_month(df):\n",
        "    df[\"Date\"] = pd.to_datetime(df['Year'].astype(str) + '-' + df['Month'].astype(str), format='%Y-%m')\n",
        "    return df\n",
        "     "
      ],
      "execution_count": 28,
      "outputs": []
    },
    {
      "cell_type": "code",
      "metadata": {
        "id": "mS9hH6hHVXp9",
        "colab": {
          "base_uri": "https://localhost:8080/",
          "height": 423
        },
        "outputId": "b3d4e4ab-6fe9-4b11-cbfc-9aad654b11e9"
      },
      "source": [
        "# In this phase we need to sort by the date to allow parallelisation of shuffled the results\n",
        "\n",
        "stats_dfp = get_date_from_year_month(stats_dfp)    \n",
        "stats_dfp.sort_values(by = 'Date',inplace = True)\n",
        "stats_dfp"
      ],
      "execution_count": 29,
      "outputs": [
        {
          "output_type": "execute_result",
          "data": {
            "text/html": [
              "<div>\n",
              "<style scoped>\n",
              "    .dataframe tbody tr th:only-of-type {\n",
              "        vertical-align: middle;\n",
              "    }\n",
              "\n",
              "    .dataframe tbody tr th {\n",
              "        vertical-align: top;\n",
              "    }\n",
              "\n",
              "    .dataframe thead th {\n",
              "        text-align: right;\n",
              "    }\n",
              "</style>\n",
              "<table border=\"1\" class=\"dataframe\">\n",
              "  <thead>\n",
              "    <tr style=\"text-align: right;\">\n",
              "      <th></th>\n",
              "      <th>Mean_Vol</th>\n",
              "      <th>Std_Vol</th>\n",
              "      <th>Min_Vol</th>\n",
              "      <th>Max_Vol</th>\n",
              "      <th>Year</th>\n",
              "      <th>Month</th>\n",
              "      <th>Date</th>\n",
              "    </tr>\n",
              "  </thead>\n",
              "  <tbody>\n",
              "    <tr>\n",
              "      <th>48</th>\n",
              "      <td>23.829470</td>\n",
              "      <td>22.711133</td>\n",
              "      <td>0.455581</td>\n",
              "      <td>48.000000</td>\n",
              "      <td>2011</td>\n",
              "      <td>12</td>\n",
              "      <td>2011-12-01</td>\n",
              "    </tr>\n",
              "    <tr>\n",
              "      <th>77</th>\n",
              "      <td>4.031777</td>\n",
              "      <td>6.740555</td>\n",
              "      <td>0.020000</td>\n",
              "      <td>43.312196</td>\n",
              "      <td>2012</td>\n",
              "      <td>1</td>\n",
              "      <td>2012-01-01</td>\n",
              "    </tr>\n",
              "    <tr>\n",
              "      <th>82</th>\n",
              "      <td>8.313993</td>\n",
              "      <td>11.924511</td>\n",
              "      <td>0.003138</td>\n",
              "      <td>92.654874</td>\n",
              "      <td>2012</td>\n",
              "      <td>2</td>\n",
              "      <td>2012-02-01</td>\n",
              "    </tr>\n",
              "    <tr>\n",
              "      <th>91</th>\n",
              "      <td>15.197791</td>\n",
              "      <td>26.505990</td>\n",
              "      <td>0.002096</td>\n",
              "      <td>247.560124</td>\n",
              "      <td>2012</td>\n",
              "      <td>3</td>\n",
              "      <td>2012-03-01</td>\n",
              "    </tr>\n",
              "    <tr>\n",
              "      <th>16</th>\n",
              "      <td>21.683913</td>\n",
              "      <td>36.393538</td>\n",
              "      <td>0.001276</td>\n",
              "      <td>300.516098</td>\n",
              "      <td>2012</td>\n",
              "      <td>4</td>\n",
              "      <td>2012-04-01</td>\n",
              "    </tr>\n",
              "    <tr>\n",
              "      <th>...</th>\n",
              "      <td>...</td>\n",
              "      <td>...</td>\n",
              "      <td>...</td>\n",
              "      <td>...</td>\n",
              "      <td>...</td>\n",
              "      <td>...</td>\n",
              "      <td>...</td>\n",
              "    </tr>\n",
              "    <tr>\n",
              "      <th>18</th>\n",
              "      <td>6.695166</td>\n",
              "      <td>12.974320</td>\n",
              "      <td>0.001542</td>\n",
              "      <td>360.652808</td>\n",
              "      <td>2020</td>\n",
              "      <td>11</td>\n",
              "      <td>2020-11-01</td>\n",
              "    </tr>\n",
              "    <tr>\n",
              "      <th>46</th>\n",
              "      <td>5.742400</td>\n",
              "      <td>10.432593</td>\n",
              "      <td>0.001030</td>\n",
              "      <td>358.619032</td>\n",
              "      <td>2020</td>\n",
              "      <td>12</td>\n",
              "      <td>2020-12-01</td>\n",
              "    </tr>\n",
              "    <tr>\n",
              "      <th>79</th>\n",
              "      <td>10.253061</td>\n",
              "      <td>16.947097</td>\n",
              "      <td>0.000002</td>\n",
              "      <td>398.565948</td>\n",
              "      <td>2021</td>\n",
              "      <td>1</td>\n",
              "      <td>2021-01-01</td>\n",
              "    </tr>\n",
              "    <tr>\n",
              "      <th>64</th>\n",
              "      <td>5.965070</td>\n",
              "      <td>10.971809</td>\n",
              "      <td>0.000443</td>\n",
              "      <td>248.504517</td>\n",
              "      <td>2021</td>\n",
              "      <td>2</td>\n",
              "      <td>2021-02-01</td>\n",
              "    </tr>\n",
              "    <tr>\n",
              "      <th>60</th>\n",
              "      <td>3.555766</td>\n",
              "      <td>6.490702</td>\n",
              "      <td>0.000016</td>\n",
              "      <td>164.425570</td>\n",
              "      <td>2021</td>\n",
              "      <td>3</td>\n",
              "      <td>2021-03-01</td>\n",
              "    </tr>\n",
              "  </tbody>\n",
              "</table>\n",
              "<p>112 rows × 7 columns</p>\n",
              "</div>"
            ],
            "text/plain": [
              "     Mean_Vol    Std_Vol   Min_Vol     Max_Vol  Year  Month       Date\n",
              "48  23.829470  22.711133  0.455581   48.000000  2011     12 2011-12-01\n",
              "77   4.031777   6.740555  0.020000   43.312196  2012      1 2012-01-01\n",
              "82   8.313993  11.924511  0.003138   92.654874  2012      2 2012-02-01\n",
              "91  15.197791  26.505990  0.002096  247.560124  2012      3 2012-03-01\n",
              "16  21.683913  36.393538  0.001276  300.516098  2012      4 2012-04-01\n",
              "..        ...        ...       ...         ...   ...    ...        ...\n",
              "18   6.695166  12.974320  0.001542  360.652808  2020     11 2020-11-01\n",
              "46   5.742400  10.432593  0.001030  358.619032  2020     12 2020-12-01\n",
              "79  10.253061  16.947097  0.000002  398.565948  2021      1 2021-01-01\n",
              "64   5.965070  10.971809  0.000443  248.504517  2021      2 2021-02-01\n",
              "60   3.555766   6.490702  0.000016  164.425570  2021      3 2021-03-01\n",
              "\n",
              "[112 rows x 7 columns]"
            ]
          },
          "metadata": {},
          "execution_count": 29
        }
      ]
    },
    {
      "cell_type": "code",
      "metadata": {
        "id": "UunBZ10kVXp-",
        "colab": {
          "base_uri": "https://localhost:8080/",
          "height": 1017
        },
        "outputId": "c4d04fff-ad29-411e-d3bc-6a9729cef106"
      },
      "source": [
        "# PLOTTING OF THE MEAN VOLUME BY MONTH\n",
        "mean_vol_trac = {\n",
        "    \"x\": stats_dfp.Date,\n",
        "    \"y\": stats_dfp[\"Mean_Vol\"],\n",
        "}\n",
        "\n",
        "layout = {\n",
        "  \"height\":1000,\n",
        "  \"showlegend\": True, \n",
        "  \"title\": \"Average Volume by Month of BTC\",\n",
        "}\n",
        "\n",
        "fig = go.Figure(data=[mean_vol_trac], layout=layout)\n",
        "fig.show(renderer=\"colab\")"
      ],
      "execution_count": 30,
      "outputs": [
        {
          "output_type": "display_data",
          "data": {
            "text/html": [
              "<html>\n",
              "<head><meta charset=\"utf-8\" /></head>\n",
              "<body>\n",
              "    <div>\n",
              "            <script src=\"https://cdnjs.cloudflare.com/ajax/libs/mathjax/2.7.5/MathJax.js?config=TeX-AMS-MML_SVG\"></script><script type=\"text/javascript\">if (window.MathJax) {MathJax.Hub.Config({SVG: {font: \"STIX-Web\"}});}</script>\n",
              "                <script type=\"text/javascript\">window.PlotlyConfig = {MathJaxConfig: 'local'};</script>\n",
              "        <script src=\"https://cdn.plot.ly/plotly-latest.min.js\"></script>    \n",
              "            <div id=\"3e43a8bd-6b5e-443a-a8f8-2ab150312e9a\" class=\"plotly-graph-div\" style=\"height:1000px; width:100%;\"></div>\n",
              "            <script type=\"text/javascript\">\n",
              "                \n",
              "                    window.PLOTLYENV=window.PLOTLYENV || {};\n",
              "                    \n",
              "                if (document.getElementById(\"3e43a8bd-6b5e-443a-a8f8-2ab150312e9a\")) {\n",
              "                    Plotly.newPlot(\n",
              "                        '3e43a8bd-6b5e-443a-a8f8-2ab150312e9a',\n",
              "                        [{\"type\": \"scatter\", \"x\": [\"2011-12-01T00:00:00\", \"2012-01-01T00:00:00\", \"2012-02-01T00:00:00\", \"2012-03-01T00:00:00\", \"2012-04-01T00:00:00\", \"2012-05-01T00:00:00\", \"2012-06-01T00:00:00\", \"2012-07-01T00:00:00\", \"2012-08-01T00:00:00\", \"2012-09-01T00:00:00\", \"2012-10-01T00:00:00\", \"2012-11-01T00:00:00\", \"2012-12-01T00:00:00\", \"2013-01-01T00:00:00\", \"2013-02-01T00:00:00\", \"2013-03-01T00:00:00\", \"2013-04-01T00:00:00\", \"2013-05-01T00:00:00\", \"2013-06-01T00:00:00\", \"2013-07-01T00:00:00\", \"2013-08-01T00:00:00\", \"2013-09-01T00:00:00\", \"2013-10-01T00:00:00\", \"2013-11-01T00:00:00\", \"2013-12-01T00:00:00\", \"2014-01-01T00:00:00\", \"2014-02-01T00:00:00\", \"2014-03-01T00:00:00\", \"2014-04-01T00:00:00\", \"2014-05-01T00:00:00\", \"2014-06-01T00:00:00\", \"2014-07-01T00:00:00\", \"2014-08-01T00:00:00\", \"2014-09-01T00:00:00\", \"2014-10-01T00:00:00\", \"2014-11-01T00:00:00\", \"2014-12-01T00:00:00\", \"2015-01-01T00:00:00\", \"2015-02-01T00:00:00\", \"2015-03-01T00:00:00\", \"2015-04-01T00:00:00\", \"2015-05-01T00:00:00\", \"2015-06-01T00:00:00\", \"2015-07-01T00:00:00\", \"2015-08-01T00:00:00\", \"2015-09-01T00:00:00\", \"2015-10-01T00:00:00\", \"2015-11-01T00:00:00\", \"2015-12-01T00:00:00\", \"2016-01-01T00:00:00\", \"2016-02-01T00:00:00\", \"2016-03-01T00:00:00\", \"2016-04-01T00:00:00\", \"2016-05-01T00:00:00\", \"2016-06-01T00:00:00\", \"2016-07-01T00:00:00\", \"2016-08-01T00:00:00\", \"2016-09-01T00:00:00\", \"2016-10-01T00:00:00\", \"2016-11-01T00:00:00\", \"2016-12-01T00:00:00\", \"2017-01-01T00:00:00\", \"2017-02-01T00:00:00\", \"2017-03-01T00:00:00\", \"2017-04-01T00:00:00\", \"2017-05-01T00:00:00\", \"2017-06-01T00:00:00\", \"2017-07-01T00:00:00\", \"2017-08-01T00:00:00\", \"2017-09-01T00:00:00\", \"2017-10-01T00:00:00\", \"2017-11-01T00:00:00\", \"2017-12-01T00:00:00\", \"2018-01-01T00:00:00\", \"2018-02-01T00:00:00\", \"2018-03-01T00:00:00\", \"2018-04-01T00:00:00\", \"2018-05-01T00:00:00\", \"2018-06-01T00:00:00\", \"2018-07-01T00:00:00\", \"2018-08-01T00:00:00\", \"2018-09-01T00:00:00\", \"2018-10-01T00:00:00\", \"2018-11-01T00:00:00\", \"2018-12-01T00:00:00\", \"2019-01-01T00:00:00\", \"2019-02-01T00:00:00\", \"2019-03-01T00:00:00\", \"2019-04-01T00:00:00\", \"2019-05-01T00:00:00\", \"2019-06-01T00:00:00\", \"2019-07-01T00:00:00\", \"2019-08-01T00:00:00\", \"2019-09-01T00:00:00\", \"2019-10-01T00:00:00\", \"2019-11-01T00:00:00\", \"2019-12-01T00:00:00\", \"2020-01-01T00:00:00\", \"2020-02-01T00:00:00\", \"2020-03-01T00:00:00\", \"2020-04-01T00:00:00\", \"2020-05-01T00:00:00\", \"2020-06-01T00:00:00\", \"2020-07-01T00:00:00\", \"2020-08-01T00:00:00\", \"2020-09-01T00:00:00\", \"2020-10-01T00:00:00\", \"2020-11-01T00:00:00\", \"2020-12-01T00:00:00\", \"2021-01-01T00:00:00\", \"2021-02-01T00:00:00\", \"2021-03-01T00:00:00\"], \"y\": [23.829469525, 4.03177731714571, 8.313992791715775, 15.19779132870153, 21.68391320646053, 21.529878026232875, 31.504423573146152, 19.821775148064948, 21.108184189797193, 17.130909963664912, 20.39613620802532, 22.994332247489584, 25.393411928884916, 25.635317766965905, 19.510575638143607, 13.141914549010009, 13.728768736606566, 8.001641648881225, 8.802936064237473, 15.083843922778483, 13.051274801860673, 11.753655567109227, 18.445596702925172, 23.455393200908777, 22.86041625458373, 11.431465917756713, 23.299011610773935, 13.977188748209556, 16.040932947510655, 9.89842420056817, 9.702554803075518, 5.85346341867418, 9.86286055205581, 10.265485168734626, 16.380524566873653, 13.125273572791555, 8.927907845143135, 24.96619127615837, 12.095179597807542, 9.621013826098363, 7.920318832869392, 6.745526151124772, 7.560888668291202, 12.993149730935462, 14.239493451551255, 20.06668227939124, 22.969365285195718, 25.682074137107072, 11.97093765010212, 8.648417569798296, 6.932022125881639, 4.6650504294477235, 3.6413705962881355, 5.078350332000072, 9.205655461778758, 4.758176893472882, 5.285989208830257, 3.512840968655603, 3.8868265134617004, 5.6757736277899244, 5.679777286043488, 9.348804756223664, 6.62967843001425, 8.468866447160776, 4.654838158170615, 10.931163460997142, 10.751531703734356, 10.432054173880415, 8.684880075589284, 12.210775959106755, 8.62190985005883, 11.341778934985879, 12.612500696552368, 10.443675813800903, 14.402147742312653, 10.777021769668782, 8.877617961374714, 7.081113509393229, 5.710364588645989, 5.500254688873721, 5.575129577923558, 4.112202020944691, 3.10641333322177, 8.797702086519074, 8.474854351878502, 5.142876872098554, 5.494793937757789, 4.034112666924974, 7.009112903922686, 8.331578690639343, 7.797679264135334, 8.345824200058377, 5.675777040241663, 5.085752450416156, 6.147061206279663, 4.37797702341846, 2.929999689326444, 4.565740505071182, 4.08624512104323, 10.880775078447918, 7.034759147489821, 8.806592415948444, 4.984386145704396, 4.604863331342517, 4.3983793038830905, 4.952654773267136, 4.186250845287291, 6.695165944373403, 5.742399829417891, 10.253061160241158, 5.965070442112511, 3.555766102478466]}],\n",
              "                        {\"height\": 1000, \"showlegend\": true, \"template\": {\"data\": {\"bar\": [{\"error_x\": {\"color\": \"#2a3f5f\"}, \"error_y\": {\"color\": \"#2a3f5f\"}, \"marker\": {\"line\": {\"color\": \"#E5ECF6\", \"width\": 0.5}}, \"type\": \"bar\"}], \"barpolar\": [{\"marker\": {\"line\": {\"color\": \"#E5ECF6\", \"width\": 0.5}}, \"type\": \"barpolar\"}], \"carpet\": [{\"aaxis\": {\"endlinecolor\": \"#2a3f5f\", \"gridcolor\": \"white\", \"linecolor\": \"white\", \"minorgridcolor\": \"white\", \"startlinecolor\": \"#2a3f5f\"}, \"baxis\": {\"endlinecolor\": \"#2a3f5f\", \"gridcolor\": \"white\", \"linecolor\": \"white\", \"minorgridcolor\": \"white\", \"startlinecolor\": \"#2a3f5f\"}, \"type\": \"carpet\"}], \"choropleth\": [{\"colorbar\": {\"outlinewidth\": 0, \"ticks\": \"\"}, \"type\": \"choropleth\"}], \"contour\": [{\"colorbar\": {\"outlinewidth\": 0, \"ticks\": \"\"}, \"colorscale\": [[0.0, \"#0d0887\"], [0.1111111111111111, \"#46039f\"], [0.2222222222222222, \"#7201a8\"], [0.3333333333333333, \"#9c179e\"], [0.4444444444444444, \"#bd3786\"], [0.5555555555555556, \"#d8576b\"], [0.6666666666666666, \"#ed7953\"], [0.7777777777777778, \"#fb9f3a\"], [0.8888888888888888, \"#fdca26\"], [1.0, \"#f0f921\"]], \"type\": \"contour\"}], \"contourcarpet\": [{\"colorbar\": {\"outlinewidth\": 0, \"ticks\": \"\"}, \"type\": \"contourcarpet\"}], \"heatmap\": [{\"colorbar\": {\"outlinewidth\": 0, \"ticks\": \"\"}, \"colorscale\": [[0.0, \"#0d0887\"], [0.1111111111111111, \"#46039f\"], [0.2222222222222222, \"#7201a8\"], [0.3333333333333333, \"#9c179e\"], [0.4444444444444444, \"#bd3786\"], [0.5555555555555556, \"#d8576b\"], [0.6666666666666666, \"#ed7953\"], [0.7777777777777778, \"#fb9f3a\"], [0.8888888888888888, \"#fdca26\"], [1.0, \"#f0f921\"]], \"type\": \"heatmap\"}], \"heatmapgl\": [{\"colorbar\": {\"outlinewidth\": 0, \"ticks\": \"\"}, \"colorscale\": [[0.0, \"#0d0887\"], [0.1111111111111111, \"#46039f\"], [0.2222222222222222, \"#7201a8\"], [0.3333333333333333, \"#9c179e\"], [0.4444444444444444, \"#bd3786\"], [0.5555555555555556, \"#d8576b\"], [0.6666666666666666, \"#ed7953\"], [0.7777777777777778, \"#fb9f3a\"], [0.8888888888888888, \"#fdca26\"], [1.0, \"#f0f921\"]], \"type\": \"heatmapgl\"}], \"histogram\": [{\"marker\": {\"colorbar\": {\"outlinewidth\": 0, \"ticks\": \"\"}}, \"type\": \"histogram\"}], \"histogram2d\": [{\"colorbar\": {\"outlinewidth\": 0, \"ticks\": \"\"}, \"colorscale\": [[0.0, \"#0d0887\"], [0.1111111111111111, \"#46039f\"], [0.2222222222222222, \"#7201a8\"], [0.3333333333333333, \"#9c179e\"], [0.4444444444444444, \"#bd3786\"], [0.5555555555555556, \"#d8576b\"], [0.6666666666666666, \"#ed7953\"], [0.7777777777777778, \"#fb9f3a\"], [0.8888888888888888, \"#fdca26\"], [1.0, \"#f0f921\"]], \"type\": \"histogram2d\"}], \"histogram2dcontour\": [{\"colorbar\": {\"outlinewidth\": 0, \"ticks\": \"\"}, \"colorscale\": [[0.0, \"#0d0887\"], [0.1111111111111111, \"#46039f\"], [0.2222222222222222, \"#7201a8\"], [0.3333333333333333, \"#9c179e\"], [0.4444444444444444, \"#bd3786\"], [0.5555555555555556, \"#d8576b\"], [0.6666666666666666, \"#ed7953\"], [0.7777777777777778, \"#fb9f3a\"], [0.8888888888888888, \"#fdca26\"], [1.0, \"#f0f921\"]], \"type\": \"histogram2dcontour\"}], \"mesh3d\": [{\"colorbar\": {\"outlinewidth\": 0, \"ticks\": \"\"}, \"type\": \"mesh3d\"}], \"parcoords\": [{\"line\": {\"colorbar\": {\"outlinewidth\": 0, \"ticks\": \"\"}}, \"type\": \"parcoords\"}], \"pie\": [{\"automargin\": true, \"type\": \"pie\"}], \"scatter\": [{\"marker\": {\"colorbar\": {\"outlinewidth\": 0, \"ticks\": \"\"}}, \"type\": \"scatter\"}], \"scatter3d\": [{\"line\": {\"colorbar\": {\"outlinewidth\": 0, \"ticks\": \"\"}}, \"marker\": {\"colorbar\": {\"outlinewidth\": 0, \"ticks\": \"\"}}, \"type\": \"scatter3d\"}], \"scattercarpet\": [{\"marker\": {\"colorbar\": {\"outlinewidth\": 0, \"ticks\": \"\"}}, \"type\": \"scattercarpet\"}], \"scattergeo\": [{\"marker\": {\"colorbar\": {\"outlinewidth\": 0, \"ticks\": \"\"}}, \"type\": \"scattergeo\"}], \"scattergl\": [{\"marker\": {\"colorbar\": {\"outlinewidth\": 0, \"ticks\": \"\"}}, \"type\": \"scattergl\"}], \"scattermapbox\": [{\"marker\": {\"colorbar\": {\"outlinewidth\": 0, \"ticks\": \"\"}}, \"type\": \"scattermapbox\"}], \"scatterpolar\": [{\"marker\": {\"colorbar\": {\"outlinewidth\": 0, \"ticks\": \"\"}}, \"type\": \"scatterpolar\"}], \"scatterpolargl\": [{\"marker\": {\"colorbar\": {\"outlinewidth\": 0, \"ticks\": \"\"}}, \"type\": \"scatterpolargl\"}], \"scatterternary\": [{\"marker\": {\"colorbar\": {\"outlinewidth\": 0, \"ticks\": \"\"}}, \"type\": \"scatterternary\"}], \"surface\": [{\"colorbar\": {\"outlinewidth\": 0, \"ticks\": \"\"}, \"colorscale\": [[0.0, \"#0d0887\"], [0.1111111111111111, \"#46039f\"], [0.2222222222222222, \"#7201a8\"], [0.3333333333333333, \"#9c179e\"], [0.4444444444444444, \"#bd3786\"], [0.5555555555555556, \"#d8576b\"], [0.6666666666666666, \"#ed7953\"], [0.7777777777777778, \"#fb9f3a\"], [0.8888888888888888, \"#fdca26\"], [1.0, \"#f0f921\"]], \"type\": \"surface\"}], \"table\": [{\"cells\": {\"fill\": {\"color\": \"#EBF0F8\"}, \"line\": {\"color\": \"white\"}}, \"header\": {\"fill\": {\"color\": \"#C8D4E3\"}, \"line\": {\"color\": \"white\"}}, \"type\": \"table\"}]}, \"layout\": {\"annotationdefaults\": {\"arrowcolor\": \"#2a3f5f\", \"arrowhead\": 0, \"arrowwidth\": 1}, \"coloraxis\": {\"colorbar\": {\"outlinewidth\": 0, \"ticks\": \"\"}}, \"colorscale\": {\"diverging\": [[0, \"#8e0152\"], [0.1, \"#c51b7d\"], [0.2, \"#de77ae\"], [0.3, \"#f1b6da\"], [0.4, \"#fde0ef\"], [0.5, \"#f7f7f7\"], [0.6, \"#e6f5d0\"], [0.7, \"#b8e186\"], [0.8, \"#7fbc41\"], [0.9, \"#4d9221\"], [1, \"#276419\"]], \"sequential\": [[0.0, \"#0d0887\"], [0.1111111111111111, \"#46039f\"], [0.2222222222222222, \"#7201a8\"], [0.3333333333333333, \"#9c179e\"], [0.4444444444444444, \"#bd3786\"], [0.5555555555555556, \"#d8576b\"], [0.6666666666666666, \"#ed7953\"], [0.7777777777777778, \"#fb9f3a\"], [0.8888888888888888, \"#fdca26\"], [1.0, \"#f0f921\"]], \"sequentialminus\": [[0.0, \"#0d0887\"], [0.1111111111111111, \"#46039f\"], [0.2222222222222222, \"#7201a8\"], [0.3333333333333333, \"#9c179e\"], [0.4444444444444444, \"#bd3786\"], [0.5555555555555556, \"#d8576b\"], [0.6666666666666666, \"#ed7953\"], [0.7777777777777778, \"#fb9f3a\"], [0.8888888888888888, \"#fdca26\"], [1.0, \"#f0f921\"]]}, \"colorway\": [\"#636efa\", \"#EF553B\", \"#00cc96\", \"#ab63fa\", \"#FFA15A\", \"#19d3f3\", \"#FF6692\", \"#B6E880\", \"#FF97FF\", \"#FECB52\"], \"font\": {\"color\": \"#2a3f5f\"}, \"geo\": {\"bgcolor\": \"white\", \"lakecolor\": \"white\", \"landcolor\": \"#E5ECF6\", \"showlakes\": true, \"showland\": true, \"subunitcolor\": \"white\"}, \"hoverlabel\": {\"align\": \"left\"}, \"hovermode\": \"closest\", \"mapbox\": {\"style\": \"light\"}, \"paper_bgcolor\": \"white\", \"plot_bgcolor\": \"#E5ECF6\", \"polar\": {\"angularaxis\": {\"gridcolor\": \"white\", \"linecolor\": \"white\", \"ticks\": \"\"}, \"bgcolor\": \"#E5ECF6\", \"radialaxis\": {\"gridcolor\": \"white\", \"linecolor\": \"white\", \"ticks\": \"\"}}, \"scene\": {\"xaxis\": {\"backgroundcolor\": \"#E5ECF6\", \"gridcolor\": \"white\", \"gridwidth\": 2, \"linecolor\": \"white\", \"showbackground\": true, \"ticks\": \"\", \"zerolinecolor\": \"white\"}, \"yaxis\": {\"backgroundcolor\": \"#E5ECF6\", \"gridcolor\": \"white\", \"gridwidth\": 2, \"linecolor\": \"white\", \"showbackground\": true, \"ticks\": \"\", \"zerolinecolor\": \"white\"}, \"zaxis\": {\"backgroundcolor\": \"#E5ECF6\", \"gridcolor\": \"white\", \"gridwidth\": 2, \"linecolor\": \"white\", \"showbackground\": true, \"ticks\": \"\", \"zerolinecolor\": \"white\"}}, \"shapedefaults\": {\"line\": {\"color\": \"#2a3f5f\"}}, \"ternary\": {\"aaxis\": {\"gridcolor\": \"white\", \"linecolor\": \"white\", \"ticks\": \"\"}, \"baxis\": {\"gridcolor\": \"white\", \"linecolor\": \"white\", \"ticks\": \"\"}, \"bgcolor\": \"#E5ECF6\", \"caxis\": {\"gridcolor\": \"white\", \"linecolor\": \"white\", \"ticks\": \"\"}}, \"title\": {\"x\": 0.05}, \"xaxis\": {\"automargin\": true, \"gridcolor\": \"white\", \"linecolor\": \"white\", \"ticks\": \"\", \"title\": {\"standoff\": 15}, \"zerolinecolor\": \"white\", \"zerolinewidth\": 2}, \"yaxis\": {\"automargin\": true, \"gridcolor\": \"white\", \"linecolor\": \"white\", \"ticks\": \"\", \"title\": {\"standoff\": 15}, \"zerolinecolor\": \"white\", \"zerolinewidth\": 2}}}, \"title\": {\"text\": \"Average Volume by Month of BTC\"}},\n",
              "                        {\"responsive\": true}\n",
              "                    ).then(function(){\n",
              "                            \n",
              "var gd = document.getElementById('3e43a8bd-6b5e-443a-a8f8-2ab150312e9a');\n",
              "var x = new MutationObserver(function (mutations, observer) {{\n",
              "        var display = window.getComputedStyle(gd).display;\n",
              "        if (!display || display === 'none') {{\n",
              "            console.log([gd, 'removed!']);\n",
              "            Plotly.purge(gd);\n",
              "            observer.disconnect();\n",
              "        }}\n",
              "}});\n",
              "\n",
              "// Listen for the removal of the full notebook cells\n",
              "var notebookContainer = gd.closest('#notebook-container');\n",
              "if (notebookContainer) {{\n",
              "    x.observe(notebookContainer, {childList: true});\n",
              "}}\n",
              "\n",
              "// Listen for the clearing of the current output cell\n",
              "var outputEl = gd.closest('.output');\n",
              "if (outputEl) {{\n",
              "    x.observe(outputEl, {childList: true});\n",
              "}}\n",
              "\n",
              "                        })\n",
              "                };\n",
              "                \n",
              "            </script>\n",
              "        </div>\n",
              "</body>\n",
              "</html>"
            ]
          },
          "metadata": {}
        }
      ]
    },
    {
      "cell_type": "markdown",
      "metadata": {
        "id": "E1XHlwrvVXp-"
      },
      "source": [
        "###  <strong> Exercise 12 </strong> - Compute the statistics using Pyspark (1 point)\n",
        "\n",
        "\n",
        "<p align=\"justify\">\n",
        "<font size=\"3\">\n",
        "We want to calculate the statistics of the bitcoin as we did before but using Pandas.\n",
        "\n",
        "The steps will be:\n",
        "<ul>\n",
        "     <li>   import data from Parquet in a Spark DataFrame </li>\n",
        "     <li>   remove null values </li>\n",
        "     <li>   perform the aggregation of the results </li> \n",
        "     <li>   convert the results to Pandas </li> \n",
        " \n",
        "</ul>\n",
        "\n",
        "\n",
        "    \n",
        "</font>\n",
        "</p>"
      ]
    },
    {
      "cell_type": "code",
      "metadata": {
        "id": "VcjrzGrDYTKw"
      },
      "source": [
        "# full spark dataframe (recall exercise 8a)\n",
        "df_spark = spark.read.parquet(\"BTC/\") \n",
        "\n",
        "# the na drop is important to be able to compute properly the stats\n",
        "# look at the documentation of the na.drop function\n",
        "group_ym = df_spark.na.drop().select([\"Volume_BTC\",\"Year\",\"Month\"]).groupBy([\"Year\",\"Month\"])"
      ],
      "execution_count": 31,
      "outputs": []
    },
    {
      "cell_type": "code",
      "metadata": {
        "id": "zcS4_jawVXp_",
        "colab": {
          "base_uri": "https://localhost:8080/",
          "height": 0
        },
        "outputId": "0c2f3204-c62b-4de0-a61d-086551649bcc"
      },
      "source": [
        "%%time\n",
        "# solution to compute the statistics using pyspark function \n",
        "\n",
        "from pyspark.sql.functions import min, max, mean, stddev\n",
        "\n",
        "\n",
        "# full spark dataframe (recall exercise 8a)\n",
        "df_spark = spark.read.parquet(\"BTC/\") \n",
        "\n",
        "# the na drop is important to be able to compute properly the stats\n",
        "# look at the documentation of the na.drop function\n",
        "group_ym = df_spark.na.drop().select([\"Volume_BTC\",\"Year\",\"Month\"]).groupBy([\"Year\",\"Month\"])\n",
        "\n",
        "#'''############## WRITE YOUR ANSWER HERE ##############'''\n",
        "           \n",
        "# aggregation \n",
        "# notice that the argument of the agg function is strictly related to min Vol, max Vol, mean, and stddev.\n",
        "res_df = group_ym.agg(min('Volume_BTC'), max('Volume_BTC'), mean('Volume_BTC'), stddev('Volume_BTC'))\n",
        "\n",
        "#conversion the results to pandas\n",
        "stats_dfs = res_df.toPandas()\n",
        "\n",
        "#'''############## END OF THE EXERCISE ##############'''\n",
        "\n",
        "stats_dfs = get_date_from_year_month(stats_dfs)    \n",
        "stats_dfs.sort_values(by = 'Date',inplace = True)\n",
        "stats_dfs"
      ],
      "execution_count": 32,
      "outputs": [
        {
          "output_type": "stream",
          "name": "stdout",
          "text": [
            "CPU times: user 68.9 ms, sys: 11.4 ms, total: 80.4 ms\n",
            "Wall time: 5.91 s\n"
          ]
        }
      ]
    },
    {
      "cell_type": "markdown",
      "metadata": {
        "id": "IAzvUAQJVXp_"
      },
      "source": [
        "### Extra. Equivalence of results\n",
        "\n",
        "\n",
        "\n",
        "<p align=\"justify\">\n",
        "<font size=\"3\">\n",
        "Now that you have seen the two procedures to get the results you must compare the outputs:\n",
        "<ul>\n",
        "     <li>   verify if the pandas dataframe from applyInPandas and PySpark functions are equivalents (look at the documentation to find the function that asserts if two DataFrames are equals) </li> \n",
        "         <li> compare the processing time between applyInPandas and PySpark routine with functions (that we have visualised with the %%time function) and comment them.</li> \n",
        " \n",
        "</ul>\n",
        "\n",
        "\n",
        "    \n",
        "</font>\n",
        "</p>\n",
        "\n"
      ]
    },
    {
      "cell_type": "code",
      "metadata": {
        "id": "4lngxwISVXp_"
      },
      "source": [
        "# verify if the pandas dataframe from applyInPands and PySpark functions are equivalents \n",
        "# compare the processing time between applyInPandas and PySpark function\n",
        "cols = ['Mean_Vol', 'Std_Vol', 'Min_Vol', 'Max_Vol', 'Year', 'Month', 'Date']\n",
        " \n",
        "\n",
        "#'''############## WRITE YOUR ANSWER HERE ##############'''\n",
        "\n",
        "# equivalence verification: look at the pandas API and check if there is any test/assertion operation of help\n",
        "\n",
        "%%time\n",
        "statsdf = dfs.groupby('Year', 'Month').applyInPandas(compute_stats, schema=\"Mean_Vol double, Std_Vol double, Min_Vol double, Max_Vol double, Year int, Month int\")\n",
        "\n",
        "%%time\n",
        "res_df = df_spark.na.drop().select([\"Volume_BTC\",\"Year\",\"Month\"]).groupBy([\"Year\",\"Month\"]).agg(min('Volume_BTC'), max('Volume_BTC'), mean('Volume_BTC'), stddev('Volume_BTC'))\n",
        "\n",
        "# comment about time execution and draw your considerations\n",
        "\n",
        "# applyInPandas spend more user CPU time (CPU times: user 14.6 ms, sys: 0 ns, total: 14.6 ms)\n",
        "# !! PySpark function spend more sys CPU time, thus quicker (CPU times: user 6.95 ms, sys: 2.21 ms, total: 9.16 msms)\n",
        "\n",
        "# User CPU time is time spent on the processor running your program's code (or code in libraries). \n",
        "# System CPU time is the time spent running code in the operating system kernel on behalf of the program.\n",
        "\n",
        "#'''############## END OF THE EXERCISE ##############'''\n"
      ],
      "execution_count": 34,
      "outputs": []
    },
    {
      "cell_type": "markdown",
      "metadata": {
        "id": "nSw_cXcmVXqA"
      },
      "source": [
        "### Extra - Plotting the financial data (1 point)\n",
        "\n",
        "\n",
        "\n",
        "<p align=\"justify\">\n",
        "<font size=\"3\">\n",
        "Now that you have seen some examples you can draw your graphs:\n",
        "<ul>\n",
        "     <li>   filter the global data frame fron Parquet and take only the first day of the year 2021 </li> \n",
        "         <li> convert it to a pandas dataframe </li> \n",
        "         <li>    display the data using the $plot_candlestick$ routine </li> \n",
        " \n",
        "</ul>\n",
        "\n",
        "\n",
        "    \n",
        "</font>\n",
        "</p>\n",
        "\n"
      ]
    },
    {
      "cell_type": "code",
      "metadata": {
        "id": "R05figbfVXqA"
      },
      "source": [
        "#this function helps you to display the candlestick ( representation of financial data) of the pandas dataframe\n",
        "\n",
        "def plot_candlestick(df):\n",
        "    trace = {\n",
        "      \"x\": df.Date_Time,\n",
        "      \"close\": dfp[\"Open\"],\n",
        "      \"decreasing\": {\"line\": {\"color\": \"#008000\"}}, \n",
        "      \"high\":df[\"High\"] ,\n",
        "      \"increasing\": {\"line\": {\"color\": \"#db4052\"}}, \n",
        "      \"low\": df[\"Low\"],\n",
        "      \"name\": \"BTC\", \n",
        "      \"open\": df[\"Close\"],\n",
        "      \"type\": \"candlestick\"\n",
        "    }\n",
        "\n",
        "    layout = {\n",
        "      \"height\":1000,\n",
        "      \"showlegend\": True, \n",
        "      \"title\": \"Technical Analysis\",\n",
        "    }\n",
        "    \n",
        "    fig = go.Figure(data=[trace], layout=layout)\n",
        "    fig.show(renderer=\"colab\")"
      ],
      "execution_count": 35,
      "outputs": []
    },
    {
      "cell_type": "code",
      "metadata": {
        "id": "hu81JTxBVXqA"
      },
      "source": [
        "# Exercise filter the spark dataframe by date \n",
        "import datetime as dt\n",
        "\n",
        "#'''############## WRITE YOUR ANSWER HERE ##############'''\n",
        "#read the global dataframe (as usual)\n",
        "df_spark = spark.read.parquet(\"BTC/\")\n",
        "\n",
        "#create the beginning end date \n",
        "beg = dt.datetime.strptime('2021-01-01 00:00:00','%Y-%m-%d %H:%M:%S')\n",
        "end = dt.datetime.strptime('2021-01-02 00:00:00','%Y-%m-%d %H:%M:%S')\n",
        "\n",
        "#create the filter\n",
        "df_spark_filtered = df_spark.filter( (df_spark.Date_Time >= beg) & (df_spark.Date_Time < end) )\n",
        "\n",
        "#apply and convert it to pandas\n",
        "dfp = df_spark_filtered.toPandas()\n",
        "#'''############## END OF THE EXERCISE ##############'''\n",
        "\n"
      ],
      "execution_count": 36,
      "outputs": []
    },
    {
      "cell_type": "code",
      "metadata": {
        "id": "5VQE8mhPVXqB",
        "scrolled": false,
        "colab": {
          "base_uri": "https://localhost:8080/",
          "height": 1017
        },
        "outputId": "09c0a6bc-4a65-42ea-c18c-ccbbc4f3f04c"
      },
      "source": [
        "plot_candlestick(dfp)"
      ],
      "execution_count": 37,
      "outputs": [
        {
          "output_type": "display_data",
          "data": {
            "text/html": [
              "<html>\n",
              "<head><meta charset=\"utf-8\" /></head>\n",
              "<body>\n",
              "    <div>\n",
              "            <script src=\"https://cdnjs.cloudflare.com/ajax/libs/mathjax/2.7.5/MathJax.js?config=TeX-AMS-MML_SVG\"></script><script type=\"text/javascript\">if (window.MathJax) {MathJax.Hub.Config({SVG: {font: \"STIX-Web\"}});}</script>\n",
              "                <script type=\"text/javascript\">window.PlotlyConfig = {MathJaxConfig: 'local'};</script>\n",
              "        <script src=\"https://cdn.plot.ly/plotly-latest.min.js\"></script>    \n",
              "            <div id=\"101a3d2c-c22d-4493-8c20-e8008aba6231\" class=\"plotly-graph-div\" style=\"height:1000px; width:100%;\"></div>\n",
              "            <script type=\"text/javascript\">\n",
              "                \n",
              "                    window.PLOTLYENV=window.PLOTLYENV || {};\n",
              "                    \n",
              "                if (document.getElementById(\"101a3d2c-c22d-4493-8c20-e8008aba6231\")) {\n",
              "                    Plotly.newPlot(\n",
              "                        '101a3d2c-c22d-4493-8c20-e8008aba6231',\n",
              "                        [{\"close\": [28999.63, 29007.31, 29069.8, 29037.68, 29048.13, 29021.86, 28996.71, 29000.96, 28993.53, 28945.2, 28932.99, 28905.23, 28915.88, 28897.8, 28785.98, 28812.07, 28849.06, 28872.67, 28893.34, 28902.03, 28893.72, 28819.24, 28854.12, 28878.3, 28893.82, 28907.28, 28936.99, 28908.8, 28901.86, 28896.03, 28900.11, 28950.0, 28938.52, 28947.96, 28966.87, 28952.46, 28999.77, 28984.81, 28983.72, 28974.45, 28967.25, 28996.51, 29003.14, 28992.16, 28997.26, 29005.98, 28992.36, 29004.36, 29012.33, 29012.53, 29032.19, 29028.93, 29013.59, 29049.01, 29041.11, 29030.49, 29029.22, 29067.04, 29097.47, 29079.93, 29070.66, 29047.01, 29039.3, 29068.93, 29058.75, 29120.0, 29150.0, 29135.86, 29139.75, 29190.29, 29174.64, 29208.35, 29241.74, 29296.95, 29308.28, 29437.48, 29416.55, 29377.72, 29365.46, 29380.0, 29320.24, 29381.4, 29370.04, 29343.4, 29361.44, 29383.62, 29374.38, 29357.56, 29373.85, 29403.15, 29445.8, 29495.0, 29428.88, 29455.2, 29400.0, 29419.38, 29425.41, 29462.27, 29489.69, 29526.32, 29485.42, 29433.49, 29458.0, 29414.11, 29433.15, 29397.15, 29410.2, 29439.26, 29434.16, 29435.69, 29461.36, 29437.44, 29423.87, 29424.99, 29453.66, 29439.6, 29445.0, 29463.57, 29498.31, 29489.63, 29484.39, 29526.11, 29526.21, 29464.99, 29461.05, 29459.58, 29448.88, 29427.66, 29438.69, 29420.78, 29446.25, 29441.26, 29422.59, 29415.68, 29374.41, 29353.67, 29382.2, 29366.81, 29385.7, 29390.18, 29398.82, 29377.43, 29391.38, 29402.21, 29420.02, 29435.74, 29404.72, 29413.87, 29378.85, 29347.48, 29369.35, 29276.0, 29307.0, 29281.7, 29287.96, 29288.67, 29306.73, 29307.35, 29317.91, 29299.64, 29286.08, 29282.16, 29259.49, 29285.74, 29314.43, 29317.2, 29346.76, 29329.49, 29333.96, 29346.16, 29391.33, 29368.55, 29328.58, 29314.29, 29303.73, 29247.67, 29247.2, 29239.55, 29249.68, 29232.06, 29249.33, 29283.01, 29268.01, 29279.15, 29293.7, 29294.49, 29312.65, 29315.0, 29320.5, 29295.34, 29321.89, 29326.16, 29355.63, 29328.81, 29336.17, 29328.1, 29366.44, 29324.53, 29328.93, 29309.44, 29298.19, 29293.82, 29317.63, 29284.81, 29269.42, 29292.03, 29303.36, 29245.64, 29229.75, 29268.61, 29267.57, 29260.51, 29269.14, 29309.65, 29297.73, 29286.87, 29309.8, 29326.06, 29325.7, 29299.66, 29314.62, 29400.0, 29382.99, 29358.82, 29349.73, 29351.18, 29343.56, 29339.48, 29347.75, 29356.52, 29337.15, 29317.54, 29317.94, 29331.28, 29346.85, 29387.3, 29377.33, 29389.07, 29372.99, 29351.27, 29351.85, 29386.44, 29407.51, 29382.4, 29386.54, 29364.63, 29365.83, 29367.83, 29399.94, 29376.9, 29380.13, 29403.65, 29387.83, 29360.82, 29379.95, 29358.26, 29410.98, 29444.87, 29419.75, 29436.24, 29441.33, 29420.3, 29420.49, 29439.05, 29404.78, 29424.2, 29429.38, 29433.95, 29428.04, 29433.18, 29409.76, 29418.45, 29385.1, 29371.59, 29293.48, 29320.54, 29311.12, 29293.28, 29281.06, 29271.77, 29269.76, 29260.07, 29191.74, 29240.55, 29254.39, 29245.67, 29268.62, 29262.35, 29285.2, 29268.4, 29267.57, 29288.05, 29290.79, 29281.74, 29281.74, 29278.09, 29290.1, 29287.76, 29286.18, 29284.76, 29294.58, 29290.35, 29269.22, 29248.12, 29215.9, 29242.67, 29228.68, 29237.43, 29227.74, 29214.15, 29171.61, 29173.39, 29192.63, 29188.83, 29183.5, 29187.28, 29233.45, 29210.41, 29206.41, 29212.28, 29215.66, 29209.81, 29215.43, 29211.11, 29218.18, 29229.32, 29238.16, 29241.02, 29215.36, 29228.85, 29217.28, 29227.35, 29253.42, 29219.16, 29201.77, 29205.83, 29179.73, 29201.82, 29222.52, 29263.08, 29260.13, 29243.46, 29246.57, 29253.91, 29243.82, 29244.25, 29247.88, 29259.45, 29255.05, 29252.87, 29263.52, 29255.33, 29226.69, 29215.99, 29208.53, 29199.9, 29229.87, 29213.98, 29230.83, 29238.11, 29242.1, 29261.63, 29271.85, 29271.0, 29293.2, 29300.12, 29312.79, 29306.63, 29292.6, 29286.33, 29278.4, 29281.1, 29285.61, 29276.01, 29276.27, 29275.79, 29268.75, 29268.94, 29245.86, 29245.56, 29215.36, 29249.52, 29249.65, 29242.82, 29207.28, 29222.06, 29205.63, 29196.45, 29204.41, 29202.37, 29175.98, 29198.88, 29209.76, 29225.01, 29172.64, 29225.49, 29218.65, 29239.17, 29227.7, 29235.63, 29221.59, 29225.1, 29231.52, 29233.04, 29242.37, 29253.85, 29246.25, 29242.47, 29219.9, 29231.43, 29216.63, 29234.23, 29219.13, 29226.31, 29208.17, 29171.82, 29202.15, 29189.6, 29214.98, 29224.37, 29245.54, 29215.01, 29242.56, 29241.19, 29238.54, 29244.19, 29202.94, 29190.28, 29199.31, 29078.42, 29106.45, 28977.43, 29048.01, 29052.97, 29055.28, 29006.04, 29020.85, 29049.61, 29086.9, 29081.99, 29090.05, 29070.18, 29080.44, 29079.69, 29084.48, 29083.08, 29107.66, 29078.31, 29071.04, 29108.7, 29079.93, 29076.91, 29083.36, 29105.91, 29121.75, 29121.85, 29121.85, 29144.51, 29123.8, 29151.42, 29165.71, 29170.09, 29163.6, 29178.78, 29140.51, 29160.23, 29161.89, 29146.0, 29150.83, 29140.5, 29139.61, 29179.53, 29168.29, 29165.57, 29165.3, 29165.3, 29160.99, 29177.93, 29167.26, 29173.17, 29179.01, 29206.76, 29219.83, 29223.6, 29202.46, 29174.68, 29153.73, 29135.33, 29090.08, 29117.68, 29126.49, 29121.55, 29089.71, 29075.54, 29068.05, 29094.15, 29053.09, 29052.36, 29054.55, 29017.21, 29001.33, 28982.44, 28974.37, 29016.06, 29036.25, 29080.11, 29078.43, 29067.92, 29080.58, 29105.18, 29105.18, 29135.21, 29154.18, 29156.75, 29189.34, 29183.54, 29144.04, 29144.56, 29117.93, 29135.13, 29148.89, 29160.78, 29123.34, 29114.38, 29059.92, 29045.33, 29019.01, 29078.19, 29053.35, 29108.21, 29101.94, 29109.99, 29101.94, 29119.77, 29105.6, 29106.5, 29124.15, 29125.46, 29129.15, 29112.6, 29060.43, 29099.91, 29105.52, 29136.22, 29136.81, 29178.21, 29150.01, 29183.92, 29170.03, 29167.57, 29163.06, 29150.0, 29149.92, 29189.34, 29222.72, 29223.22, 29196.11, 29196.76, 29198.8, 29213.09, 29195.58, 29232.72, 29222.93, 29236.09, 29232.92, 29235.32, 29279.7, 29296.55, 29297.93, 29276.0, 29259.05, 29268.48, 29311.62, 29313.97, 29329.84, 29344.92, 29340.56, 29350.0, 29380.75, 29361.27, 29358.77, 29340.01, 29340.0, 29325.53, 29311.23, 29303.58, 29319.23, 29319.5, 29329.55, 29350.26, 29320.53, 29324.56, 29317.44, 29307.83, 29276.58, 29287.82, 29287.86, 29289.6, 29304.56, 29295.83, 29282.62, 29277.07, 29276.18, 29317.97, 29326.54, 29307.07, 29257.2, 29247.53, 29266.23, 29268.51, 29307.75, 29394.58, 29362.92, 29366.37, 29338.62, 29347.17, 29366.9, 29359.62, 29388.42, 29354.28, 29350.61, 29344.83, 29311.28, 29318.07, 29309.98, 29304.16, 29308.69, 29308.69, 29310.78, 29359.56, 29306.8, 29306.01, 29312.86, 29307.15, 29291.21, 29292.12, 29319.79, 29312.95, 29329.44, 29328.86, 29358.07, 29382.54, 29369.74, 29360.82, 29339.3, 29347.71, 29343.31, 29349.45, 29307.41, 29303.12, 29351.48, 29374.28, 29351.63, 29351.85, 29355.69, 29340.72, 29338.52, 29343.36, 29322.02, 29337.23, 29322.94, 29343.22, 29381.18, 29378.66, 29341.72, 29335.29, 29347.3, 29370.46, 29372.79, 29415.39, 29403.41, 29377.88, 29377.97, 29375.15, 29404.5, 29398.99, 29375.43, 29366.3, 29388.0, 29371.94, 29392.45, 29415.88, 29436.36, 29432.68, 29433.7, 29415.94, 29430.92, 29441.38, 29447.81, 29404.88, 29465.41, 29490.0, 29452.82, 29404.01, 29403.84, 29379.34, 29334.47, 29360.58, 29372.22, 29365.16, 29362.63, 29384.27, 29387.01, 29389.38, 29373.68, 29357.98, 29340.45, 29343.05, 29352.34, 29354.56, 29357.97, 29380.27, 29359.34, 29345.04, 29362.24, 29344.65, 29377.21, 29368.98, 29372.7, 29382.62, 29390.34, 29382.86, 29393.9, 29374.88, 29321.04, 29322.94, 29305.76, 29280.49, 29304.58, 29307.92, 29304.2, 29347.37, 29348.73, 29355.33, 29348.71, 29340.77, 29330.12, 29346.78, 29374.84, 29383.69, 29420.0, 29464.0, 29433.52, 29472.71, 29462.8, 29492.53, 29516.03, 29494.97, 29503.98, 29498.05, 29521.52, 29559.54, 29633.0, 29620.47, 29622.57, 29596.88, 29616.87, 29661.75, 29659.38, 29626.04, 29640.38, 29645.77, 29577.57, 29532.18, 29588.91, 29568.67, 29531.7, 29552.08, 29573.74, 29558.55, 29515.76, 29483.47, 29367.31, 29387.59, 29370.24, 29287.19, 29335.26, 29310.0, 29313.18, 29329.4, 29303.33, 29350.3, 29379.29, 29400.0, 29382.67, 29376.39, 29404.02, 29421.93, 29395.54, 29406.58, 29425.74, 29439.25, 29430.28, 29406.68, 29451.09, 29473.16, 29434.95, 29490.65, 29460.5, 29442.77, 29438.46, 29414.46, 29394.1, 29411.32, 29461.87, 29437.83, 29442.26, 29414.47, 29424.5, 29459.67, 29480.0, 29488.31, 29473.42, 29486.7, 29461.23, 29475.44, 29442.38, 29471.07, 29467.58, 29488.84, 29488.84, 29497.08, 29478.23, 29471.82, 29454.68, 29476.53, 29507.77, 29525.9, 29538.85, 29541.43, 29524.47, 29527.55, 29530.41, 29516.39, 29530.77, 29515.35, 29535.2, 29527.02, 29551.65, 29533.62, 29550.0, 29534.5, 29447.56, 29480.06, 29516.75, 29507.62, 29543.79, 29570.0, 29614.77, 29569.9, 29534.85, 29500.0, 29533.7, 29534.93, 29562.65, 29534.55, 29520.92, 29491.88, 29499.82, 29507.37, 29527.43, 29518.76, 29541.6, 29529.26, 29544.91, 29512.65, 29516.22, 29516.34, 29531.93, 29528.1, 29510.5, 29521.52, 29520.4, 29484.3, 29437.84, 29425.7, 29449.1, 29462.5, 29472.97, 29468.43, 29473.86, 29489.18, 29492.95, 29484.51, 29491.09, 29487.7, 29402.55, 29431.64, 29458.82, 29435.66, 29436.03, 29422.01, 29432.8, 29393.65, 29363.52, 29390.08, 29391.16, 29385.17, 29380.0, 29387.31, 29388.85, 29394.02, 29359.76, 29331.47, 29367.86, 29347.17, 29393.57, 29390.2, 29390.3, 29394.73, 29408.82, 29395.46, 29456.2, 29437.89, 29431.16, 29414.03, 29410.99, 29414.8, 29420.41, 29428.26, 29438.31, 29373.39, 29388.82, 29369.05, 29363.49, 29370.92, 29375.18, 29317.71, 29359.13, 29356.18, 29343.61, 29314.39, 29273.42, 29289.53, 29322.1, 29310.51, 29292.33, 29246.1, 29157.71, 29169.82, 29121.8, 29174.22, 29204.2, 29215.25, 29222.86, 29203.69, 29233.07, 29255.26, 29288.01, 29273.26, 29284.77, 29284.76, 29299.04, 29297.68, 29275.12, 29263.8, 29240.0, 29218.14, 29248.36, 29268.18, 29261.96, 29308.0, 29302.66, 29258.14, 29227.8, 29215.52, 29245.3, 29269.5, 29283.16, 29266.9, 29300.0, 29286.71, 29300.84, 29289.17, 29301.18, 29289.23, 29295.07, 29296.58, 29306.4, 29311.59, 29340.06, 29330.25, 29347.66, 29367.31, 29355.97, 29364.37, 29386.92, 29369.07, 29347.65, 29355.26, 29359.74, 29339.05, 29358.49, 29355.27, 29366.9, 29376.14, 29366.5, 29365.24, 29360.2, 29357.32, 29368.36, 29353.17, 29359.8, 29367.5, 29361.07, 29373.69, 29402.55, 29410.48, 29411.31, 29388.76, 29393.57, 29389.54, 29416.89, 29432.98, 29436.33, 29400.34, 29382.25, 29393.76, 29387.73, 29368.84, 29370.62, 29349.85, 29361.35, 29365.07, 29382.69, 29385.76, 29390.54, 29385.36, 29393.55, 29382.06, 29364.52, 29368.29, 29390.51, 29400.33, 29388.63, 29386.32, 29416.91, 29406.66, 29413.7, 29411.1, 29375.26, 29407.46, 29370.36, 29343.14, 29340.61, 29347.9, 29342.43, 29338.19, 29344.06, 29336.83, 29352.77, 29334.67, 29310.8, 29306.09, 29289.97, 29288.99, 29303.22, 29307.05, 29300.0, 29259.2, 29224.89, 29212.27, 29245.2, 29257.65, 29256.64, 29242.15, 29081.22, 29083.02, 29113.84, 29148.08, 29146.76, 29185.5, 29169.37, 29185.57, 29191.74, 29198.94, 29174.38, 29185.81, 29184.13, 29151.29, 29162.36, 29054.57, 29142.59, 29211.96, 29305.97, 29327.54, 29282.35, 29283.81, 29303.61, 29293.69, 29282.8, 29291.92, 29305.23, 29292.49, 29296.24, 29296.81, 29296.93, 29278.19, 29282.12, 29292.79, 29274.19, 29242.18, 29216.52, 29191.74, 29195.23, 29164.62, 29162.04, 29106.77, 29111.05, 29133.5, 29099.65, 29063.29, 29133.56, 29099.4, 29137.75, 29146.99, 29118.5, 29114.98, 29123.24, 29105.51, 29024.48, 29060.8, 29024.78, 28951.85, 28965.18, 28952.0, 28802.99, 28793.3, 28855.63, 28947.7, 28982.44, 29050.39, 29043.3, 29083.93, 29119.7, 29100.58, 29105.36, 29145.61, 29133.71, 29140.5, 29131.88, 29092.6, 29072.06, 29085.71, 29062.44, 29038.81, 29082.91, 29086.9, 29095.32, 29086.0, 29101.6, 29118.08, 29103.49, 29034.34, 29101.93, 29094.19, 29081.69, 29081.49, 29136.86, 29150.0, 29180.82, 29153.44, 29188.27, 29173.3, 29182.8, 29156.75, 29144.23, 29164.08, 29144.78, 29142.86, 29129.02, 29111.71, 29132.4, 29120.01, 29161.65, 29167.93, 29144.8, 29117.28, 29127.06, 29150.68, 29166.1, 29189.34, 29167.76, 29162.01, 29189.34, 29188.72, 29186.18, 29171.91, 29186.33, 29184.11, 29180.05, 29145.02, 29174.97, 29154.2, 29161.61, 29152.52, 29165.21, 29146.98, 29133.36, 29131.92, 29108.67, 28982.92, 29037.57, 29081.03, 29121.79, 29165.56, 29206.79, 29200.4, 29202.94, 29218.07, 29210.79, 29214.42, 29239.65, 29245.0, 29234.69, 29260.38, 29246.91, 29245.5, 29259.27, 29282.6, 29284.03, 29276.8, 29277.96, 29288.62, 29281.88, 29311.98, 29315.87, 29300.82, 29285.71, 29293.53, 29288.57, 29300.19, 29303.25, 29284.98, 29279.26, 29278.5, 29276.65, 29271.76, 29250.97, 29255.69, 29291.89, 29272.45, 29269.42, 29280.59, 29302.6, 29269.88, 29268.04, 29286.66, 29309.54, 29300.23, 29319.48, 29328.73, 29331.03, 29337.11, 29346.78, 29338.98, 29329.23, 29314.34, 29316.71, 29317.37, 29294.9, 29290.4, 29295.26, 29295.26, 29295.06, 29279.21, 29304.94, 29304.59, 29313.88, 29320.37, 29321.78, 29300.92, 29311.11, 29289.33, 29276.91, 29282.57, 29269.15, 29289.44, 29279.68, 29294.31, 29289.74, 29305.93, 29280.64, 29295.81, 29304.57, 29326.55, 29312.03, 29303.67, 29305.4, 29310.15, 29317.47, 29331.72, 29338.93, 29343.05, 29335.41, 29348.4, 29333.36, 29344.52, 29369.06, 29361.29, 29354.59, 29316.23, 29324.23, 29336.63, 29295.16, 29304.49, 29255.86, 29260.31, 29249.47, 29260.0, 29257.09, 29276.73, 29283.72, 29268.11, 29288.16, 29270.63, 29260.25, 29288.23, 29279.4, 29260.08, 29255.87, 29202.34, 29221.88, 29241.13, 29241.73, 29276.9, 29265.14, 29281.55, 29266.06, 29266.06, 29266.06, 29292.65, 29303.96, 29300.78, 29300.61, 29320.7, 29314.74, 29335.44, 29347.29, 29349.0, 29346.06, 29322.8, 29349.0, 29347.51, 29364.5, 29356.57, 29388.76, 29357.37, 29364.29, 29372.54, 29343.27, 29361.42, 29383.22, 29376.58, 29376.62, 29392.43, 29392.43, 29383.8, 29337.47, 29334.86, 29377.3, 29402.55, 29394.84, 29379.34, 29398.92, 29391.72, 29384.12, 29371.84, 29361.37, 29340.67, 29363.48, 29351.9, 29360.39, 29372.23, 29376.07, 29376.83, 29356.97, 29335.5, 29357.43, 29349.38, 29352.5, 29339.61, 29336.62, 29379.56, 29361.85, 29380.19, 29354.83, 29376.61, 29370.28, 29359.97, 29361.18, 29365.79, 29359.94, 29362.36, 29349.45, 29338.6, 29324.05, 29318.72, 29338.66, 29357.73, 29364.73, 29387.18, 29375.35, 29368.4, 29367.23, 29371.45, 29369.79, 29361.24, 29353.82, 29356.33, 29371.65, 29368.38, 29384.51, 29405.34, 29409.32, 29421.07, 29408.23, 29424.22, 29409.64, 29402.96, 29408.88, 29408.77, 29403.34, 29376.52, 29353.14, 29369.2, 29361.38, 29361.58, 29347.97, 29349.42, 29362.18, 29387.49, 29383.42, 29372.78, 29377.49, 29383.38, 29384.51, 29402.92, 29403.0, 29397.02], \"decreasing\": {\"line\": {\"color\": \"#008000\"}}, \"high\": [29022.01, 29086.9, 29073.02, 29069.39, 29057.73, 29023.38, 29025.68, 29012.16, 28993.53, 28987.85, 28945.01, 28936.19, 28931.49, 28897.8, 28839.99, 28843.06, 28893.34, 28893.34, 28907.96, 28916.52, 28893.72, 28878.46, 28889.35, 28919.39, 28909.53, 28932.43, 28947.7, 28933.28, 28922.59, 28913.01, 28950.0, 28969.07, 28955.21, 28974.79, 28978.54, 29005.56, 29001.18, 29001.18, 28996.63, 28974.45, 28996.99, 29007.35, 29003.14, 29000.61, 29017.21, 29017.21, 29017.21, 29050.0, 29047.09, 29029.47, 29039.19, 29030.48, 29049.01, 29063.15, 29041.11, 29048.28, 29048.54, 29099.0, 29097.57, 29079.93, 29076.68, 29048.07, 29068.97, 29068.93, 29120.0, 29155.0, 29150.0, 29148.32, 29191.74, 29190.29, 29209.0, 29253.96, 29296.95, 29311.34, 29437.83, 29437.83, 29418.02, 29403.71, 29380.0, 29380.0, 29395.99, 29383.4, 29370.04, 29367.32, 29399.58, 29392.11, 29374.38, 29373.77, 29415.0, 29470.0, 29495.0, 29499.99, 29446.58, 29458.0, 29435.79, 29427.41, 29487.3, 29489.36, 29543.93, 29543.93, 29490.29, 29447.85, 29475.25, 29449.28, 29448.57, 29422.65, 29430.0, 29455.19, 29440.97, 29466.2, 29461.36, 29448.47, 29428.66, 29455.39, 29462.75, 29463.57, 29463.45, 29498.51, 29508.72, 29491.55, 29535.95, 29530.41, 29527.03, 29474.24, 29465.69, 29459.58, 29448.88, 29436.66, 29439.41, 29450.0, 29450.0, 29443.7, 29442.36, 29428.91, 29390.49, 29396.07, 29395.78, 29385.71, 29399.44, 29420.51, 29418.94, 29407.8, 29407.33, 29416.0, 29456.59, 29435.74, 29419.51, 29415.92, 29393.9, 29385.94, 29369.35, 29319.39, 29320.0, 29293.19, 29303.4, 29325.0, 29320.77, 29329.74, 29321.61, 29311.53, 29307.58, 29283.73, 29294.11, 29339.34, 29340.41, 29359.0, 29367.31, 29351.22, 29365.24, 29393.66, 29391.33, 29368.55, 29351.21, 29325.56, 29304.17, 29275.81, 29261.83, 29263.35, 29264.93, 29264.17, 29278.12, 29296.18, 29282.39, 29293.7, 29314.9, 29316.18, 29332.11, 29324.4, 29320.5, 29329.74, 29340.37, 29367.15, 29355.64, 29348.13, 29340.78, 29377.2, 29381.57, 29376.57, 29333.87, 29324.11, 29308.74, 29317.63, 29317.63, 29302.74, 29312.2, 29333.42, 29303.36, 29261.56, 29271.13, 29287.23, 29271.96, 29279.85, 29312.9, 29329.2, 29310.68, 29309.8, 29329.74, 29341.16, 29326.05, 29317.37, 29399.99, 29414.48, 29390.64, 29382.64, 29356.17, 29351.18, 29355.99, 29347.75, 29371.76, 29360.24, 29337.15, 29335.34, 29360.06, 29378.83, 29388.76, 29387.3, 29389.07, 29392.57, 29377.77, 29364.0, 29399.81, 29413.04, 29407.51, 29389.99, 29386.54, 29374.99, 29381.56, 29400.0, 29399.96, 29387.27, 29405.28, 29403.65, 29387.83, 29391.39, 29385.0, 29422.82, 29437.83, 29455.06, 29438.71, 29441.33, 29441.33, 29424.62, 29447.86, 29439.05, 29431.68, 29443.63, 29447.62, 29446.62, 29442.74, 29438.37, 29458.27, 29443.41, 29398.65, 29379.19, 29333.55, 29329.87, 29316.69, 29324.6, 29282.52, 29284.66, 29272.85, 29260.34, 29237.02, 29243.92, 29254.39, 29268.39, 29277.01, 29288.41, 29288.48, 29268.4, 29288.05, 29290.96, 29290.79, 29281.74, 29284.36, 29290.23, 29293.2, 29289.7, 29296.95, 29296.36, 29300.15, 29290.35, 29269.22, 29248.12, 29235.85, 29242.67, 29247.09, 29258.6, 29242.82, 29223.33, 29193.52, 29189.58, 29192.63, 29192.43, 29189.38, 29230.09, 29238.1, 29221.09, 29206.53, 29223.93, 29218.95, 29217.25, 29219.65, 29213.87, 29224.47, 29237.27, 29257.67, 29241.02, 29227.28, 29236.72, 29217.28, 29254.53, 29253.42, 29219.16, 29214.35, 29205.83, 29204.98, 29225.72, 29264.88, 29272.15, 29260.13, 29243.46, 29259.45, 29257.71, 29244.16, 29244.25, 29259.45, 29261.23, 29269.57, 29272.37, 29270.91, 29255.33, 29226.69, 29215.99, 29208.53, 29231.47, 29229.87, 29230.83, 29251.54, 29246.33, 29261.63, 29271.85, 29276.44, 29302.43, 29310.71, 29317.22, 29317.56, 29306.63, 29305.0, 29294.64, 29293.45, 29289.99, 29285.61, 29288.84, 29276.27, 29289.28, 29278.34, 29268.94, 29253.4, 29245.56, 29265.15, 29255.53, 29259.65, 29247.72, 29248.65, 29222.06, 29234.47, 29220.44, 29220.39, 29210.52, 29222.6, 29232.77, 29225.44, 29225.01, 29209.13, 29245.26, 29239.75, 29239.86, 29235.65, 29238.59, 29234.78, 29231.43, 29248.33, 29252.05, 29264.19, 29264.18, 29261.23, 29242.47, 29246.82, 29246.6, 29234.23, 29234.23, 29220.13, 29226.31, 29219.44, 29196.57, 29202.17, 29219.53, 29228.42, 29245.54, 29245.54, 29252.12, 29253.61, 29245.74, 29244.2, 29244.19, 29220.93, 29203.67, 29199.4, 29117.59, 29106.45, 29048.0, 29060.18, 29055.29, 29055.28, 29048.91, 29049.6, 29086.9, 29113.18, 29089.68, 29100.01, 29081.91, 29092.98, 29101.47, 29101.48, 29107.66, 29111.65, 29093.91, 29101.43, 29108.7, 29095.47, 29096.69, 29121.8, 29154.35, 29140.04, 29155.28, 29156.75, 29156.74, 29156.73, 29171.55, 29174.48, 29179.17, 29182.45, 29182.47, 29179.53, 29178.08, 29164.66, 29174.88, 29165.53, 29160.99, 29179.52, 29185.6, 29184.09, 29176.2, 29175.52, 29179.37, 29179.4, 29185.59, 29191.71, 29182.27, 29225.56, 29247.4, 29226.39, 29223.62, 29202.46, 29199.86, 29174.06, 29135.33, 29136.01, 29118.91, 29129.6, 29125.91, 29109.46, 29090.52, 29092.53, 29094.15, 29059.04, 29069.6, 29075.48, 29021.19, 29049.56, 29006.2, 29031.72, 29045.26, 29077.96, 29084.78, 29079.83, 29109.89, 29121.8, 29120.35, 29136.18, 29156.75, 29174.15, 29179.97, 29191.74, 29183.54, 29144.04, 29144.56, 29135.13, 29148.89, 29162.24, 29160.78, 29139.12, 29114.38, 29087.08, 29064.61, 29065.46, 29078.19, 29111.1, 29108.21, 29107.83, 29134.27, 29132.28, 29124.29, 29122.89, 29142.68, 29149.27, 29143.59, 29143.65, 29139.12, 29116.18, 29116.92, 29149.99, 29154.34, 29168.6, 29178.21, 29171.83, 29185.67, 29179.65, 29167.57, 29169.77, 29164.5, 29185.67, 29219.03, 29226.77, 29223.22, 29204.02, 29216.47, 29200.0, 29217.23, 29241.74, 29245.58, 29248.16, 29247.25, 29246.69, 29270.54, 29296.95, 29310.09, 29313.09, 29291.76, 29283.82, 29312.03, 29328.71, 29332.01, 29344.16, 29357.11, 29357.15, 29390.85, 29383.7, 29361.95, 29369.28, 29361.09, 29356.58, 29342.84, 29315.51, 29329.55, 29329.55, 29329.55, 29350.26, 29350.26, 29324.56, 29326.54, 29319.22, 29307.83, 29291.84, 29299.99, 29299.63, 29296.95, 29313.9, 29303.05, 29303.17, 29295.65, 29316.23, 29324.98, 29331.22, 29317.52, 29274.18, 29273.97, 29269.59, 29317.27, 29402.55, 29394.58, 29378.34, 29366.37, 29355.79, 29371.1, 29392.37, 29405.51, 29388.42, 29371.39, 29360.3, 29344.83, 29329.07, 29327.26, 29314.74, 29318.02, 29310.93, 29320.03, 29371.08, 29359.56, 29311.82, 29317.63, 29313.36, 29307.54, 29305.75, 29319.79, 29323.79, 29341.6, 29343.28, 29363.85, 29382.54, 29394.44, 29374.53, 29360.82, 29348.08, 29378.79, 29360.48, 29349.45, 29319.49, 29351.48, 29390.66, 29382.48, 29362.0, 29374.56, 29374.56, 29361.81, 29361.14, 29361.26, 29354.64, 29337.23, 29346.17, 29381.25, 29398.66, 29387.01, 29342.43, 29359.99, 29370.45, 29386.68, 29429.9, 29415.4, 29403.41, 29391.8, 29401.19, 29404.5, 29404.5, 29398.99, 29386.79, 29382.8, 29389.86, 29409.4, 29415.88, 29436.36, 29463.94, 29441.1, 29464.0, 29459.49, 29442.64, 29465.3, 29456.01, 29462.08, 29490.0, 29490.0, 29452.82, 29427.51, 29410.23, 29385.21, 29379.96, 29364.39, 29381.95, 29383.71, 29384.47, 29398.29, 29398.79, 29402.85, 29373.68, 29365.74, 29355.59, 29363.94, 29365.54, 29362.82, 29376.42, 29380.3, 29369.82, 29357.32, 29362.24, 29381.34, 29381.34, 29377.31, 29395.11, 29394.31, 29395.11, 29390.85, 29400.54, 29374.88, 29336.55, 29322.94, 29320.4, 29312.33, 29320.08, 29307.92, 29348.62, 29357.89, 29359.47, 29381.39, 29355.09, 29348.02, 29348.03, 29374.84, 29392.29, 29416.29, 29463.99, 29479.0, 29485.21, 29494.0, 29500.0, 29539.31, 29524.58, 29516.48, 29511.17, 29524.43, 29573.74, 29645.78, 29647.96, 29626.91, 29622.57, 29643.7, 29675.0, 29700.0, 29677.0, 29648.02, 29651.18, 29657.32, 29586.78, 29599.73, 29590.4, 29568.67, 29559.95, 29564.15, 29593.87, 29576.12, 29528.06, 29483.47, 29396.89, 29388.17, 29378.08, 29366.03, 29354.38, 29317.38, 29350.0, 29339.24, 29352.05, 29378.92, 29414.46, 29401.71, 29389.85, 29419.93, 29424.71, 29421.93, 29437.82, 29427.21, 29439.7, 29447.53, 29445.74, 29451.09, 29473.16, 29473.16, 29486.26, 29503.84, 29481.55, 29465.72, 29444.23, 29439.71, 29419.74, 29462.09, 29461.87, 29459.84, 29448.78, 29430.54, 29459.84, 29484.78, 29494.07, 29488.32, 29500.0, 29486.7, 29475.41, 29479.63, 29485.04, 29486.28, 29490.51, 29488.84, 29502.65, 29501.7, 29492.51, 29476.4, 29482.03, 29509.0, 29536.96, 29543.93, 29543.93, 29541.43, 29542.7, 29543.93, 29532.64, 29532.65, 29530.77, 29535.2, 29543.93, 29555.16, 29551.65, 29549.6, 29562.02, 29540.49, 29490.2, 29530.64, 29551.08, 29560.14, 29570.0, 29614.88, 29614.88, 29584.76, 29544.17, 29542.7, 29534.93, 29577.23, 29562.66, 29534.55, 29525.89, 29512.95, 29520.35, 29532.88, 29527.43, 29542.75, 29541.6, 29556.15, 29544.91, 29516.22, 29530.93, 29528.7, 29533.55, 29531.27, 29523.13, 29536.12, 29521.05, 29491.34, 29443.5, 29464.84, 29476.0, 29494.76, 29484.58, 29484.86, 29490.77, 29503.48, 29498.21, 29492.18, 29491.09, 29487.7, 29452.19, 29464.56, 29464.47, 29445.14, 29445.57, 29442.25, 29432.8, 29408.04, 29391.88, 29407.51, 29400.24, 29400.24, 29404.07, 29398.73, 29398.54, 29394.48, 29371.05, 29369.33, 29367.86, 29389.55, 29402.27, 29409.24, 29409.65, 29408.82, 29408.82, 29456.2, 29460.17, 29444.62, 29439.68, 29430.79, 29433.59, 29432.73, 29430.0, 29443.37, 29438.31, 29401.02, 29403.88, 29384.74, 29380.28, 29387.96, 29375.18, 29371.56, 29391.3, 29373.22, 29349.29, 29340.74, 29305.37, 29334.38, 29323.21, 29310.51, 29293.8, 29256.13, 29199.33, 29194.87, 29183.38, 29217.27, 29237.72, 29222.86, 29226.03, 29218.91, 29277.01, 29281.85, 29293.12, 29284.77, 29284.87, 29299.04, 29304.92, 29300.0, 29293.16, 29273.56, 29244.93, 29251.26, 29286.16, 29268.18, 29305.7, 29328.48, 29302.76, 29258.14, 29247.56, 29238.99, 29269.5, 29282.74, 29285.2, 29305.89, 29318.13, 29320.76, 29306.99, 29308.74, 29317.44, 29311.46, 29329.74, 29311.61, 29322.99, 29365.08, 29340.06, 29350.16, 29367.31, 29367.31, 29367.31, 29394.78, 29402.54, 29372.26, 29352.52, 29374.21, 29359.74, 29358.41, 29358.5, 29367.0, 29371.95, 29393.28, 29372.85, 29380.77, 29360.93, 29379.88, 29369.73, 29402.55, 29377.08, 29372.9, 29377.6, 29402.55, 29422.31, 29423.79, 29411.31, 29393.84, 29394.9, 29416.89, 29432.98, 29435.72, 29436.33, 29400.34, 29397.14, 29398.48, 29387.75, 29378.8, 29370.62, 29376.79, 29375.91, 29382.69, 29391.47, 29402.89, 29392.41, 29394.98, 29393.55, 29382.06, 29384.43, 29401.34, 29395.33, 29401.15, 29392.43, 29417.73, 29416.92, 29419.98, 29416.74, 29414.81, 29413.12, 29407.46, 29370.36, 29362.61, 29343.08, 29350.67, 29342.43, 29355.41, 29347.3, 29366.73, 29357.36, 29335.85, 29318.12, 29306.09, 29313.1, 29303.22, 29306.6, 29311.57, 29302.9, 29259.2, 29230.18, 29264.78, 29262.25, 29261.42, 29256.64, 29242.15, 29111.32, 29138.12, 29148.08, 29164.5, 29188.97, 29187.53, 29185.57, 29190.22, 29223.29, 29199.83, 29194.32, 29185.81, 29184.13, 29165.63, 29162.36, 29138.12, 29212.29, 29319.42, 29311.97, 29327.54, 29295.26, 29303.79, 29317.56, 29301.83, 29296.12, 29316.45, 29311.42, 29310.84, 29296.24, 29320.1, 29296.93, 29297.83, 29282.86, 29292.79, 29275.79, 29248.09, 29240.47, 29208.86, 29195.23, 29185.76, 29162.05, 29111.05, 29138.55, 29135.26, 29099.65, 29119.35, 29133.56, 29154.34, 29170.92, 29153.22, 29131.0, 29129.51, 29123.25, 29105.51, 29086.9, 29067.05, 29024.78, 28980.6, 28978.53, 28960.52, 28866.3, 28875.25, 28947.7, 28982.44, 29050.39, 29052.03, 29086.9, 29156.75, 29133.13, 29110.27, 29156.75, 29155.21, 29153.74, 29148.86, 29147.95, 29105.36, 29112.73, 29085.71, 29064.59, 29077.23, 29100.0, 29117.89, 29099.95, 29113.22, 29127.01, 29120.36, 29103.49, 29093.58, 29116.87, 29106.19, 29092.96, 29123.0, 29150.0, 29191.74, 29180.82, 29191.73, 29188.27, 29182.8, 29184.93, 29164.66, 29177.43, 29164.37, 29144.78, 29155.52, 29133.37, 29146.02, 29149.42, 29162.08, 29180.81, 29170.19, 29145.75, 29145.31, 29161.24, 29160.49, 29191.74, 29191.74, 29180.14, 29184.5, 29191.74, 29191.74, 29213.05, 29192.03, 29188.28, 29188.28, 29180.05, 29174.97, 29180.66, 29168.97, 29166.03, 29156.91, 29166.04, 29157.47, 29133.36, 29131.92, 29108.67, 29067.01, 29100.0, 29121.79, 29191.74, 29226.77, 29226.77, 29225.31, 29223.75, 29226.28, 29225.81, 29261.84, 29255.05, 29250.49, 29261.84, 29261.84, 29260.38, 29261.84, 29327.53, 29309.88, 29290.91, 29292.96, 29291.75, 29301.46, 29323.46, 29332.11, 29323.13, 29308.67, 29305.47, 29318.2, 29316.51, 29312.48, 29303.25, 29308.49, 29291.16, 29282.56, 29277.84, 29285.79, 29267.19, 29289.87, 29291.97, 29279.42, 29282.12, 29306.79, 29308.75, 29279.87, 29299.0, 29311.17, 29317.58, 29319.5, 29328.73, 29349.0, 29348.0, 29367.31, 29351.74, 29348.88, 29330.93, 29347.34, 29327.73, 29326.05, 29314.36, 29308.23, 29298.47, 29312.58, 29315.52, 29305.96, 29323.47, 29316.17, 29328.17, 29321.78, 29321.78, 29316.44, 29311.11, 29293.34, 29295.36, 29296.42, 29287.06, 29290.53, 29294.31, 29300.31, 29305.93, 29305.94, 29304.94, 29332.11, 29337.58, 29326.55, 29320.64, 29323.04, 29318.5, 29328.42, 29332.41, 29349.0, 29353.31, 29352.33, 29349.0, 29349.0, 29355.21, 29384.03, 29385.21, 29367.94, 29354.59, 29345.66, 29362.76, 29336.63, 29327.46, 29313.36, 29283.5, 29271.34, 29266.84, 29270.0, 29285.61, 29295.4, 29287.5, 29282.95, 29291.13, 29283.14, 29288.49, 29299.6, 29282.93, 29264.83, 29255.88, 29231.62, 29241.13, 29254.12, 29280.21, 29277.26, 29272.01, 29284.5, 29277.45, 29277.61, 29292.65, 29303.96, 29306.15, 29304.35, 29322.27, 29331.63, 29333.11, 29347.29, 29349.0, 29356.12, 29346.06, 29349.0, 29363.37, 29372.87, 29369.78, 29378.91, 29388.76, 29372.82, 29372.54, 29386.3, 29361.42, 29385.29, 29391.66, 29390.15, 29394.29, 29394.28, 29394.29, 29383.8, 29358.06, 29377.3, 29402.55, 29402.55, 29395.51, 29402.55, 29406.0, 29395.74, 29384.12, 29377.21, 29361.37, 29365.03, 29365.02, 29362.72, 29372.74, 29377.55, 29394.66, 29385.75, 29358.13, 29357.73, 29358.1, 29363.64, 29356.87, 29354.37, 29379.56, 29379.56, 29380.19, 29380.19, 29378.83, 29384.09, 29387.3, 29370.73, 29375.18, 29370.5, 29370.35, 29362.36, 29355.39, 29347.75, 29325.59, 29356.0, 29376.63, 29385.33, 29398.36, 29404.89, 29392.07, 29387.62, 29372.92, 29371.45, 29374.37, 29383.89, 29380.58, 29380.58, 29380.58, 29398.42, 29414.81, 29416.64, 29423.0, 29423.97, 29426.65, 29434.27, 29423.45, 29420.88, 29416.45, 29420.88, 29403.72, 29396.33, 29385.45, 29375.08, 29378.11, 29361.58, 29360.69, 29379.58, 29385.14, 29387.49, 29383.42, 29378.08, 29388.28, 29398.72, 29402.92, 29408.73, 29408.73, 29417.64], \"increasing\": {\"line\": {\"color\": \"#db4052\"}}, \"low\": [28999.14, 29007.31, 29028.14, 29019.0, 29035.61, 28982.33, 28996.71, 28983.04, 28938.21, 28910.15, 28903.28, 28843.74, 28893.16, 28800.0, 28774.64, 28800.92, 28844.42, 28858.67, 28865.5, 28879.93, 28810.07, 28802.97, 28854.12, 28867.26, 28892.38, 28907.28, 28898.35, 28900.0, 28895.99, 28878.41, 28900.11, 28931.21, 28929.73, 28934.97, 28937.7, 28952.46, 28968.1, 28981.12, 28971.13, 28961.83, 28967.25, 28986.61, 28977.67, 28990.42, 28997.26, 28971.91, 28978.02, 29002.11, 29009.73, 29012.53, 29023.71, 29010.6, 29013.59, 29028.62, 29018.54, 29019.62, 29014.76, 29049.88, 29076.2, 29053.18, 29047.01, 29010.36, 29039.3, 29052.25, 29053.89, 29116.1, 29131.12, 29119.21, 29139.75, 29150.66, 29174.64, 29206.89, 29241.53, 29276.13, 29308.28, 29370.72, 29356.2, 29352.11, 29345.63, 29310.21, 29300.84, 29339.01, 29286.97, 29326.69, 29358.0, 29338.77, 29344.2, 29321.2, 29373.37, 29403.15, 29445.8, 29401.45, 29415.66, 29366.86, 29399.31, 29393.53, 29425.41, 29458.23, 29489.69, 29388.27, 29438.56, 29408.26, 29409.5, 29402.63, 29384.82, 29379.39, 29403.81, 29428.09, 29419.12, 29422.24, 29419.98, 29437.43, 29411.73, 29414.61, 29439.25, 29439.6, 29430.95, 29454.96, 29468.31, 29466.15, 29484.39, 29506.27, 29464.54, 29433.1, 29444.49, 29429.67, 29428.03, 29411.64, 29420.64, 29420.78, 29439.07, 29420.11, 29415.66, 29332.11, 29296.95, 29338.14, 29360.26, 29351.68, 29368.53, 29390.18, 29375.71, 29377.43, 29385.46, 29392.78, 29415.46, 29382.2, 29390.18, 29378.84, 29346.02, 29346.96, 29276.0, 29276.0, 29282.0, 29261.84, 29269.82, 29288.66, 29282.42, 29305.62, 29300.0, 29277.81, 29286.08, 29189.34, 29259.13, 29285.74, 29314.43, 29317.2, 29315.89, 29305.55, 29333.96, 29346.16, 29358.93, 29313.78, 29312.41, 29287.02, 29247.75, 29247.2, 29206.85, 29229.42, 29240.9, 29232.06, 29239.33, 29270.66, 29267.76, 29268.64, 29277.88, 29294.49, 29303.2, 29311.75, 29293.69, 29282.7, 29317.05, 29326.16, 29336.34, 29326.21, 29321.8, 29328.1, 29332.27, 29324.53, 29310.13, 29303.75, 29293.82, 29293.56, 29288.07, 29266.26, 29265.26, 29292.03, 29253.49, 29216.61, 29229.75, 29253.64, 29253.69, 29248.14, 29264.35, 29297.73, 29289.17, 29286.87, 29309.8, 29324.07, 29293.67, 29298.2, 29307.36, 29384.03, 29356.87, 29358.77, 29336.65, 29336.79, 29324.24, 29332.79, 29343.91, 29331.17, 29316.13, 29304.78, 29317.94, 29331.28, 29346.85, 29363.83, 29371.44, 29371.44, 29350.97, 29345.63, 29351.85, 29363.28, 29379.4, 29355.67, 29366.09, 29347.17, 29363.59, 29353.35, 29375.42, 29369.42, 29372.95, 29380.19, 29364.24, 29360.82, 29348.2, 29358.26, 29410.98, 29412.5, 29416.95, 29424.55, 29395.24, 29404.69, 29420.49, 29402.34, 29392.85, 29410.96, 29423.72, 29420.36, 29421.39, 29394.94, 29409.76, 29358.35, 29369.68, 29290.54, 29293.48, 29293.5, 29293.28, 29267.8, 29261.85, 29262.62, 29260.0, 29191.74, 29121.8, 29198.4, 29236.67, 29244.12, 29252.96, 29252.86, 29267.44, 29241.72, 29267.57, 29270.34, 29276.29, 29272.08, 29277.85, 29278.09, 29275.31, 29255.18, 29277.06, 29273.75, 29272.15, 29258.99, 29226.77, 29209.78, 29215.9, 29226.68, 29228.68, 29217.09, 29185.73, 29158.86, 29166.92, 29168.17, 29172.08, 29167.9, 29168.15, 29181.5, 29207.61, 29197.97, 29186.95, 29197.93, 29209.72, 29204.5, 29211.11, 29204.5, 29211.88, 29221.3, 29237.77, 29199.33, 29204.89, 29216.66, 29217.28, 29227.35, 29219.12, 29189.35, 29201.77, 29171.84, 29179.73, 29201.82, 29211.18, 29254.2, 29228.92, 29207.53, 29244.2, 29230.88, 29237.82, 29236.24, 29232.46, 29232.62, 29250.07, 29250.08, 29255.33, 29221.07, 29215.99, 29198.32, 29199.51, 29199.9, 29197.74, 29203.18, 29230.83, 29237.58, 29242.1, 29239.41, 29270.98, 29263.3, 29286.35, 29293.94, 29294.99, 29288.77, 29288.77, 29263.24, 29278.4, 29272.42, 29275.58, 29263.73, 29264.61, 29262.12, 29268.24, 29232.03, 29240.48, 29209.88, 29215.36, 29237.66, 29245.53, 29206.05, 29206.05, 29205.63, 29200.0, 29196.45, 29200.0, 29184.51, 29162.94, 29198.88, 29203.76, 29166.05, 29172.64, 29225.49, 29218.65, 29226.49, 29217.62, 29218.61, 29217.62, 29215.9, 29231.52, 29233.04, 29242.37, 29243.15, 29235.56, 29218.34, 29212.21, 29231.43, 29216.63, 29218.96, 29219.13, 29200.03, 29156.48, 29170.14, 29176.35, 29189.6, 29213.53, 29215.4, 29215.01, 29215.01, 29242.56, 29229.84, 29230.3, 29199.79, 29193.2, 29170.34, 29053.57, 29078.42, 28896.66, 28977.4, 29026.53, 29032.67, 28973.58, 28986.87, 29009.6, 29049.61, 29078.35, 29066.13, 29047.69, 29050.89, 29063.56, 29063.77, 29083.02, 29083.08, 29094.26, 29068.01, 29071.04, 29072.44, 29075.41, 29071.04, 29083.36, 29105.9, 29117.48, 29121.83, 29121.85, 29123.35, 29123.78, 29135.59, 29148.37, 29161.71, 29153.95, 29148.37, 29140.51, 29160.23, 29140.5, 29143.86, 29140.5, 29137.35, 29139.61, 29160.37, 29165.3, 29165.3, 29165.3, 29157.96, 29160.99, 29177.93, 29166.26, 29173.17, 29173.17, 29206.76, 29190.71, 29196.59, 29161.82, 29162.96, 29121.4, 29100.0, 29090.08, 29104.61, 29103.76, 29089.71, 29053.51, 29075.32, 29052.03, 29052.03, 29018.68, 29052.36, 29017.21, 28982.44, 28982.44, 28947.7, 28950.63, 29007.12, 29036.25, 29040.97, 29042.75, 29067.92, 29080.56, 29096.79, 29099.36, 29121.53, 29138.3, 29156.75, 29155.9, 29135.6, 29119.39, 29117.93, 29117.93, 29123.22, 29139.16, 29120.02, 29109.61, 29049.61, 29038.83, 29002.97, 29017.57, 29044.36, 29053.35, 29084.27, 29071.87, 29105.52, 29101.94, 29105.44, 29105.45, 29106.5, 29124.15, 29125.0, 29100.02, 29077.2, 29039.59, 29098.36, 29104.04, 29132.35, 29129.14, 29150.0, 29150.0, 29168.57, 29155.84, 29150.0, 29150.0, 29133.64, 29128.66, 29189.34, 29191.75, 29195.44, 29182.74, 29196.76, 29172.08, 29192.13, 29195.58, 29232.72, 29222.93, 29221.48, 29232.92, 29231.94, 29261.48, 29276.26, 29270.69, 29261.03, 29252.5, 29265.05, 29284.62, 29300.0, 29303.67, 29340.0, 29340.56, 29350.0, 29344.07, 29340.0, 29340.0, 29340.0, 29308.48, 29308.79, 29300.0, 29303.58, 29319.23, 29319.5, 29321.67, 29329.69, 29308.38, 29317.44, 29306.95, 29269.24, 29272.45, 29287.82, 29267.42, 29273.06, 29277.02, 29279.64, 29277.03, 29255.52, 29275.73, 29309.78, 29294.47, 29259.45, 29234.25, 29247.53, 29255.44, 29268.51, 29301.38, 29348.25, 29318.62, 29343.15, 29325.46, 29342.09, 29353.81, 29359.62, 29353.65, 29344.62, 29336.31, 29310.82, 29307.08, 29309.98, 29302.35, 29304.16, 29308.69, 29308.69, 29310.78, 29300.0, 29291.05, 29305.58, 29301.52, 29286.69, 29291.21, 29292.12, 29305.47, 29312.95, 29328.86, 29326.72, 29354.18, 29376.14, 29337.1, 29339.3, 29339.3, 29347.71, 29340.08, 29317.13, 29305.12, 29303.12, 29351.48, 29360.54, 29335.73, 29344.05, 29336.11, 29338.52, 29337.26, 29320.55, 29322.02, 29288.82, 29297.92, 29321.24, 29349.19, 29346.52, 29333.6, 29335.29, 29343.18, 29342.22, 29372.79, 29375.46, 29375.54, 29377.88, 29376.79, 29375.15, 29377.87, 29381.3, 29350.0, 29350.59, 29370.36, 29371.94, 29392.45, 29404.29, 29418.15, 29417.4, 29419.04, 29415.94, 29424.53, 29434.18, 29413.95, 29400.0, 29454.17, 29453.32, 29400.0, 29401.55, 29381.52, 29340.61, 29334.47, 29343.42, 29355.62, 29365.16, 29362.63, 29371.39, 29387.01, 29384.97, 29340.09, 29309.81, 29329.79, 29334.62, 29341.82, 29344.86, 29357.43, 29358.51, 29343.3, 29334.28, 29333.87, 29344.65, 29368.98, 29360.92, 29361.64, 29382.62, 29377.27, 29378.81, 29365.75, 29319.19, 29321.04, 29270.0, 29288.52, 29280.49, 29297.09, 29287.54, 29304.2, 29347.37, 29333.89, 29340.44, 29340.59, 29327.59, 29321.63, 29346.78, 29370.29, 29383.69, 29407.52, 29433.52, 29418.84, 29440.51, 29461.57, 29484.85, 29468.27, 29464.41, 29473.27, 29493.67, 29520.18, 29559.54, 29582.62, 29583.37, 29572.43, 29586.29, 29616.87, 29659.38, 29626.04, 29622.01, 29626.22, 29559.34, 29508.52, 29517.68, 29537.86, 29508.52, 29500.01, 29524.06, 29552.78, 29525.25, 29451.48, 29367.31, 29261.84, 29303.82, 29233.4, 29287.19, 29298.41, 29279.73, 29294.44, 29303.22, 29286.27, 29350.3, 29363.29, 29361.46, 29361.39, 29376.39, 29394.26, 29376.04, 29395.54, 29406.58, 29402.58, 29426.45, 29390.7, 29394.65, 29437.18, 29438.14, 29434.95, 29464.26, 29434.26, 29420.95, 29390.03, 29394.08, 29388.24, 29411.32, 29396.98, 29435.07, 29411.85, 29404.96, 29424.5, 29459.67, 29461.13, 29470.63, 29473.42, 29460.65, 29453.25, 29456.43, 29437.6, 29463.22, 29467.58, 29488.84, 29487.12, 29486.82, 29459.31, 29454.68, 29454.68, 29476.53, 29507.77, 29509.01, 29529.08, 29519.19, 29515.86, 29527.55, 29511.93, 29516.39, 29518.16, 29505.79, 29527.01, 29527.02, 29524.45, 29533.33, 29539.04, 29420.0, 29444.17, 29468.64, 29501.85, 29507.62, 29543.79, 29570.0, 29563.69, 29537.51, 29519.15, 29500.0, 29518.82, 29521.86, 29526.82, 29509.39, 29489.38, 29482.01, 29493.1, 29496.51, 29509.08, 29518.76, 29527.39, 29520.24, 29495.37, 29499.22, 29501.77, 29516.34, 29522.48, 29520.21, 29510.5, 29513.54, 29484.29, 29441.0, 29402.55, 29425.7, 29438.98, 29462.5, 29450.24, 29468.43, 29461.15, 29478.22, 29483.08, 29460.2, 29470.53, 29434.74, 29402.55, 29424.36, 29423.83, 29412.99, 29419.95, 29416.56, 29372.6, 29339.22, 29363.52, 29384.45, 29371.86, 29378.41, 29368.18, 29380.82, 29371.65, 29359.95, 29324.63, 29320.01, 29261.84, 29329.07, 29386.44, 29390.2, 29390.3, 29394.73, 29387.29, 29395.46, 29421.22, 29414.42, 29412.36, 29410.99, 29410.99, 29413.57, 29416.03, 29417.36, 29311.69, 29339.29, 29379.12, 29352.13, 29353.59, 29357.68, 29279.9, 29311.89, 29351.98, 29226.77, 29320.65, 29309.22, 29272.9, 29289.53, 29292.81, 29283.25, 29226.77, 29121.8, 29121.81, 29128.95, 29100.0, 29172.9, 29180.0, 29192.28, 29195.68, 29193.35, 29226.87, 29255.26, 29273.26, 29265.04, 29248.83, 29271.9, 29282.91, 29278.64, 29248.85, 29240.26, 29216.03, 29218.14, 29248.36, 29237.99, 29248.16, 29288.69, 29238.81, 29186.69, 29199.65, 29175.01, 29240.76, 29253.47, 29253.21, 29266.9, 29291.01, 29286.71, 29280.0, 29288.81, 29289.22, 29289.23, 29295.07, 29296.58, 29299.16, 29308.86, 29320.0, 29330.25, 29332.4, 29337.02, 29348.67, 29353.44, 29377.64, 29354.66, 29333.47, 29355.26, 29330.04, 29320.0, 29344.6, 29344.62, 29360.93, 29366.85, 29356.89, 29351.86, 29338.45, 29357.32, 29353.17, 29343.75, 29356.27, 29361.07, 29361.07, 29373.69, 29402.55, 29400.29, 29399.11, 29382.47, 29375.45, 29379.62, 29404.96, 29416.53, 29396.6, 29375.06, 29382.25, 29387.51, 29357.98, 29350.83, 29340.6, 29349.85, 29354.9, 29356.72, 29378.38, 29374.1, 29379.81, 29385.22, 29364.57, 29352.53, 29364.52, 29368.29, 29377.85, 29377.85, 29375.96, 29385.25, 29396.92, 29391.51, 29400.75, 29381.0, 29375.26, 29370.12, 29330.15, 29336.66, 29326.66, 29325.11, 29310.79, 29326.44, 29336.75, 29328.61, 29333.9, 29305.15, 29301.11, 29269.73, 29273.42, 29264.62, 29287.86, 29299.99, 29252.43, 29224.37, 29200.0, 29208.68, 29210.0, 29236.11, 29235.02, 29080.0, 29000.0, 29078.58, 29104.3, 29133.37, 29143.69, 29155.76, 29160.49, 29172.98, 29181.27, 29173.36, 29174.38, 29138.41, 29140.27, 29131.42, 29054.58, 29054.57, 29142.59, 29211.96, 29262.9, 29288.02, 29266.72, 29282.58, 29278.24, 29273.44, 29282.8, 29291.92, 29275.57, 29275.48, 29278.07, 29276.98, 29276.98, 29272.7, 29274.35, 29265.99, 29242.17, 29218.4, 29195.91, 29182.4, 29136.86, 29132.7, 29089.53, 29088.46, 29096.93, 29086.9, 29031.9, 29061.41, 29104.41, 29099.4, 29127.2, 29116.28, 29092.74, 29100.37, 29098.59, 29030.54, 29024.48, 29000.0, 28919.17, 28951.85, 28952.0, 28720.0, 28778.34, 28769.28, 28846.91, 28930.46, 28951.93, 28999.43, 29030.0, 29083.93, 29077.07, 29052.89, 29097.9, 29122.0, 29126.18, 29130.17, 29057.41, 29056.36, 29072.06, 29027.0, 29022.0, 29034.61, 29068.66, 29086.9, 29068.25, 29073.73, 29076.08, 29090.5, 29032.19, 29027.57, 29086.33, 29052.53, 29068.4, 29081.49, 29126.79, 29140.95, 29131.16, 29153.44, 29159.72, 29150.0, 29135.87, 29121.34, 29132.25, 29135.65, 29117.77, 29129.01, 29109.08, 29104.24, 29110.42, 29120.01, 29152.28, 29129.54, 29115.8, 29117.28, 29127.06, 29117.21, 29155.9, 29163.22, 29151.76, 29157.61, 29161.92, 29158.93, 29163.54, 29154.94, 29160.77, 29155.83, 29131.87, 29142.99, 29141.02, 29144.06, 29148.63, 29128.88, 29126.54, 29129.73, 29091.98, 29100.23, 28947.7, 28971.94, 29037.57, 29081.03, 29098.82, 29165.28, 29200.0, 29200.0, 29158.51, 29183.29, 29185.65, 29204.15, 29207.98, 29218.1, 29223.12, 29231.34, 29241.31, 29230.76, 29248.19, 29269.55, 29261.9, 29266.13, 29267.89, 29267.56, 29281.88, 29300.99, 29282.2, 29282.89, 29275.99, 29291.48, 29288.57, 29290.68, 29283.59, 29226.1, 29262.41, 29266.84, 29240.01, 29250.94, 29250.96, 29255.69, 29263.48, 29254.08, 29254.7, 29280.59, 29260.28, 29251.63, 29268.04, 29286.64, 29296.78, 29300.23, 29304.63, 29317.46, 29330.98, 29326.65, 29318.29, 29320.55, 29287.03, 29308.68, 29303.87, 29294.9, 29283.54, 29278.12, 29281.45, 29281.68, 29279.2, 29279.21, 29284.85, 29286.49, 29313.0, 29303.92, 29292.83, 29300.92, 29289.33, 29262.74, 29264.47, 29269.15, 29252.25, 29276.11, 29252.31, 29280.97, 29289.74, 29282.1, 29280.64, 29290.91, 29304.57, 29312.02, 29303.67, 29303.67, 29305.4, 29310.15, 29313.98, 29321.82, 29333.32, 29324.89, 29327.64, 29336.15, 29333.36, 29344.52, 29359.81, 29331.18, 29317.5, 29316.23, 29324.23, 29304.03, 29295.16, 29262.68, 29255.86, 29238.89, 29228.97, 29242.39, 29251.09, 29275.02, 29253.12, 29268.11, 29262.95, 29260.0, 29260.25, 29273.32, 29263.67, 29246.06, 29197.08, 29202.34, 29213.55, 29241.13, 29241.73, 29258.42, 29249.63, 29266.06, 29255.35, 29266.06, 29266.06, 29276.64, 29288.49, 29290.96, 29300.61, 29307.76, 29314.74, 29335.44, 29335.46, 29341.05, 29315.21, 29315.21, 29339.48, 29347.51, 29356.35, 29356.57, 29367.76, 29354.97, 29364.29, 29343.16, 29335.28, 29354.3, 29371.69, 29376.57, 29376.62, 29376.74, 29376.75, 29337.48, 29319.12, 29322.18, 29361.12, 29368.27, 29370.52, 29379.34, 29386.27, 29376.48, 29369.91, 29361.37, 29340.21, 29330.63, 29348.23, 29343.67, 29354.33, 29358.27, 29374.2, 29338.56, 29324.01, 29335.5, 29340.65, 29340.67, 29326.11, 29332.22, 29336.62, 29361.83, 29361.85, 29364.55, 29354.83, 29364.71, 29348.72, 29348.64, 29352.81, 29356.22, 29357.72, 29344.65, 29321.4, 29321.41, 29311.32, 29318.72, 29338.66, 29357.73, 29364.73, 29374.78, 29339.19, 29357.58, 29351.33, 29360.25, 29360.59, 29353.81, 29353.82, 29356.32, 29357.65, 29367.83, 29384.51, 29405.34, 29399.66, 29401.28, 29407.84, 29409.63, 29398.09, 29395.92, 29403.24, 29407.29, 29370.44, 29358.44, 29353.14, 29357.17, 29361.38, 29341.17, 29347.97, 29349.42, 29351.28, 29364.72, 29372.26, 29369.02, 29376.04, 29383.38, 29384.51, 29394.34, 29394.12, 29396.92], \"name\": \"BTC\", \"open\": [29006.31, 29083.47, 29035.89, 29048.13, 29045.19, 28999.5, 28997.36, 28990.35, 28941.55, 28937.66, 28925.13, 28888.34, 28899.24, 28811.01, 28834.74, 28825.45, 28893.34, 28888.52, 28898.38, 28916.52, 28827.83, 28852.31, 28889.32, 28919.39, 28907.28, 28932.43, 28920.26, 28914.43, 28900.07, 28910.87, 28950.0, 28931.21, 28947.96, 28974.79, 28952.07, 28999.77, 29001.18, 28983.72, 28971.13, 28974.45, 28996.99, 28986.61, 28991.31, 28997.26, 29017.21, 28978.01, 29004.36, 29022.29, 29011.08, 29023.58, 29023.71, 29013.59, 29049.01, 29049.6, 29033.24, 29026.33, 29039.46, 29071.96, 29088.01, 29056.94, 29047.01, 29030.04, 29068.95, 29053.89, 29117.04, 29155.0, 29148.32, 29132.57, 29190.29, 29174.65, 29201.56, 29253.96, 29295.91, 29292.62, 29413.41, 29437.83, 29402.51, 29384.51, 29380.0, 29329.79, 29395.99, 29370.04, 29352.86, 29367.32, 29383.62, 29381.66, 29344.2, 29367.05, 29402.62, 29445.8, 29495.0, 29401.45, 29435.8, 29414.81, 29435.79, 29404.51, 29462.27, 29489.36, 29524.97, 29455.78, 29451.85, 29443.61, 29438.16, 29442.38, 29403.39, 29416.32, 29429.59, 29434.16, 29420.26, 29459.8, 29437.44, 29447.22, 29412.27, 29452.34, 29453.09, 29459.23, 29430.95, 29498.51, 29476.93, 29479.12, 29518.58, 29527.72, 29464.99, 29456.74, 29454.8, 29439.16, 29428.04, 29436.66, 29429.44, 29450.0, 29441.25, 29440.74, 29415.67, 29341.44, 29327.81, 29370.5, 29360.26, 29383.61, 29385.6, 29420.51, 29377.43, 29378.35, 29392.79, 29405.78, 29420.1, 29404.72, 29413.87, 29378.84, 29346.12, 29353.0, 29276.0, 29307.0, 29282.0, 29287.96, 29286.43, 29314.44, 29320.77, 29317.91, 29316.45, 29284.83, 29297.44, 29235.57, 29292.49, 29324.09, 29330.75, 29336.94, 29337.83, 29325.88, 29358.14, 29393.66, 29368.55, 29328.59, 29325.65, 29287.02, 29247.75, 29247.2, 29261.83, 29263.35, 29240.9, 29249.33, 29278.12, 29285.06, 29279.15, 29293.7, 29313.44, 29312.65, 29317.86, 29311.75, 29293.7, 29321.88, 29328.86, 29344.12, 29338.21, 29348.13, 29328.1, 29377.2, 29332.27, 29328.1, 29310.13, 29304.59, 29293.82, 29317.63, 29288.07, 29279.03, 29312.2, 29311.48, 29253.49, 29238.28, 29252.48, 29287.23, 29258.19, 29276.04, 29302.79, 29297.97, 29291.1, 29309.8, 29328.44, 29325.53, 29293.67, 29304.17, 29399.99, 29400.4, 29372.83, 29358.77, 29351.18, 29338.78, 29338.42, 29333.62, 29359.05, 29345.31, 29317.79, 29317.94, 29331.28, 29355.1, 29388.76, 29377.33, 29389.07, 29376.96, 29364.0, 29345.63, 29386.34, 29407.51, 29389.98, 29379.9, 29370.17, 29365.83, 29373.83, 29387.52, 29376.26, 29372.98, 29392.99, 29386.75, 29370.78, 29384.28, 29348.2, 29413.65, 29430.09, 29415.45, 29432.68, 29441.33, 29426.39, 29412.12, 29439.05, 29402.34, 29431.68, 29429.38, 29433.95, 29420.36, 29433.18, 29406.81, 29416.62, 29358.35, 29371.59, 29310.8, 29314.05, 29295.83, 29293.28, 29296.15, 29267.69, 29269.51, 29260.0, 29191.74, 29224.97, 29243.92, 29252.53, 29252.92, 29257.08, 29288.41, 29268.4, 29255.22, 29288.05, 29272.25, 29284.89, 29281.34, 29284.36, 29284.55, 29291.07, 29269.62, 29295.97, 29290.38, 29278.12, 29275.39, 29245.14, 29214.67, 29225.82, 29235.58, 29247.09, 29227.74, 29185.73, 29170.39, 29181.61, 29184.56, 29187.01, 29167.9, 29187.28, 29213.75, 29207.61, 29213.49, 29201.14, 29223.93, 29209.81, 29212.62, 29211.11, 29204.51, 29222.58, 29237.27, 29237.77, 29215.36, 29215.46, 29227.35, 29217.28, 29237.65, 29229.28, 29197.41, 29202.6, 29184.23, 29201.82, 29206.47, 29264.88, 29254.2, 29228.92, 29222.91, 29257.71, 29243.81, 29237.82, 29236.31, 29241.74, 29235.31, 29265.55, 29250.08, 29255.68, 29223.45, 29215.99, 29198.93, 29208.53, 29229.87, 29201.72, 29221.38, 29246.33, 29242.1, 29261.63, 29271.85, 29271.0, 29297.77, 29310.71, 29303.0, 29306.96, 29288.77, 29289.01, 29263.24, 29281.1, 29272.42, 29276.98, 29265.89, 29274.29, 29262.12, 29268.94, 29232.03, 29241.48, 29215.36, 29249.52, 29249.65, 29249.65, 29212.2, 29234.26, 29205.63, 29200.0, 29204.41, 29200.0, 29184.51, 29222.6, 29209.76, 29210.07, 29172.64, 29209.13, 29235.61, 29239.18, 29227.7, 29235.63, 29221.57, 29225.1, 29229.96, 29233.03, 29252.05, 29252.25, 29246.25, 29244.73, 29218.34, 29246.6, 29235.72, 29218.1, 29219.06, 29220.13, 29220.56, 29171.82, 29196.57, 29189.61, 29212.05, 29215.4, 29245.54, 29215.01, 29250.66, 29253.6, 29229.85, 29244.2, 29202.94, 29193.2, 29171.88, 29093.59, 29107.82, 28996.91, 29048.0, 29030.98, 29055.29, 29002.09, 29048.91, 29022.7, 29086.9, 29099.89, 29088.53, 29070.18, 29063.56, 29077.51, 29066.88, 29101.48, 29107.66, 29094.26, 29071.04, 29101.43, 29079.93, 29092.12, 29082.44, 29105.9, 29121.75, 29121.85, 29121.85, 29144.51, 29138.57, 29139.94, 29148.37, 29152.65, 29163.6, 29178.79, 29161.39, 29160.23, 29161.89, 29145.48, 29150.84, 29140.5, 29158.04, 29178.0, 29168.57, 29182.64, 29165.3, 29165.3, 29160.99, 29177.93, 29184.12, 29173.17, 29173.17, 29206.76, 29247.4, 29190.71, 29201.0, 29174.45, 29175.54, 29138.26, 29115.89, 29107.5, 29118.91, 29103.76, 29111.45, 29075.54, 29090.52, 29064.67, 29053.09, 29026.8, 29054.55, 29017.21, 28998.42, 28982.44, 28991.14, 29031.72, 29045.26, 29077.71, 29040.97, 29064.83, 29109.89, 29105.18, 29105.18, 29121.46, 29156.75, 29155.72, 29179.97, 29183.54, 29144.04, 29122.08, 29117.93, 29119.88, 29148.89, 29160.11, 29123.34, 29109.89, 29051.96, 29038.83, 29019.01, 29056.07, 29072.07, 29108.21, 29084.27, 29107.83, 29108.46, 29102.66, 29124.29, 29106.5, 29142.68, 29140.37, 29125.0, 29139.94, 29077.2, 29098.46, 29105.52, 29149.99, 29145.92, 29168.6, 29150.0, 29169.79, 29170.03, 29158.75, 29150.13, 29150.0, 29149.46, 29185.67, 29219.03, 29191.75, 29195.44, 29204.02, 29198.8, 29200.0, 29203.16, 29232.72, 29242.63, 29248.15, 29232.92, 29235.32, 29257.09, 29271.37, 29297.77, 29277.46, 29261.03, 29283.82, 29312.03, 29313.97, 29320.47, 29344.16, 29340.56, 29350.0, 29387.46, 29378.78, 29340.03, 29340.0, 29340.0, 29324.13, 29315.51, 29307.16, 29329.55, 29319.5, 29329.55, 29339.13, 29329.69, 29320.04, 29317.44, 29306.95, 29296.25, 29277.78, 29299.99, 29270.45, 29282.96, 29295.09, 29282.62, 29277.06, 29258.63, 29299.34, 29309.78, 29306.96, 29260.67, 29246.07, 29266.23, 29266.23, 29305.57, 29402.55, 29375.54, 29357.3, 29343.15, 29337.07, 29371.1, 29354.44, 29372.81, 29354.28, 29360.78, 29344.72, 29333.59, 29307.08, 29309.98, 29304.16, 29318.02, 29310.93, 29310.73, 29351.23, 29300.0, 29311.82, 29310.73, 29313.36, 29302.79, 29305.36, 29319.79, 29323.79, 29341.6, 29328.86, 29358.07, 29382.54, 29376.15, 29354.67, 29339.3, 29339.34, 29353.13, 29356.89, 29325.19, 29314.25, 29351.48, 29390.66, 29366.45, 29362.0, 29355.69, 29340.72, 29360.81, 29343.36, 29342.88, 29341.56, 29318.16, 29345.75, 29381.25, 29378.32, 29346.52, 29335.29, 29347.3, 29370.45, 29373.15, 29415.4, 29392.6, 29375.54, 29384.49, 29376.79, 29404.4, 29379.38, 29386.9, 29350.0, 29382.8, 29370.36, 29391.81, 29415.88, 29423.1, 29428.61, 29423.33, 29436.78, 29428.12, 29442.64, 29447.81, 29413.95, 29462.08, 29490.0, 29453.32, 29420.9, 29403.05, 29406.79, 29340.99, 29379.96, 29362.59, 29377.3, 29375.38, 29384.47, 29387.01, 29387.38, 29385.0, 29350.6, 29339.29, 29342.11, 29363.94, 29351.58, 29356.98, 29376.42, 29371.56, 29353.89, 29355.45, 29341.55, 29368.07, 29376.01, 29377.31, 29395.11, 29390.34, 29391.01, 29390.85, 29365.75, 29319.19, 29327.83, 29295.14, 29299.75, 29312.33, 29297.9, 29304.2, 29344.12, 29348.73, 29351.15, 29361.18, 29349.13, 29330.12, 29346.78, 29365.89, 29383.69, 29414.74, 29458.05, 29433.52, 29485.21, 29454.13, 29500.0, 29516.03, 29496.78, 29493.1, 29498.05, 29516.81, 29540.55, 29645.78, 29622.73, 29613.83, 29605.76, 29634.56, 29675.0, 29670.29, 29626.04, 29629.66, 29637.93, 29559.34, 29527.5, 29588.91, 29590.4, 29508.52, 29559.95, 29557.93, 29577.86, 29538.57, 29451.48, 29367.31, 29381.42, 29343.96, 29244.41, 29313.8, 29310.0, 29313.18, 29329.62, 29313.77, 29352.05, 29363.48, 29414.46, 29375.96, 29371.2, 29404.02, 29394.26, 29395.48, 29405.1, 29410.47, 29431.58, 29426.45, 29406.68, 29451.09, 29473.16, 29453.46, 29472.41, 29464.27, 29438.04, 29438.46, 29397.0, 29394.08, 29411.32, 29443.05, 29412.73, 29459.84, 29430.32, 29424.49, 29459.84, 29484.78, 29462.7, 29476.85, 29489.7, 29461.49, 29475.41, 29456.43, 29481.77, 29472.25, 29490.51, 29488.84, 29500.19, 29492.51, 29461.22, 29456.3, 29476.54, 29501.36, 29522.8, 29543.93, 29543.93, 29524.47, 29542.7, 29540.45, 29532.64, 29532.65, 29527.25, 29535.2, 29536.96, 29551.65, 29539.27, 29538.92, 29540.49, 29463.27, 29480.06, 29501.48, 29533.14, 29559.32, 29565.77, 29610.58, 29590.6, 29537.51, 29524.23, 29523.28, 29534.93, 29577.23, 29548.08, 29518.86, 29491.88, 29499.82, 29510.78, 29532.88, 29518.76, 29527.39, 29529.17, 29544.91, 29512.65, 29516.22, 29530.93, 29519.44, 29528.1, 29522.08, 29522.99, 29516.28, 29495.2, 29441.0, 29425.7, 29449.1, 29474.98, 29472.97, 29484.58, 29473.86, 29490.77, 29492.96, 29483.08, 29486.52, 29472.86, 29434.74, 29431.64, 29452.29, 29423.83, 29445.14, 29420.16, 29416.57, 29392.17, 29356.39, 29376.91, 29401.59, 29388.7, 29380.0, 29373.81, 29397.69, 29381.84, 29359.95, 29324.63, 29365.37, 29327.09, 29371.85, 29390.2, 29394.71, 29403.49, 29394.74, 29400.54, 29456.2, 29437.89, 29430.75, 29424.72, 29410.99, 29432.72, 29420.41, 29428.26, 29439.06, 29389.69, 29388.0, 29390.26, 29363.49, 29370.92, 29387.96, 29343.2, 29359.13, 29369.63, 29356.62, 29320.65, 29309.23, 29305.37, 29329.24, 29310.51, 29292.4, 29228.34, 29151.72, 29169.71, 29128.95, 29167.33, 29204.2, 29237.72, 29222.86, 29195.68, 29215.0, 29268.65, 29260.48, 29290.98, 29284.77, 29283.25, 29299.04, 29297.68, 29289.28, 29281.32, 29250.59, 29235.02, 29248.36, 29286.16, 29261.96, 29304.23, 29312.26, 29258.14, 29210.5, 29218.42, 29222.43, 29269.5, 29282.74, 29276.55, 29300.0, 29301.19, 29300.84, 29288.81, 29301.18, 29290.99, 29295.07, 29306.9, 29311.61, 29299.16, 29346.15, 29332.58, 29347.66, 29367.31, 29355.97, 29359.24, 29384.07, 29388.45, 29354.66, 29342.0, 29359.74, 29345.05, 29343.23, 29358.5, 29367.0, 29371.95, 29373.79, 29365.24, 29360.2, 29358.71, 29369.9, 29353.17, 29359.8, 29367.5, 29361.07, 29369.28, 29402.55, 29418.09, 29423.22, 29399.39, 29393.57, 29393.25, 29416.89, 29432.98, 29422.96, 29400.34, 29382.74, 29393.76, 29397.2, 29357.98, 29376.86, 29340.6, 29361.35, 29368.91, 29382.69, 29385.76, 29390.54, 29392.41, 29390.51, 29382.06, 29364.52, 29373.93, 29398.39, 29391.15, 29388.63, 29375.97, 29416.26, 29407.47, 29416.76, 29414.07, 29395.15, 29407.46, 29379.69, 29330.2, 29357.95, 29343.08, 29333.39, 29338.19, 29338.53, 29347.3, 29365.27, 29352.67, 29318.12, 29306.09, 29281.6, 29290.61, 29303.22, 29306.6, 29304.91, 29259.2, 29224.37, 29212.27, 29256.64, 29257.65, 29236.11, 29243.2, 29080.0, 29081.55, 29115.17, 29148.08, 29164.5, 29185.5, 29182.47, 29185.57, 29184.97, 29198.94, 29191.44, 29185.67, 29174.0, 29169.9, 29162.36, 29054.58, 29138.12, 29212.29, 29319.42, 29303.37, 29291.4, 29283.81, 29303.61, 29300.06, 29290.08, 29294.18, 29300.96, 29294.87, 29310.84, 29287.94, 29296.93, 29283.67, 29295.47, 29277.93, 29280.44, 29246.29, 29218.4, 29195.91, 29191.34, 29164.62, 29169.13, 29104.43, 29111.05, 29135.65, 29092.51, 29052.04, 29119.35, 29117.77, 29137.74, 29132.08, 29116.28, 29092.74, 29123.25, 29105.51, 29030.54, 29057.52, 29032.95, 28951.75, 28965.18, 28952.0, 28826.4, 28789.41, 28855.63, 28946.25, 28982.44, 29018.95, 29043.3, 29086.9, 29114.7, 29077.07, 29078.07, 29137.06, 29152.17, 29153.74, 29130.21, 29092.4, 29065.19, 29102.84, 29048.75, 29022.0, 29077.23, 29068.66, 29089.8, 29068.25, 29088.17, 29118.08, 29108.14, 29032.19, 29093.58, 29094.36, 29106.19, 29068.4, 29123.0, 29150.0, 29154.88, 29134.85, 29185.8, 29159.72, 29176.8, 29135.87, 29144.86, 29157.84, 29148.8, 29143.17, 29129.01, 29109.08, 29146.02, 29129.41, 29162.08, 29152.28, 29150.33, 29117.28, 29135.86, 29150.68, 29160.49, 29170.52, 29169.24, 29157.6, 29184.5, 29174.61, 29167.48, 29172.28, 29160.76, 29184.11, 29168.11, 29145.03, 29174.97, 29154.2, 29153.24, 29152.52, 29145.68, 29143.3, 29133.36, 29132.15, 29131.54, 28976.74, 29067.01, 29099.79, 29121.79, 29184.76, 29219.96, 29200.03, 29207.49, 29195.47, 29210.79, 29198.86, 29249.15, 29226.27, 29234.69, 29261.84, 29246.91, 29260.38, 29259.27, 29293.88, 29287.17, 29276.8, 29283.05, 29288.62, 29301.46, 29313.45, 29306.36, 29300.82, 29285.71, 29293.53, 29300.99, 29300.19, 29294.1, 29284.98, 29283.91, 29276.88, 29273.37, 29253.92, 29252.12, 29259.61, 29288.08, 29272.49, 29261.62, 29281.84, 29306.79, 29269.88, 29267.99, 29299.0, 29301.93, 29301.44, 29304.52, 29313.06, 29330.73, 29348.0, 29350.86, 29338.98, 29337.44, 29316.11, 29327.07, 29310.98, 29294.9, 29305.81, 29289.5, 29295.26, 29281.68, 29298.42, 29304.94, 29319.31, 29302.34, 29320.37, 29321.78, 29315.66, 29302.12, 29289.33, 29262.74, 29281.41, 29269.15, 29287.06, 29279.25, 29294.31, 29300.31, 29305.93, 29282.1, 29295.81, 29314.11, 29326.55, 29319.04, 29303.67, 29316.82, 29310.15, 29321.96, 29331.72, 29344.07, 29353.31, 29331.4, 29348.31, 29341.7, 29351.53, 29368.92, 29381.34, 29331.18, 29317.5, 29345.66, 29339.94, 29306.19, 29319.61, 29262.68, 29275.84, 29249.47, 29258.01, 29251.85, 29285.61, 29286.07, 29268.11, 29282.95, 29282.6, 29269.56, 29288.23, 29290.8, 29269.56, 29247.92, 29218.29, 29221.88, 29241.13, 29254.12, 29276.9, 29265.14, 29272.01, 29275.64, 29266.06, 29266.06, 29292.65, 29288.02, 29300.98, 29291.07, 29320.7, 29331.63, 29333.11, 29346.41, 29336.89, 29341.16, 29322.8, 29349.0, 29363.37, 29356.35, 29360.88, 29369.7, 29367.76, 29354.97, 29372.54, 29343.16, 29361.42, 29368.49, 29385.07, 29376.62, 29376.73, 29392.43, 29387.49, 29337.48, 29334.93, 29377.3, 29402.55, 29388.44, 29395.51, 29398.92, 29391.72, 29376.5, 29371.4, 29361.37, 29350.94, 29345.76, 29349.27, 29354.32, 29372.23, 29359.86, 29394.66, 29350.01, 29343.22, 29340.65, 29349.38, 29355.57, 29339.61, 29345.81, 29379.56, 29371.18, 29380.19, 29364.55, 29376.61, 29384.09, 29359.97, 29369.55, 29375.18, 29370.5, 29368.96, 29358.55, 29338.6, 29324.05, 29318.89, 29347.92, 29367.28, 29385.33, 29388.09, 29374.78, 29368.4, 29357.58, 29371.45, 29369.79, 29373.64, 29366.21, 29372.59, 29380.58, 29378.82, 29384.51, 29405.35, 29409.32, 29411.49, 29403.08, 29424.22, 29409.63, 29416.2, 29420.88, 29405.81, 29420.88, 29394.84, 29373.1, 29360.92, 29357.17, 29361.58, 29347.53, 29356.86, 29365.8, 29380.64, 29386.84, 29378.74, 29377.49, 29376.04, 29390.92, 29402.92, 29399.58, 29408.73, 29402.64], \"type\": \"candlestick\", \"x\": [\"2021-01-01T00:00:00\", \"2021-01-01T00:01:00\", \"2021-01-01T00:02:00\", \"2021-01-01T00:03:00\", \"2021-01-01T00:04:00\", \"2021-01-01T00:05:00\", \"2021-01-01T00:06:00\", \"2021-01-01T00:07:00\", \"2021-01-01T00:08:00\", \"2021-01-01T00:09:00\", \"2021-01-01T00:10:00\", \"2021-01-01T00:11:00\", \"2021-01-01T00:12:00\", \"2021-01-01T00:13:00\", \"2021-01-01T00:14:00\", \"2021-01-01T00:15:00\", \"2021-01-01T00:16:00\", \"2021-01-01T00:17:00\", \"2021-01-01T00:18:00\", \"2021-01-01T00:19:00\", \"2021-01-01T00:20:00\", \"2021-01-01T00:21:00\", \"2021-01-01T00:22:00\", \"2021-01-01T00:23:00\", \"2021-01-01T00:24:00\", \"2021-01-01T00:25:00\", \"2021-01-01T00:26:00\", \"2021-01-01T00:27:00\", \"2021-01-01T00:28:00\", \"2021-01-01T00:29:00\", \"2021-01-01T00:30:00\", \"2021-01-01T00:31:00\", \"2021-01-01T00:32:00\", \"2021-01-01T00:33:00\", \"2021-01-01T00:34:00\", \"2021-01-01T00:35:00\", \"2021-01-01T00:36:00\", \"2021-01-01T00:37:00\", \"2021-01-01T00:38:00\", \"2021-01-01T00:39:00\", \"2021-01-01T00:40:00\", \"2021-01-01T00:41:00\", \"2021-01-01T00:42:00\", \"2021-01-01T00:43:00\", \"2021-01-01T00:44:00\", \"2021-01-01T00:45:00\", \"2021-01-01T00:46:00\", \"2021-01-01T00:47:00\", \"2021-01-01T00:48:00\", \"2021-01-01T00:49:00\", \"2021-01-01T00:50:00\", \"2021-01-01T00:51:00\", \"2021-01-01T00:52:00\", \"2021-01-01T00:53:00\", \"2021-01-01T00:54:00\", \"2021-01-01T00:55:00\", \"2021-01-01T00:56:00\", \"2021-01-01T00:57:00\", \"2021-01-01T00:58:00\", \"2021-01-01T00:59:00\", \"2021-01-01T01:00:00\", \"2021-01-01T01:01:00\", \"2021-01-01T01:02:00\", \"2021-01-01T01:03:00\", \"2021-01-01T01:04:00\", \"2021-01-01T01:05:00\", \"2021-01-01T01:06:00\", \"2021-01-01T01:07:00\", \"2021-01-01T01:08:00\", \"2021-01-01T01:09:00\", \"2021-01-01T01:10:00\", \"2021-01-01T01:11:00\", \"2021-01-01T01:12:00\", \"2021-01-01T01:13:00\", \"2021-01-01T01:14:00\", \"2021-01-01T01:15:00\", \"2021-01-01T01:16:00\", \"2021-01-01T01:17:00\", \"2021-01-01T01:18:00\", \"2021-01-01T01:19:00\", \"2021-01-01T01:20:00\", \"2021-01-01T01:21:00\", \"2021-01-01T01:22:00\", \"2021-01-01T01:23:00\", \"2021-01-01T01:24:00\", \"2021-01-01T01:25:00\", \"2021-01-01T01:26:00\", \"2021-01-01T01:27:00\", \"2021-01-01T01:28:00\", \"2021-01-01T01:29:00\", \"2021-01-01T01:30:00\", \"2021-01-01T01:31:00\", \"2021-01-01T01:32:00\", \"2021-01-01T01:33:00\", \"2021-01-01T01:34:00\", \"2021-01-01T01:35:00\", \"2021-01-01T01:36:00\", \"2021-01-01T01:37:00\", \"2021-01-01T01:38:00\", \"2021-01-01T01:39:00\", \"2021-01-01T01:40:00\", \"2021-01-01T01:41:00\", \"2021-01-01T01:42:00\", \"2021-01-01T01:43:00\", \"2021-01-01T01:44:00\", \"2021-01-01T01:45:00\", \"2021-01-01T01:46:00\", \"2021-01-01T01:47:00\", \"2021-01-01T01:48:00\", \"2021-01-01T01:49:00\", \"2021-01-01T01:50:00\", \"2021-01-01T01:51:00\", \"2021-01-01T01:52:00\", \"2021-01-01T01:53:00\", \"2021-01-01T01:54:00\", \"2021-01-01T01:55:00\", \"2021-01-01T01:56:00\", \"2021-01-01T01:57:00\", \"2021-01-01T01:58:00\", \"2021-01-01T01:59:00\", \"2021-01-01T02:00:00\", \"2021-01-01T02:01:00\", \"2021-01-01T02:02:00\", \"2021-01-01T02:03:00\", \"2021-01-01T02:04:00\", \"2021-01-01T02:05:00\", \"2021-01-01T02:06:00\", \"2021-01-01T02:07:00\", \"2021-01-01T02:08:00\", \"2021-01-01T02:09:00\", \"2021-01-01T02:10:00\", \"2021-01-01T02:11:00\", \"2021-01-01T02:12:00\", \"2021-01-01T02:13:00\", \"2021-01-01T02:14:00\", \"2021-01-01T02:15:00\", \"2021-01-01T02:16:00\", \"2021-01-01T02:17:00\", \"2021-01-01T02:18:00\", \"2021-01-01T02:19:00\", \"2021-01-01T02:20:00\", \"2021-01-01T02:21:00\", \"2021-01-01T02:22:00\", \"2021-01-01T02:23:00\", \"2021-01-01T02:24:00\", \"2021-01-01T02:25:00\", \"2021-01-01T02:26:00\", \"2021-01-01T02:27:00\", \"2021-01-01T02:28:00\", \"2021-01-01T02:29:00\", \"2021-01-01T02:30:00\", \"2021-01-01T02:31:00\", \"2021-01-01T02:32:00\", \"2021-01-01T02:33:00\", \"2021-01-01T02:34:00\", \"2021-01-01T02:35:00\", \"2021-01-01T02:36:00\", \"2021-01-01T02:37:00\", \"2021-01-01T02:38:00\", \"2021-01-01T02:39:00\", \"2021-01-01T02:40:00\", \"2021-01-01T02:41:00\", \"2021-01-01T02:42:00\", \"2021-01-01T02:43:00\", \"2021-01-01T02:44:00\", \"2021-01-01T02:45:00\", \"2021-01-01T02:46:00\", \"2021-01-01T02:47:00\", \"2021-01-01T02:48:00\", \"2021-01-01T02:49:00\", \"2021-01-01T02:50:00\", \"2021-01-01T02:51:00\", \"2021-01-01T02:52:00\", \"2021-01-01T02:53:00\", \"2021-01-01T02:54:00\", \"2021-01-01T02:55:00\", \"2021-01-01T02:56:00\", \"2021-01-01T02:57:00\", \"2021-01-01T02:58:00\", \"2021-01-01T02:59:00\", \"2021-01-01T03:00:00\", \"2021-01-01T03:01:00\", \"2021-01-01T03:02:00\", \"2021-01-01T03:03:00\", \"2021-01-01T03:04:00\", \"2021-01-01T03:05:00\", \"2021-01-01T03:06:00\", \"2021-01-01T03:07:00\", \"2021-01-01T03:08:00\", \"2021-01-01T03:09:00\", \"2021-01-01T03:10:00\", \"2021-01-01T03:11:00\", \"2021-01-01T03:12:00\", \"2021-01-01T03:13:00\", \"2021-01-01T03:14:00\", \"2021-01-01T03:15:00\", \"2021-01-01T03:16:00\", \"2021-01-01T03:17:00\", \"2021-01-01T03:18:00\", \"2021-01-01T03:19:00\", \"2021-01-01T03:20:00\", \"2021-01-01T03:21:00\", \"2021-01-01T03:22:00\", \"2021-01-01T03:23:00\", \"2021-01-01T03:24:00\", \"2021-01-01T03:25:00\", \"2021-01-01T03:26:00\", \"2021-01-01T03:27:00\", \"2021-01-01T03:28:00\", \"2021-01-01T03:29:00\", \"2021-01-01T03:30:00\", \"2021-01-01T03:31:00\", \"2021-01-01T03:32:00\", \"2021-01-01T03:33:00\", \"2021-01-01T03:34:00\", \"2021-01-01T03:35:00\", \"2021-01-01T03:36:00\", \"2021-01-01T03:37:00\", \"2021-01-01T03:38:00\", \"2021-01-01T03:39:00\", \"2021-01-01T03:40:00\", \"2021-01-01T03:41:00\", \"2021-01-01T03:42:00\", \"2021-01-01T03:43:00\", \"2021-01-01T03:44:00\", \"2021-01-01T03:45:00\", \"2021-01-01T03:46:00\", \"2021-01-01T03:47:00\", \"2021-01-01T03:48:00\", \"2021-01-01T03:49:00\", \"2021-01-01T03:50:00\", \"2021-01-01T03:51:00\", \"2021-01-01T03:52:00\", \"2021-01-01T03:53:00\", \"2021-01-01T03:54:00\", \"2021-01-01T03:55:00\", \"2021-01-01T03:56:00\", \"2021-01-01T03:57:00\", \"2021-01-01T03:58:00\", \"2021-01-01T03:59:00\", \"2021-01-01T04:00:00\", \"2021-01-01T04:01:00\", \"2021-01-01T04:02:00\", \"2021-01-01T04:03:00\", \"2021-01-01T04:04:00\", \"2021-01-01T04:05:00\", \"2021-01-01T04:06:00\", \"2021-01-01T04:07:00\", \"2021-01-01T04:08:00\", \"2021-01-01T04:09:00\", \"2021-01-01T04:10:00\", \"2021-01-01T04:11:00\", \"2021-01-01T04:12:00\", \"2021-01-01T04:13:00\", \"2021-01-01T04:14:00\", \"2021-01-01T04:15:00\", \"2021-01-01T04:16:00\", \"2021-01-01T04:17:00\", \"2021-01-01T04:18:00\", \"2021-01-01T04:19:00\", \"2021-01-01T04:20:00\", \"2021-01-01T04:21:00\", \"2021-01-01T04:22:00\", \"2021-01-01T04:23:00\", \"2021-01-01T04:24:00\", \"2021-01-01T04:25:00\", \"2021-01-01T04:26:00\", \"2021-01-01T04:27:00\", \"2021-01-01T04:28:00\", \"2021-01-01T04:29:00\", \"2021-01-01T04:30:00\", \"2021-01-01T04:31:00\", \"2021-01-01T04:32:00\", \"2021-01-01T04:33:00\", \"2021-01-01T04:34:00\", \"2021-01-01T04:35:00\", \"2021-01-01T04:36:00\", \"2021-01-01T04:37:00\", \"2021-01-01T04:38:00\", \"2021-01-01T04:39:00\", \"2021-01-01T04:40:00\", \"2021-01-01T04:41:00\", \"2021-01-01T04:42:00\", \"2021-01-01T04:43:00\", \"2021-01-01T04:44:00\", \"2021-01-01T04:45:00\", \"2021-01-01T04:46:00\", \"2021-01-01T04:47:00\", \"2021-01-01T04:48:00\", \"2021-01-01T04:49:00\", \"2021-01-01T04:50:00\", \"2021-01-01T04:51:00\", \"2021-01-01T04:52:00\", \"2021-01-01T04:53:00\", \"2021-01-01T04:54:00\", \"2021-01-01T04:55:00\", \"2021-01-01T04:56:00\", \"2021-01-01T04:57:00\", \"2021-01-01T04:58:00\", \"2021-01-01T04:59:00\", \"2021-01-01T05:00:00\", \"2021-01-01T05:01:00\", \"2021-01-01T05:02:00\", \"2021-01-01T05:03:00\", \"2021-01-01T05:04:00\", \"2021-01-01T05:05:00\", \"2021-01-01T05:06:00\", \"2021-01-01T05:07:00\", \"2021-01-01T05:08:00\", \"2021-01-01T05:09:00\", \"2021-01-01T05:10:00\", \"2021-01-01T05:11:00\", \"2021-01-01T05:12:00\", \"2021-01-01T05:13:00\", \"2021-01-01T05:14:00\", \"2021-01-01T05:15:00\", \"2021-01-01T05:16:00\", \"2021-01-01T05:17:00\", \"2021-01-01T05:18:00\", \"2021-01-01T05:19:00\", \"2021-01-01T05:20:00\", \"2021-01-01T05:21:00\", \"2021-01-01T05:22:00\", \"2021-01-01T05:23:00\", \"2021-01-01T05:24:00\", \"2021-01-01T05:25:00\", \"2021-01-01T05:26:00\", \"2021-01-01T05:27:00\", \"2021-01-01T05:28:00\", \"2021-01-01T05:29:00\", \"2021-01-01T05:30:00\", \"2021-01-01T05:31:00\", \"2021-01-01T05:32:00\", \"2021-01-01T05:33:00\", \"2021-01-01T05:34:00\", \"2021-01-01T05:35:00\", \"2021-01-01T05:36:00\", \"2021-01-01T05:37:00\", \"2021-01-01T05:38:00\", \"2021-01-01T05:39:00\", \"2021-01-01T05:40:00\", \"2021-01-01T05:41:00\", \"2021-01-01T05:42:00\", \"2021-01-01T05:43:00\", \"2021-01-01T05:44:00\", \"2021-01-01T05:45:00\", \"2021-01-01T05:46:00\", \"2021-01-01T05:47:00\", \"2021-01-01T05:48:00\", \"2021-01-01T05:49:00\", \"2021-01-01T05:50:00\", \"2021-01-01T05:51:00\", \"2021-01-01T05:52:00\", \"2021-01-01T05:53:00\", \"2021-01-01T05:54:00\", \"2021-01-01T05:55:00\", \"2021-01-01T05:56:00\", \"2021-01-01T05:57:00\", \"2021-01-01T05:58:00\", \"2021-01-01T05:59:00\", \"2021-01-01T06:00:00\", \"2021-01-01T06:01:00\", \"2021-01-01T06:02:00\", \"2021-01-01T06:03:00\", \"2021-01-01T06:04:00\", \"2021-01-01T06:05:00\", \"2021-01-01T06:06:00\", \"2021-01-01T06:07:00\", \"2021-01-01T06:08:00\", \"2021-01-01T06:09:00\", \"2021-01-01T06:10:00\", \"2021-01-01T06:11:00\", \"2021-01-01T06:12:00\", \"2021-01-01T06:13:00\", \"2021-01-01T06:14:00\", \"2021-01-01T06:15:00\", \"2021-01-01T06:16:00\", \"2021-01-01T06:17:00\", \"2021-01-01T06:18:00\", \"2021-01-01T06:19:00\", \"2021-01-01T06:20:00\", \"2021-01-01T06:21:00\", \"2021-01-01T06:22:00\", \"2021-01-01T06:23:00\", \"2021-01-01T06:24:00\", \"2021-01-01T06:25:00\", \"2021-01-01T06:26:00\", \"2021-01-01T06:27:00\", \"2021-01-01T06:28:00\", \"2021-01-01T06:29:00\", \"2021-01-01T06:30:00\", \"2021-01-01T06:31:00\", \"2021-01-01T06:32:00\", \"2021-01-01T06:33:00\", \"2021-01-01T06:34:00\", \"2021-01-01T06:35:00\", \"2021-01-01T06:36:00\", \"2021-01-01T06:37:00\", \"2021-01-01T06:38:00\", \"2021-01-01T06:39:00\", \"2021-01-01T06:40:00\", \"2021-01-01T06:41:00\", \"2021-01-01T06:42:00\", \"2021-01-01T06:43:00\", \"2021-01-01T06:44:00\", \"2021-01-01T06:45:00\", \"2021-01-01T06:46:00\", \"2021-01-01T06:47:00\", \"2021-01-01T06:48:00\", \"2021-01-01T06:49:00\", \"2021-01-01T06:50:00\", \"2021-01-01T06:51:00\", \"2021-01-01T06:52:00\", \"2021-01-01T06:53:00\", \"2021-01-01T06:54:00\", \"2021-01-01T06:55:00\", \"2021-01-01T06:56:00\", \"2021-01-01T06:57:00\", \"2021-01-01T06:58:00\", \"2021-01-01T06:59:00\", \"2021-01-01T07:00:00\", \"2021-01-01T07:01:00\", \"2021-01-01T07:02:00\", \"2021-01-01T07:03:00\", \"2021-01-01T07:04:00\", \"2021-01-01T07:05:00\", \"2021-01-01T07:06:00\", \"2021-01-01T07:07:00\", \"2021-01-01T07:08:00\", \"2021-01-01T07:09:00\", \"2021-01-01T07:10:00\", \"2021-01-01T07:11:00\", \"2021-01-01T07:12:00\", \"2021-01-01T07:13:00\", \"2021-01-01T07:14:00\", \"2021-01-01T07:15:00\", \"2021-01-01T07:16:00\", \"2021-01-01T07:17:00\", \"2021-01-01T07:18:00\", \"2021-01-01T07:19:00\", \"2021-01-01T07:20:00\", \"2021-01-01T07:21:00\", \"2021-01-01T07:22:00\", \"2021-01-01T07:23:00\", \"2021-01-01T07:24:00\", \"2021-01-01T07:25:00\", \"2021-01-01T07:26:00\", \"2021-01-01T07:27:00\", \"2021-01-01T07:28:00\", \"2021-01-01T07:29:00\", \"2021-01-01T07:30:00\", \"2021-01-01T07:31:00\", \"2021-01-01T07:32:00\", \"2021-01-01T07:33:00\", \"2021-01-01T07:34:00\", \"2021-01-01T07:35:00\", \"2021-01-01T07:36:00\", \"2021-01-01T07:37:00\", \"2021-01-01T07:38:00\", \"2021-01-01T07:39:00\", \"2021-01-01T07:40:00\", \"2021-01-01T07:41:00\", \"2021-01-01T07:42:00\", \"2021-01-01T07:43:00\", \"2021-01-01T07:44:00\", \"2021-01-01T07:45:00\", \"2021-01-01T07:46:00\", \"2021-01-01T07:47:00\", \"2021-01-01T07:48:00\", \"2021-01-01T07:49:00\", \"2021-01-01T07:50:00\", \"2021-01-01T07:51:00\", \"2021-01-01T07:52:00\", \"2021-01-01T07:53:00\", \"2021-01-01T07:54:00\", \"2021-01-01T07:55:00\", \"2021-01-01T07:56:00\", \"2021-01-01T07:57:00\", \"2021-01-01T07:58:00\", \"2021-01-01T07:59:00\", \"2021-01-01T08:00:00\", \"2021-01-01T08:01:00\", \"2021-01-01T08:02:00\", \"2021-01-01T08:03:00\", \"2021-01-01T08:04:00\", \"2021-01-01T08:05:00\", \"2021-01-01T08:06:00\", \"2021-01-01T08:07:00\", \"2021-01-01T08:08:00\", \"2021-01-01T08:09:00\", \"2021-01-01T08:10:00\", \"2021-01-01T08:11:00\", \"2021-01-01T08:12:00\", \"2021-01-01T08:13:00\", \"2021-01-01T08:14:00\", \"2021-01-01T08:15:00\", \"2021-01-01T08:16:00\", \"2021-01-01T08:17:00\", \"2021-01-01T08:18:00\", \"2021-01-01T08:19:00\", \"2021-01-01T08:20:00\", \"2021-01-01T08:21:00\", \"2021-01-01T08:22:00\", \"2021-01-01T08:23:00\", \"2021-01-01T08:24:00\", \"2021-01-01T08:25:00\", \"2021-01-01T08:26:00\", \"2021-01-01T08:27:00\", \"2021-01-01T08:28:00\", \"2021-01-01T08:29:00\", \"2021-01-01T08:30:00\", \"2021-01-01T08:31:00\", \"2021-01-01T08:32:00\", \"2021-01-01T08:33:00\", \"2021-01-01T08:34:00\", \"2021-01-01T08:35:00\", \"2021-01-01T08:36:00\", \"2021-01-01T08:37:00\", \"2021-01-01T08:38:00\", \"2021-01-01T08:39:00\", \"2021-01-01T08:40:00\", \"2021-01-01T08:41:00\", \"2021-01-01T08:42:00\", \"2021-01-01T08:43:00\", \"2021-01-01T08:44:00\", \"2021-01-01T08:45:00\", \"2021-01-01T08:46:00\", \"2021-01-01T08:47:00\", \"2021-01-01T08:48:00\", \"2021-01-01T08:49:00\", \"2021-01-01T08:50:00\", \"2021-01-01T08:51:00\", \"2021-01-01T08:52:00\", \"2021-01-01T08:53:00\", \"2021-01-01T08:54:00\", \"2021-01-01T08:55:00\", \"2021-01-01T08:56:00\", \"2021-01-01T08:57:00\", \"2021-01-01T08:58:00\", \"2021-01-01T08:59:00\", \"2021-01-01T09:00:00\", \"2021-01-01T09:01:00\", \"2021-01-01T09:02:00\", \"2021-01-01T09:03:00\", \"2021-01-01T09:04:00\", \"2021-01-01T09:05:00\", \"2021-01-01T09:06:00\", \"2021-01-01T09:07:00\", \"2021-01-01T09:08:00\", \"2021-01-01T09:09:00\", \"2021-01-01T09:10:00\", \"2021-01-01T09:11:00\", \"2021-01-01T09:12:00\", \"2021-01-01T09:13:00\", \"2021-01-01T09:14:00\", \"2021-01-01T09:15:00\", \"2021-01-01T09:16:00\", \"2021-01-01T09:17:00\", \"2021-01-01T09:18:00\", \"2021-01-01T09:19:00\", \"2021-01-01T09:20:00\", \"2021-01-01T09:21:00\", \"2021-01-01T09:22:00\", \"2021-01-01T09:23:00\", \"2021-01-01T09:24:00\", \"2021-01-01T09:25:00\", \"2021-01-01T09:26:00\", \"2021-01-01T09:27:00\", \"2021-01-01T09:28:00\", \"2021-01-01T09:29:00\", \"2021-01-01T09:30:00\", \"2021-01-01T09:31:00\", \"2021-01-01T09:32:00\", \"2021-01-01T09:33:00\", \"2021-01-01T09:34:00\", \"2021-01-01T09:35:00\", \"2021-01-01T09:36:00\", \"2021-01-01T09:37:00\", \"2021-01-01T09:38:00\", \"2021-01-01T09:39:00\", \"2021-01-01T09:40:00\", \"2021-01-01T09:41:00\", \"2021-01-01T09:42:00\", \"2021-01-01T09:43:00\", \"2021-01-01T09:44:00\", \"2021-01-01T09:45:00\", \"2021-01-01T09:46:00\", \"2021-01-01T09:47:00\", \"2021-01-01T09:48:00\", \"2021-01-01T09:49:00\", \"2021-01-01T09:50:00\", \"2021-01-01T09:51:00\", \"2021-01-01T09:52:00\", \"2021-01-01T09:53:00\", \"2021-01-01T09:54:00\", \"2021-01-01T09:55:00\", \"2021-01-01T09:56:00\", \"2021-01-01T09:57:00\", \"2021-01-01T09:58:00\", \"2021-01-01T09:59:00\", \"2021-01-01T10:00:00\", \"2021-01-01T10:01:00\", \"2021-01-01T10:02:00\", \"2021-01-01T10:03:00\", \"2021-01-01T10:04:00\", \"2021-01-01T10:05:00\", \"2021-01-01T10:06:00\", \"2021-01-01T10:07:00\", \"2021-01-01T10:08:00\", \"2021-01-01T10:09:00\", \"2021-01-01T10:10:00\", \"2021-01-01T10:11:00\", \"2021-01-01T10:12:00\", \"2021-01-01T10:13:00\", \"2021-01-01T10:14:00\", \"2021-01-01T10:15:00\", \"2021-01-01T10:16:00\", \"2021-01-01T10:17:00\", \"2021-01-01T10:18:00\", \"2021-01-01T10:19:00\", \"2021-01-01T10:20:00\", \"2021-01-01T10:21:00\", \"2021-01-01T10:22:00\", \"2021-01-01T10:23:00\", \"2021-01-01T10:24:00\", \"2021-01-01T10:25:00\", \"2021-01-01T10:26:00\", \"2021-01-01T10:27:00\", \"2021-01-01T10:28:00\", \"2021-01-01T10:29:00\", \"2021-01-01T10:30:00\", \"2021-01-01T10:31:00\", \"2021-01-01T10:32:00\", \"2021-01-01T10:33:00\", \"2021-01-01T10:34:00\", \"2021-01-01T10:35:00\", \"2021-01-01T10:36:00\", \"2021-01-01T10:37:00\", \"2021-01-01T10:38:00\", \"2021-01-01T10:39:00\", \"2021-01-01T10:40:00\", \"2021-01-01T10:41:00\", \"2021-01-01T10:42:00\", \"2021-01-01T10:43:00\", \"2021-01-01T10:44:00\", \"2021-01-01T10:45:00\", \"2021-01-01T10:46:00\", \"2021-01-01T10:47:00\", \"2021-01-01T10:48:00\", \"2021-01-01T10:49:00\", \"2021-01-01T10:50:00\", \"2021-01-01T10:51:00\", \"2021-01-01T10:52:00\", \"2021-01-01T10:53:00\", \"2021-01-01T10:54:00\", \"2021-01-01T10:55:00\", \"2021-01-01T10:56:00\", \"2021-01-01T10:57:00\", \"2021-01-01T10:58:00\", \"2021-01-01T10:59:00\", \"2021-01-01T11:00:00\", \"2021-01-01T11:01:00\", \"2021-01-01T11:02:00\", \"2021-01-01T11:03:00\", \"2021-01-01T11:04:00\", \"2021-01-01T11:05:00\", \"2021-01-01T11:06:00\", \"2021-01-01T11:07:00\", \"2021-01-01T11:08:00\", \"2021-01-01T11:09:00\", \"2021-01-01T11:10:00\", \"2021-01-01T11:11:00\", \"2021-01-01T11:12:00\", \"2021-01-01T11:13:00\", \"2021-01-01T11:14:00\", \"2021-01-01T11:15:00\", \"2021-01-01T11:16:00\", \"2021-01-01T11:17:00\", \"2021-01-01T11:18:00\", \"2021-01-01T11:19:00\", \"2021-01-01T11:20:00\", \"2021-01-01T11:21:00\", \"2021-01-01T11:22:00\", \"2021-01-01T11:23:00\", \"2021-01-01T11:24:00\", \"2021-01-01T11:25:00\", \"2021-01-01T11:26:00\", \"2021-01-01T11:27:00\", \"2021-01-01T11:28:00\", \"2021-01-01T11:29:00\", \"2021-01-01T11:30:00\", \"2021-01-01T11:31:00\", \"2021-01-01T11:32:00\", \"2021-01-01T11:33:00\", \"2021-01-01T11:34:00\", \"2021-01-01T11:35:00\", \"2021-01-01T11:36:00\", \"2021-01-01T11:37:00\", \"2021-01-01T11:38:00\", \"2021-01-01T11:39:00\", \"2021-01-01T11:40:00\", \"2021-01-01T11:41:00\", \"2021-01-01T11:42:00\", \"2021-01-01T11:43:00\", \"2021-01-01T11:44:00\", \"2021-01-01T11:45:00\", \"2021-01-01T11:46:00\", \"2021-01-01T11:47:00\", \"2021-01-01T11:48:00\", \"2021-01-01T11:49:00\", \"2021-01-01T11:50:00\", \"2021-01-01T11:51:00\", \"2021-01-01T11:52:00\", \"2021-01-01T11:53:00\", \"2021-01-01T11:54:00\", \"2021-01-01T11:55:00\", \"2021-01-01T11:56:00\", \"2021-01-01T11:57:00\", \"2021-01-01T11:58:00\", \"2021-01-01T11:59:00\", \"2021-01-01T12:00:00\", \"2021-01-01T12:01:00\", \"2021-01-01T12:02:00\", \"2021-01-01T12:03:00\", \"2021-01-01T12:04:00\", \"2021-01-01T12:05:00\", \"2021-01-01T12:06:00\", \"2021-01-01T12:07:00\", \"2021-01-01T12:08:00\", \"2021-01-01T12:09:00\", \"2021-01-01T12:10:00\", \"2021-01-01T12:11:00\", \"2021-01-01T12:12:00\", \"2021-01-01T12:13:00\", \"2021-01-01T12:14:00\", \"2021-01-01T12:15:00\", \"2021-01-01T12:16:00\", \"2021-01-01T12:17:00\", \"2021-01-01T12:18:00\", \"2021-01-01T12:19:00\", \"2021-01-01T12:20:00\", \"2021-01-01T12:21:00\", \"2021-01-01T12:22:00\", \"2021-01-01T12:23:00\", \"2021-01-01T12:24:00\", \"2021-01-01T12:25:00\", \"2021-01-01T12:26:00\", \"2021-01-01T12:27:00\", \"2021-01-01T12:28:00\", \"2021-01-01T12:29:00\", \"2021-01-01T12:30:00\", \"2021-01-01T12:31:00\", \"2021-01-01T12:32:00\", \"2021-01-01T12:33:00\", \"2021-01-01T12:34:00\", \"2021-01-01T12:35:00\", \"2021-01-01T12:36:00\", \"2021-01-01T12:37:00\", \"2021-01-01T12:38:00\", \"2021-01-01T12:39:00\", \"2021-01-01T12:40:00\", \"2021-01-01T12:41:00\", \"2021-01-01T12:42:00\", \"2021-01-01T12:43:00\", \"2021-01-01T12:44:00\", \"2021-01-01T12:45:00\", \"2021-01-01T12:46:00\", \"2021-01-01T12:47:00\", \"2021-01-01T12:48:00\", \"2021-01-01T12:49:00\", \"2021-01-01T12:50:00\", \"2021-01-01T12:51:00\", \"2021-01-01T12:52:00\", \"2021-01-01T12:53:00\", \"2021-01-01T12:54:00\", \"2021-01-01T12:55:00\", \"2021-01-01T12:56:00\", \"2021-01-01T12:57:00\", \"2021-01-01T12:58:00\", \"2021-01-01T12:59:00\", \"2021-01-01T13:00:00\", \"2021-01-01T13:01:00\", \"2021-01-01T13:02:00\", \"2021-01-01T13:03:00\", \"2021-01-01T13:04:00\", \"2021-01-01T13:05:00\", \"2021-01-01T13:06:00\", \"2021-01-01T13:07:00\", \"2021-01-01T13:08:00\", \"2021-01-01T13:09:00\", \"2021-01-01T13:10:00\", \"2021-01-01T13:11:00\", \"2021-01-01T13:12:00\", \"2021-01-01T13:13:00\", \"2021-01-01T13:14:00\", \"2021-01-01T13:15:00\", \"2021-01-01T13:16:00\", \"2021-01-01T13:17:00\", \"2021-01-01T13:18:00\", \"2021-01-01T13:19:00\", \"2021-01-01T13:20:00\", \"2021-01-01T13:21:00\", \"2021-01-01T13:22:00\", \"2021-01-01T13:23:00\", \"2021-01-01T13:24:00\", \"2021-01-01T13:25:00\", \"2021-01-01T13:26:00\", \"2021-01-01T13:27:00\", \"2021-01-01T13:28:00\", \"2021-01-01T13:29:00\", \"2021-01-01T13:30:00\", \"2021-01-01T13:31:00\", \"2021-01-01T13:32:00\", \"2021-01-01T13:33:00\", \"2021-01-01T13:34:00\", \"2021-01-01T13:35:00\", \"2021-01-01T13:36:00\", \"2021-01-01T13:37:00\", \"2021-01-01T13:38:00\", \"2021-01-01T13:39:00\", \"2021-01-01T13:40:00\", \"2021-01-01T13:41:00\", \"2021-01-01T13:42:00\", \"2021-01-01T13:43:00\", \"2021-01-01T13:44:00\", \"2021-01-01T13:45:00\", \"2021-01-01T13:46:00\", \"2021-01-01T13:47:00\", \"2021-01-01T13:48:00\", \"2021-01-01T13:49:00\", \"2021-01-01T13:50:00\", \"2021-01-01T13:51:00\", \"2021-01-01T13:52:00\", \"2021-01-01T13:53:00\", \"2021-01-01T13:54:00\", \"2021-01-01T13:55:00\", \"2021-01-01T13:56:00\", \"2021-01-01T13:57:00\", \"2021-01-01T13:58:00\", \"2021-01-01T13:59:00\", \"2021-01-01T14:00:00\", \"2021-01-01T14:01:00\", \"2021-01-01T14:02:00\", \"2021-01-01T14:03:00\", \"2021-01-01T14:04:00\", \"2021-01-01T14:05:00\", \"2021-01-01T14:06:00\", \"2021-01-01T14:07:00\", \"2021-01-01T14:08:00\", \"2021-01-01T14:09:00\", \"2021-01-01T14:10:00\", \"2021-01-01T14:11:00\", \"2021-01-01T14:12:00\", \"2021-01-01T14:13:00\", \"2021-01-01T14:14:00\", \"2021-01-01T14:15:00\", \"2021-01-01T14:16:00\", \"2021-01-01T14:17:00\", \"2021-01-01T14:18:00\", \"2021-01-01T14:19:00\", \"2021-01-01T14:20:00\", \"2021-01-01T14:21:00\", \"2021-01-01T14:22:00\", \"2021-01-01T14:23:00\", \"2021-01-01T14:24:00\", \"2021-01-01T14:25:00\", \"2021-01-01T14:26:00\", \"2021-01-01T14:27:00\", \"2021-01-01T14:28:00\", \"2021-01-01T14:29:00\", \"2021-01-01T14:30:00\", \"2021-01-01T14:31:00\", \"2021-01-01T14:32:00\", \"2021-01-01T14:33:00\", \"2021-01-01T14:34:00\", \"2021-01-01T14:35:00\", \"2021-01-01T14:36:00\", \"2021-01-01T14:37:00\", \"2021-01-01T14:38:00\", \"2021-01-01T14:39:00\", \"2021-01-01T14:40:00\", \"2021-01-01T14:41:00\", \"2021-01-01T14:42:00\", \"2021-01-01T14:43:00\", \"2021-01-01T14:44:00\", \"2021-01-01T14:45:00\", \"2021-01-01T14:46:00\", \"2021-01-01T14:47:00\", \"2021-01-01T14:48:00\", \"2021-01-01T14:49:00\", \"2021-01-01T14:50:00\", \"2021-01-01T14:51:00\", \"2021-01-01T14:52:00\", \"2021-01-01T14:53:00\", \"2021-01-01T14:54:00\", \"2021-01-01T14:55:00\", \"2021-01-01T14:56:00\", \"2021-01-01T14:57:00\", \"2021-01-01T14:58:00\", \"2021-01-01T14:59:00\", \"2021-01-01T15:00:00\", \"2021-01-01T15:01:00\", \"2021-01-01T15:02:00\", \"2021-01-01T15:03:00\", \"2021-01-01T15:04:00\", \"2021-01-01T15:05:00\", \"2021-01-01T15:06:00\", \"2021-01-01T15:07:00\", \"2021-01-01T15:08:00\", \"2021-01-01T15:09:00\", \"2021-01-01T15:10:00\", \"2021-01-01T15:11:00\", \"2021-01-01T15:12:00\", \"2021-01-01T15:13:00\", \"2021-01-01T15:14:00\", \"2021-01-01T15:15:00\", \"2021-01-01T15:16:00\", \"2021-01-01T15:17:00\", \"2021-01-01T15:18:00\", \"2021-01-01T15:19:00\", \"2021-01-01T15:20:00\", \"2021-01-01T15:21:00\", \"2021-01-01T15:22:00\", \"2021-01-01T15:23:00\", \"2021-01-01T15:24:00\", \"2021-01-01T15:25:00\", \"2021-01-01T15:26:00\", \"2021-01-01T15:27:00\", \"2021-01-01T15:28:00\", \"2021-01-01T15:29:00\", \"2021-01-01T15:30:00\", \"2021-01-01T15:31:00\", \"2021-01-01T15:32:00\", \"2021-01-01T15:33:00\", \"2021-01-01T15:34:00\", \"2021-01-01T15:35:00\", \"2021-01-01T15:36:00\", \"2021-01-01T15:37:00\", \"2021-01-01T15:38:00\", \"2021-01-01T15:39:00\", \"2021-01-01T15:40:00\", \"2021-01-01T15:41:00\", \"2021-01-01T15:42:00\", \"2021-01-01T15:43:00\", \"2021-01-01T15:44:00\", \"2021-01-01T15:45:00\", \"2021-01-01T15:46:00\", \"2021-01-01T15:47:00\", \"2021-01-01T15:48:00\", \"2021-01-01T15:49:00\", \"2021-01-01T15:50:00\", \"2021-01-01T15:51:00\", \"2021-01-01T15:52:00\", \"2021-01-01T15:53:00\", \"2021-01-01T15:54:00\", \"2021-01-01T15:55:00\", \"2021-01-01T15:56:00\", \"2021-01-01T15:57:00\", \"2021-01-01T15:58:00\", \"2021-01-01T15:59:00\", \"2021-01-01T16:00:00\", \"2021-01-01T16:01:00\", \"2021-01-01T16:02:00\", \"2021-01-01T16:03:00\", \"2021-01-01T16:04:00\", \"2021-01-01T16:05:00\", \"2021-01-01T16:06:00\", \"2021-01-01T16:07:00\", \"2021-01-01T16:08:00\", \"2021-01-01T16:09:00\", \"2021-01-01T16:10:00\", \"2021-01-01T16:11:00\", \"2021-01-01T16:12:00\", \"2021-01-01T16:13:00\", \"2021-01-01T16:14:00\", \"2021-01-01T16:15:00\", \"2021-01-01T16:16:00\", \"2021-01-01T16:17:00\", \"2021-01-01T16:18:00\", \"2021-01-01T16:19:00\", \"2021-01-01T16:20:00\", \"2021-01-01T16:21:00\", \"2021-01-01T16:22:00\", \"2021-01-01T16:23:00\", \"2021-01-01T16:24:00\", \"2021-01-01T16:25:00\", \"2021-01-01T16:26:00\", \"2021-01-01T16:27:00\", \"2021-01-01T16:28:00\", \"2021-01-01T16:29:00\", \"2021-01-01T16:30:00\", \"2021-01-01T16:31:00\", \"2021-01-01T16:32:00\", \"2021-01-01T16:33:00\", \"2021-01-01T16:34:00\", \"2021-01-01T16:35:00\", \"2021-01-01T16:36:00\", \"2021-01-01T16:37:00\", \"2021-01-01T16:38:00\", \"2021-01-01T16:39:00\", \"2021-01-01T16:40:00\", \"2021-01-01T16:41:00\", \"2021-01-01T16:42:00\", \"2021-01-01T16:43:00\", \"2021-01-01T16:44:00\", \"2021-01-01T16:45:00\", \"2021-01-01T16:46:00\", \"2021-01-01T16:47:00\", \"2021-01-01T16:48:00\", \"2021-01-01T16:49:00\", \"2021-01-01T16:50:00\", \"2021-01-01T16:51:00\", \"2021-01-01T16:52:00\", \"2021-01-01T16:53:00\", \"2021-01-01T16:54:00\", \"2021-01-01T16:55:00\", \"2021-01-01T16:56:00\", \"2021-01-01T16:57:00\", \"2021-01-01T16:58:00\", \"2021-01-01T16:59:00\", \"2021-01-01T17:00:00\", \"2021-01-01T17:01:00\", \"2021-01-01T17:02:00\", \"2021-01-01T17:03:00\", \"2021-01-01T17:04:00\", \"2021-01-01T17:05:00\", \"2021-01-01T17:06:00\", \"2021-01-01T17:07:00\", \"2021-01-01T17:08:00\", \"2021-01-01T17:09:00\", \"2021-01-01T17:10:00\", \"2021-01-01T17:11:00\", \"2021-01-01T17:12:00\", \"2021-01-01T17:13:00\", \"2021-01-01T17:14:00\", \"2021-01-01T17:15:00\", \"2021-01-01T17:16:00\", \"2021-01-01T17:17:00\", \"2021-01-01T17:18:00\", \"2021-01-01T17:19:00\", \"2021-01-01T17:20:00\", \"2021-01-01T17:21:00\", \"2021-01-01T17:22:00\", \"2021-01-01T17:23:00\", \"2021-01-01T17:24:00\", \"2021-01-01T17:25:00\", \"2021-01-01T17:26:00\", \"2021-01-01T17:27:00\", \"2021-01-01T17:28:00\", \"2021-01-01T17:29:00\", \"2021-01-01T17:30:00\", \"2021-01-01T17:31:00\", \"2021-01-01T17:32:00\", \"2021-01-01T17:33:00\", \"2021-01-01T17:34:00\", \"2021-01-01T17:35:00\", \"2021-01-01T17:36:00\", \"2021-01-01T17:37:00\", \"2021-01-01T17:38:00\", \"2021-01-01T17:39:00\", \"2021-01-01T17:40:00\", \"2021-01-01T17:41:00\", \"2021-01-01T17:42:00\", \"2021-01-01T17:43:00\", \"2021-01-01T17:44:00\", \"2021-01-01T17:45:00\", \"2021-01-01T17:46:00\", \"2021-01-01T17:47:00\", \"2021-01-01T17:48:00\", \"2021-01-01T17:49:00\", \"2021-01-01T17:50:00\", \"2021-01-01T17:51:00\", \"2021-01-01T17:52:00\", \"2021-01-01T17:53:00\", \"2021-01-01T17:54:00\", \"2021-01-01T17:55:00\", \"2021-01-01T17:56:00\", \"2021-01-01T17:57:00\", \"2021-01-01T17:58:00\", \"2021-01-01T17:59:00\", \"2021-01-01T18:00:00\", \"2021-01-01T18:01:00\", \"2021-01-01T18:02:00\", \"2021-01-01T18:03:00\", \"2021-01-01T18:04:00\", \"2021-01-01T18:05:00\", \"2021-01-01T18:06:00\", \"2021-01-01T18:07:00\", \"2021-01-01T18:08:00\", \"2021-01-01T18:09:00\", \"2021-01-01T18:10:00\", \"2021-01-01T18:11:00\", \"2021-01-01T18:12:00\", \"2021-01-01T18:13:00\", \"2021-01-01T18:14:00\", \"2021-01-01T18:15:00\", \"2021-01-01T18:16:00\", \"2021-01-01T18:17:00\", \"2021-01-01T18:18:00\", \"2021-01-01T18:19:00\", \"2021-01-01T18:20:00\", \"2021-01-01T18:21:00\", \"2021-01-01T18:22:00\", \"2021-01-01T18:23:00\", \"2021-01-01T18:24:00\", \"2021-01-01T18:25:00\", \"2021-01-01T18:26:00\", \"2021-01-01T18:27:00\", \"2021-01-01T18:28:00\", \"2021-01-01T18:29:00\", \"2021-01-01T18:30:00\", \"2021-01-01T18:31:00\", \"2021-01-01T18:32:00\", \"2021-01-01T18:33:00\", \"2021-01-01T18:34:00\", \"2021-01-01T18:35:00\", \"2021-01-01T18:36:00\", \"2021-01-01T18:37:00\", \"2021-01-01T18:38:00\", \"2021-01-01T18:39:00\", \"2021-01-01T18:40:00\", \"2021-01-01T18:41:00\", \"2021-01-01T18:42:00\", \"2021-01-01T18:43:00\", \"2021-01-01T18:44:00\", \"2021-01-01T18:45:00\", \"2021-01-01T18:46:00\", \"2021-01-01T18:47:00\", \"2021-01-01T18:48:00\", \"2021-01-01T18:49:00\", \"2021-01-01T18:50:00\", \"2021-01-01T18:51:00\", \"2021-01-01T18:52:00\", \"2021-01-01T18:53:00\", \"2021-01-01T18:54:00\", \"2021-01-01T18:55:00\", \"2021-01-01T18:56:00\", \"2021-01-01T18:57:00\", \"2021-01-01T18:58:00\", \"2021-01-01T18:59:00\", \"2021-01-01T19:00:00\", \"2021-01-01T19:01:00\", \"2021-01-01T19:02:00\", \"2021-01-01T19:03:00\", \"2021-01-01T19:04:00\", \"2021-01-01T19:05:00\", \"2021-01-01T19:06:00\", \"2021-01-01T19:07:00\", \"2021-01-01T19:08:00\", \"2021-01-01T19:09:00\", \"2021-01-01T19:10:00\", \"2021-01-01T19:11:00\", \"2021-01-01T19:12:00\", \"2021-01-01T19:13:00\", \"2021-01-01T19:14:00\", \"2021-01-01T19:15:00\", \"2021-01-01T19:16:00\", \"2021-01-01T19:17:00\", \"2021-01-01T19:18:00\", \"2021-01-01T19:19:00\", \"2021-01-01T19:20:00\", \"2021-01-01T19:21:00\", \"2021-01-01T19:22:00\", \"2021-01-01T19:23:00\", \"2021-01-01T19:24:00\", \"2021-01-01T19:25:00\", \"2021-01-01T19:26:00\", \"2021-01-01T19:27:00\", \"2021-01-01T19:28:00\", \"2021-01-01T19:29:00\", \"2021-01-01T19:30:00\", \"2021-01-01T19:31:00\", \"2021-01-01T19:32:00\", \"2021-01-01T19:33:00\", \"2021-01-01T19:34:00\", \"2021-01-01T19:35:00\", \"2021-01-01T19:36:00\", \"2021-01-01T19:37:00\", \"2021-01-01T19:38:00\", \"2021-01-01T19:39:00\", \"2021-01-01T19:40:00\", \"2021-01-01T19:41:00\", \"2021-01-01T19:42:00\", \"2021-01-01T19:43:00\", \"2021-01-01T19:44:00\", \"2021-01-01T19:45:00\", \"2021-01-01T19:46:00\", \"2021-01-01T19:47:00\", \"2021-01-01T19:48:00\", \"2021-01-01T19:49:00\", \"2021-01-01T19:50:00\", \"2021-01-01T19:51:00\", \"2021-01-01T19:52:00\", \"2021-01-01T19:53:00\", \"2021-01-01T19:54:00\", \"2021-01-01T19:55:00\", \"2021-01-01T19:56:00\", \"2021-01-01T19:57:00\", \"2021-01-01T19:58:00\", \"2021-01-01T19:59:00\", \"2021-01-01T20:00:00\", \"2021-01-01T20:01:00\", \"2021-01-01T20:02:00\", \"2021-01-01T20:03:00\", \"2021-01-01T20:04:00\", \"2021-01-01T20:05:00\", \"2021-01-01T20:06:00\", \"2021-01-01T20:07:00\", \"2021-01-01T20:08:00\", \"2021-01-01T20:09:00\", \"2021-01-01T20:10:00\", \"2021-01-01T20:11:00\", \"2021-01-01T20:12:00\", \"2021-01-01T20:13:00\", \"2021-01-01T20:14:00\", \"2021-01-01T20:15:00\", \"2021-01-01T20:16:00\", \"2021-01-01T20:17:00\", \"2021-01-01T20:18:00\", \"2021-01-01T20:19:00\", \"2021-01-01T20:20:00\", \"2021-01-01T20:21:00\", \"2021-01-01T20:22:00\", \"2021-01-01T20:23:00\", \"2021-01-01T20:24:00\", \"2021-01-01T20:25:00\", \"2021-01-01T20:26:00\", \"2021-01-01T20:27:00\", \"2021-01-01T20:28:00\", \"2021-01-01T20:29:00\", \"2021-01-01T20:30:00\", \"2021-01-01T20:31:00\", \"2021-01-01T20:32:00\", \"2021-01-01T20:33:00\", \"2021-01-01T20:34:00\", \"2021-01-01T20:35:00\", \"2021-01-01T20:36:00\", \"2021-01-01T20:37:00\", \"2021-01-01T20:38:00\", \"2021-01-01T20:39:00\", \"2021-01-01T20:40:00\", \"2021-01-01T20:41:00\", \"2021-01-01T20:42:00\", \"2021-01-01T20:43:00\", \"2021-01-01T20:44:00\", \"2021-01-01T20:45:00\", \"2021-01-01T20:46:00\", \"2021-01-01T20:47:00\", \"2021-01-01T20:48:00\", \"2021-01-01T20:49:00\", \"2021-01-01T20:50:00\", \"2021-01-01T20:51:00\", \"2021-01-01T20:52:00\", \"2021-01-01T20:53:00\", \"2021-01-01T20:54:00\", \"2021-01-01T20:55:00\", \"2021-01-01T20:56:00\", \"2021-01-01T20:57:00\", \"2021-01-01T20:58:00\", \"2021-01-01T20:59:00\", \"2021-01-01T21:00:00\", \"2021-01-01T21:01:00\", \"2021-01-01T21:02:00\", \"2021-01-01T21:03:00\", \"2021-01-01T21:04:00\", \"2021-01-01T21:05:00\", \"2021-01-01T21:06:00\", \"2021-01-01T21:07:00\", \"2021-01-01T21:08:00\", \"2021-01-01T21:09:00\", \"2021-01-01T21:10:00\", \"2021-01-01T21:11:00\", \"2021-01-01T21:12:00\", \"2021-01-01T21:13:00\", \"2021-01-01T21:14:00\", \"2021-01-01T21:15:00\", \"2021-01-01T21:16:00\", \"2021-01-01T21:17:00\", \"2021-01-01T21:18:00\", \"2021-01-01T21:19:00\", \"2021-01-01T21:20:00\", \"2021-01-01T21:21:00\", \"2021-01-01T21:22:00\", \"2021-01-01T21:23:00\", \"2021-01-01T21:24:00\", \"2021-01-01T21:25:00\", \"2021-01-01T21:26:00\", \"2021-01-01T21:27:00\", \"2021-01-01T21:28:00\", \"2021-01-01T21:29:00\", \"2021-01-01T21:30:00\", \"2021-01-01T21:31:00\", \"2021-01-01T21:32:00\", \"2021-01-01T21:33:00\", \"2021-01-01T21:34:00\", \"2021-01-01T21:35:00\", \"2021-01-01T21:36:00\", \"2021-01-01T21:37:00\", \"2021-01-01T21:38:00\", \"2021-01-01T21:39:00\", \"2021-01-01T21:40:00\", \"2021-01-01T21:41:00\", \"2021-01-01T21:42:00\", \"2021-01-01T21:43:00\", \"2021-01-01T21:44:00\", \"2021-01-01T21:45:00\", \"2021-01-01T21:46:00\", \"2021-01-01T21:47:00\", \"2021-01-01T21:48:00\", \"2021-01-01T21:49:00\", \"2021-01-01T21:50:00\", \"2021-01-01T21:51:00\", \"2021-01-01T21:52:00\", \"2021-01-01T21:53:00\", \"2021-01-01T21:54:00\", \"2021-01-01T21:55:00\", \"2021-01-01T21:56:00\", \"2021-01-01T21:57:00\", \"2021-01-01T21:58:00\", \"2021-01-01T21:59:00\", \"2021-01-01T22:00:00\", \"2021-01-01T22:01:00\", \"2021-01-01T22:02:00\", \"2021-01-01T22:03:00\", \"2021-01-01T22:04:00\", \"2021-01-01T22:05:00\", \"2021-01-01T22:06:00\", \"2021-01-01T22:07:00\", \"2021-01-01T22:08:00\", \"2021-01-01T22:09:00\", \"2021-01-01T22:10:00\", \"2021-01-01T22:11:00\", \"2021-01-01T22:12:00\", \"2021-01-01T22:13:00\", \"2021-01-01T22:14:00\", \"2021-01-01T22:15:00\", \"2021-01-01T22:16:00\", \"2021-01-01T22:17:00\", \"2021-01-01T22:18:00\", \"2021-01-01T22:19:00\", \"2021-01-01T22:20:00\", \"2021-01-01T22:21:00\", \"2021-01-01T22:22:00\", \"2021-01-01T22:23:00\", \"2021-01-01T22:24:00\", \"2021-01-01T22:25:00\", \"2021-01-01T22:26:00\", \"2021-01-01T22:27:00\", \"2021-01-01T22:28:00\", \"2021-01-01T22:29:00\", \"2021-01-01T22:30:00\", \"2021-01-01T22:31:00\", \"2021-01-01T22:32:00\", \"2021-01-01T22:33:00\", \"2021-01-01T22:34:00\", \"2021-01-01T22:35:00\", \"2021-01-01T22:36:00\", \"2021-01-01T22:37:00\", \"2021-01-01T22:38:00\", \"2021-01-01T22:39:00\", \"2021-01-01T22:40:00\", \"2021-01-01T22:41:00\", \"2021-01-01T22:42:00\", \"2021-01-01T22:43:00\", \"2021-01-01T22:44:00\", \"2021-01-01T22:45:00\", \"2021-01-01T22:46:00\", \"2021-01-01T22:47:00\", \"2021-01-01T22:48:00\", \"2021-01-01T22:49:00\", \"2021-01-01T22:50:00\", \"2021-01-01T22:51:00\", \"2021-01-01T22:52:00\", \"2021-01-01T22:53:00\", \"2021-01-01T22:54:00\", \"2021-01-01T22:55:00\", \"2021-01-01T22:56:00\", \"2021-01-01T22:57:00\", \"2021-01-01T22:58:00\", \"2021-01-01T22:59:00\", \"2021-01-01T23:00:00\", \"2021-01-01T23:01:00\", \"2021-01-01T23:02:00\", \"2021-01-01T23:03:00\", \"2021-01-01T23:04:00\", \"2021-01-01T23:05:00\", \"2021-01-01T23:06:00\", \"2021-01-01T23:07:00\", \"2021-01-01T23:08:00\", \"2021-01-01T23:09:00\", \"2021-01-01T23:10:00\", \"2021-01-01T23:11:00\", \"2021-01-01T23:12:00\", \"2021-01-01T23:13:00\", \"2021-01-01T23:14:00\", \"2021-01-01T23:15:00\", \"2021-01-01T23:16:00\", \"2021-01-01T23:17:00\", \"2021-01-01T23:18:00\", \"2021-01-01T23:19:00\", \"2021-01-01T23:20:00\", \"2021-01-01T23:21:00\", \"2021-01-01T23:22:00\", \"2021-01-01T23:23:00\", \"2021-01-01T23:24:00\", \"2021-01-01T23:25:00\", \"2021-01-01T23:26:00\", \"2021-01-01T23:27:00\", \"2021-01-01T23:28:00\", \"2021-01-01T23:29:00\", \"2021-01-01T23:30:00\", \"2021-01-01T23:31:00\", \"2021-01-01T23:32:00\", \"2021-01-01T23:33:00\", \"2021-01-01T23:34:00\", \"2021-01-01T23:35:00\", \"2021-01-01T23:36:00\", \"2021-01-01T23:37:00\", \"2021-01-01T23:38:00\", \"2021-01-01T23:39:00\", \"2021-01-01T23:40:00\", \"2021-01-01T23:41:00\", \"2021-01-01T23:42:00\", \"2021-01-01T23:43:00\", \"2021-01-01T23:44:00\", \"2021-01-01T23:45:00\", \"2021-01-01T23:46:00\", \"2021-01-01T23:47:00\", \"2021-01-01T23:48:00\", \"2021-01-01T23:49:00\", \"2021-01-01T23:50:00\", \"2021-01-01T23:51:00\", \"2021-01-01T23:52:00\", \"2021-01-01T23:53:00\", \"2021-01-01T23:54:00\", \"2021-01-01T23:55:00\", \"2021-01-01T23:56:00\", \"2021-01-01T23:57:00\", \"2021-01-01T23:58:00\", \"2021-01-01T23:59:00\"]}],\n",
              "                        {\"height\": 1000, \"showlegend\": true, \"template\": {\"data\": {\"bar\": [{\"error_x\": {\"color\": \"#2a3f5f\"}, \"error_y\": {\"color\": \"#2a3f5f\"}, \"marker\": {\"line\": {\"color\": \"#E5ECF6\", \"width\": 0.5}}, \"type\": \"bar\"}], \"barpolar\": [{\"marker\": {\"line\": {\"color\": \"#E5ECF6\", \"width\": 0.5}}, \"type\": \"barpolar\"}], \"carpet\": [{\"aaxis\": {\"endlinecolor\": \"#2a3f5f\", \"gridcolor\": \"white\", \"linecolor\": \"white\", \"minorgridcolor\": \"white\", \"startlinecolor\": \"#2a3f5f\"}, \"baxis\": {\"endlinecolor\": \"#2a3f5f\", \"gridcolor\": \"white\", \"linecolor\": \"white\", \"minorgridcolor\": \"white\", \"startlinecolor\": \"#2a3f5f\"}, \"type\": \"carpet\"}], \"choropleth\": [{\"colorbar\": {\"outlinewidth\": 0, \"ticks\": \"\"}, \"type\": \"choropleth\"}], \"contour\": [{\"colorbar\": {\"outlinewidth\": 0, \"ticks\": \"\"}, \"colorscale\": [[0.0, \"#0d0887\"], [0.1111111111111111, \"#46039f\"], [0.2222222222222222, \"#7201a8\"], [0.3333333333333333, \"#9c179e\"], [0.4444444444444444, \"#bd3786\"], [0.5555555555555556, \"#d8576b\"], [0.6666666666666666, \"#ed7953\"], [0.7777777777777778, \"#fb9f3a\"], [0.8888888888888888, \"#fdca26\"], [1.0, \"#f0f921\"]], \"type\": \"contour\"}], \"contourcarpet\": [{\"colorbar\": {\"outlinewidth\": 0, \"ticks\": \"\"}, \"type\": \"contourcarpet\"}], \"heatmap\": [{\"colorbar\": {\"outlinewidth\": 0, \"ticks\": \"\"}, \"colorscale\": [[0.0, \"#0d0887\"], [0.1111111111111111, \"#46039f\"], [0.2222222222222222, \"#7201a8\"], [0.3333333333333333, \"#9c179e\"], [0.4444444444444444, \"#bd3786\"], [0.5555555555555556, \"#d8576b\"], [0.6666666666666666, \"#ed7953\"], [0.7777777777777778, \"#fb9f3a\"], [0.8888888888888888, \"#fdca26\"], [1.0, \"#f0f921\"]], \"type\": \"heatmap\"}], \"heatmapgl\": [{\"colorbar\": {\"outlinewidth\": 0, \"ticks\": \"\"}, \"colorscale\": [[0.0, \"#0d0887\"], [0.1111111111111111, \"#46039f\"], [0.2222222222222222, \"#7201a8\"], [0.3333333333333333, \"#9c179e\"], [0.4444444444444444, \"#bd3786\"], [0.5555555555555556, \"#d8576b\"], [0.6666666666666666, \"#ed7953\"], [0.7777777777777778, \"#fb9f3a\"], [0.8888888888888888, \"#fdca26\"], [1.0, \"#f0f921\"]], \"type\": \"heatmapgl\"}], \"histogram\": [{\"marker\": {\"colorbar\": {\"outlinewidth\": 0, \"ticks\": \"\"}}, \"type\": \"histogram\"}], \"histogram2d\": [{\"colorbar\": {\"outlinewidth\": 0, \"ticks\": \"\"}, \"colorscale\": [[0.0, \"#0d0887\"], [0.1111111111111111, \"#46039f\"], [0.2222222222222222, \"#7201a8\"], [0.3333333333333333, \"#9c179e\"], [0.4444444444444444, \"#bd3786\"], [0.5555555555555556, \"#d8576b\"], [0.6666666666666666, \"#ed7953\"], [0.7777777777777778, \"#fb9f3a\"], [0.8888888888888888, \"#fdca26\"], [1.0, \"#f0f921\"]], \"type\": \"histogram2d\"}], \"histogram2dcontour\": [{\"colorbar\": {\"outlinewidth\": 0, \"ticks\": \"\"}, \"colorscale\": [[0.0, \"#0d0887\"], [0.1111111111111111, \"#46039f\"], [0.2222222222222222, \"#7201a8\"], [0.3333333333333333, \"#9c179e\"], [0.4444444444444444, \"#bd3786\"], [0.5555555555555556, \"#d8576b\"], [0.6666666666666666, \"#ed7953\"], [0.7777777777777778, \"#fb9f3a\"], [0.8888888888888888, \"#fdca26\"], [1.0, \"#f0f921\"]], \"type\": \"histogram2dcontour\"}], \"mesh3d\": [{\"colorbar\": {\"outlinewidth\": 0, \"ticks\": \"\"}, \"type\": \"mesh3d\"}], \"parcoords\": [{\"line\": {\"colorbar\": {\"outlinewidth\": 0, \"ticks\": \"\"}}, \"type\": \"parcoords\"}], \"pie\": [{\"automargin\": true, \"type\": \"pie\"}], \"scatter\": [{\"marker\": {\"colorbar\": {\"outlinewidth\": 0, \"ticks\": \"\"}}, \"type\": \"scatter\"}], \"scatter3d\": [{\"line\": {\"colorbar\": {\"outlinewidth\": 0, \"ticks\": \"\"}}, \"marker\": {\"colorbar\": {\"outlinewidth\": 0, \"ticks\": \"\"}}, \"type\": \"scatter3d\"}], \"scattercarpet\": [{\"marker\": {\"colorbar\": {\"outlinewidth\": 0, \"ticks\": \"\"}}, \"type\": \"scattercarpet\"}], \"scattergeo\": [{\"marker\": {\"colorbar\": {\"outlinewidth\": 0, \"ticks\": \"\"}}, \"type\": \"scattergeo\"}], \"scattergl\": [{\"marker\": {\"colorbar\": {\"outlinewidth\": 0, \"ticks\": \"\"}}, \"type\": \"scattergl\"}], \"scattermapbox\": [{\"marker\": {\"colorbar\": {\"outlinewidth\": 0, \"ticks\": \"\"}}, \"type\": \"scattermapbox\"}], \"scatterpolar\": [{\"marker\": {\"colorbar\": {\"outlinewidth\": 0, \"ticks\": \"\"}}, \"type\": \"scatterpolar\"}], \"scatterpolargl\": [{\"marker\": {\"colorbar\": {\"outlinewidth\": 0, \"ticks\": \"\"}}, \"type\": \"scatterpolargl\"}], \"scatterternary\": [{\"marker\": {\"colorbar\": {\"outlinewidth\": 0, \"ticks\": \"\"}}, \"type\": \"scatterternary\"}], \"surface\": [{\"colorbar\": {\"outlinewidth\": 0, \"ticks\": \"\"}, \"colorscale\": [[0.0, \"#0d0887\"], [0.1111111111111111, \"#46039f\"], [0.2222222222222222, \"#7201a8\"], [0.3333333333333333, \"#9c179e\"], [0.4444444444444444, \"#bd3786\"], [0.5555555555555556, \"#d8576b\"], [0.6666666666666666, \"#ed7953\"], [0.7777777777777778, \"#fb9f3a\"], [0.8888888888888888, \"#fdca26\"], [1.0, \"#f0f921\"]], \"type\": \"surface\"}], \"table\": [{\"cells\": {\"fill\": {\"color\": \"#EBF0F8\"}, \"line\": {\"color\": \"white\"}}, \"header\": {\"fill\": {\"color\": \"#C8D4E3\"}, \"line\": {\"color\": \"white\"}}, \"type\": \"table\"}]}, \"layout\": {\"annotationdefaults\": {\"arrowcolor\": \"#2a3f5f\", \"arrowhead\": 0, \"arrowwidth\": 1}, \"coloraxis\": {\"colorbar\": {\"outlinewidth\": 0, \"ticks\": \"\"}}, \"colorscale\": {\"diverging\": [[0, \"#8e0152\"], [0.1, \"#c51b7d\"], [0.2, \"#de77ae\"], [0.3, \"#f1b6da\"], [0.4, \"#fde0ef\"], [0.5, \"#f7f7f7\"], [0.6, \"#e6f5d0\"], [0.7, \"#b8e186\"], [0.8, \"#7fbc41\"], [0.9, \"#4d9221\"], [1, \"#276419\"]], \"sequential\": [[0.0, \"#0d0887\"], [0.1111111111111111, \"#46039f\"], [0.2222222222222222, \"#7201a8\"], [0.3333333333333333, \"#9c179e\"], [0.4444444444444444, \"#bd3786\"], [0.5555555555555556, \"#d8576b\"], [0.6666666666666666, \"#ed7953\"], [0.7777777777777778, \"#fb9f3a\"], [0.8888888888888888, \"#fdca26\"], [1.0, \"#f0f921\"]], \"sequentialminus\": [[0.0, \"#0d0887\"], [0.1111111111111111, \"#46039f\"], [0.2222222222222222, \"#7201a8\"], [0.3333333333333333, \"#9c179e\"], [0.4444444444444444, \"#bd3786\"], [0.5555555555555556, \"#d8576b\"], [0.6666666666666666, \"#ed7953\"], [0.7777777777777778, \"#fb9f3a\"], [0.8888888888888888, \"#fdca26\"], [1.0, \"#f0f921\"]]}, \"colorway\": [\"#636efa\", \"#EF553B\", \"#00cc96\", \"#ab63fa\", \"#FFA15A\", \"#19d3f3\", \"#FF6692\", \"#B6E880\", \"#FF97FF\", \"#FECB52\"], \"font\": {\"color\": \"#2a3f5f\"}, \"geo\": {\"bgcolor\": \"white\", \"lakecolor\": \"white\", \"landcolor\": \"#E5ECF6\", \"showlakes\": true, \"showland\": true, \"subunitcolor\": \"white\"}, \"hoverlabel\": {\"align\": \"left\"}, \"hovermode\": \"closest\", \"mapbox\": {\"style\": \"light\"}, \"paper_bgcolor\": \"white\", \"plot_bgcolor\": \"#E5ECF6\", \"polar\": {\"angularaxis\": {\"gridcolor\": \"white\", \"linecolor\": \"white\", \"ticks\": \"\"}, \"bgcolor\": \"#E5ECF6\", \"radialaxis\": {\"gridcolor\": \"white\", \"linecolor\": \"white\", \"ticks\": \"\"}}, \"scene\": {\"xaxis\": {\"backgroundcolor\": \"#E5ECF6\", \"gridcolor\": \"white\", \"gridwidth\": 2, \"linecolor\": \"white\", \"showbackground\": true, \"ticks\": \"\", \"zerolinecolor\": \"white\"}, \"yaxis\": {\"backgroundcolor\": \"#E5ECF6\", \"gridcolor\": \"white\", \"gridwidth\": 2, \"linecolor\": \"white\", \"showbackground\": true, \"ticks\": \"\", \"zerolinecolor\": \"white\"}, \"zaxis\": {\"backgroundcolor\": \"#E5ECF6\", \"gridcolor\": \"white\", \"gridwidth\": 2, \"linecolor\": \"white\", \"showbackground\": true, \"ticks\": \"\", \"zerolinecolor\": \"white\"}}, \"shapedefaults\": {\"line\": {\"color\": \"#2a3f5f\"}}, \"ternary\": {\"aaxis\": {\"gridcolor\": \"white\", \"linecolor\": \"white\", \"ticks\": \"\"}, \"baxis\": {\"gridcolor\": \"white\", \"linecolor\": \"white\", \"ticks\": \"\"}, \"bgcolor\": \"#E5ECF6\", \"caxis\": {\"gridcolor\": \"white\", \"linecolor\": \"white\", \"ticks\": \"\"}}, \"title\": {\"x\": 0.05}, \"xaxis\": {\"automargin\": true, \"gridcolor\": \"white\", \"linecolor\": \"white\", \"ticks\": \"\", \"title\": {\"standoff\": 15}, \"zerolinecolor\": \"white\", \"zerolinewidth\": 2}, \"yaxis\": {\"automargin\": true, \"gridcolor\": \"white\", \"linecolor\": \"white\", \"ticks\": \"\", \"title\": {\"standoff\": 15}, \"zerolinecolor\": \"white\", \"zerolinewidth\": 2}}}, \"title\": {\"text\": \"Technical Analysis\"}},\n",
              "                        {\"responsive\": true}\n",
              "                    ).then(function(){\n",
              "                            \n",
              "var gd = document.getElementById('101a3d2c-c22d-4493-8c20-e8008aba6231');\n",
              "var x = new MutationObserver(function (mutations, observer) {{\n",
              "        var display = window.getComputedStyle(gd).display;\n",
              "        if (!display || display === 'none') {{\n",
              "            console.log([gd, 'removed!']);\n",
              "            Plotly.purge(gd);\n",
              "            observer.disconnect();\n",
              "        }}\n",
              "}});\n",
              "\n",
              "// Listen for the removal of the full notebook cells\n",
              "var notebookContainer = gd.closest('#notebook-container');\n",
              "if (notebookContainer) {{\n",
              "    x.observe(notebookContainer, {childList: true});\n",
              "}}\n",
              "\n",
              "// Listen for the clearing of the current output cell\n",
              "var outputEl = gd.closest('.output');\n",
              "if (outputEl) {{\n",
              "    x.observe(outputEl, {childList: true});\n",
              "}}\n",
              "\n",
              "                        })\n",
              "                };\n",
              "                \n",
              "            </script>\n",
              "        </div>\n",
              "</body>\n",
              "</html>"
            ]
          },
          "metadata": {}
        }
      ]
    },
    {
      "cell_type": "markdown",
      "metadata": {
        "id": "YxGOfykpVXqB"
      },
      "source": [
        "####  Extra - Propose your analysis\n",
        "\n",
        "\n",
        "\n",
        "<p align=\"justify\">\n",
        "<font size=\"3\">\n",
        "Think about a new analysis on this set of data to run on your data and run it showing a graph\n",
        "</font>\n",
        "</p>\n",
        "\n"
      ]
    },
    {
      "cell_type": "code",
      "metadata": {
        "id": "ewmVzLeuVXqB"
      },
      "source": [
        "#'''############## WRITE YOUR ANSWER HERE ##############'''\n",
        "\n",
        "#'''############## END OF THE EXERCISE ##############'''"
      ],
      "execution_count": 38,
      "outputs": []
    },
    {
      "cell_type": "markdown",
      "metadata": {
        "id": "524h_jgeVXqB"
      },
      "source": [
        "### Conclusion \n",
        "\n",
        "<p align=\"justify\">\n",
        "<font size=\"3\">\n",
        "$ApplyinPandas$ can be very powerful when you need to apply advanced Python code or Python libraries (i.e. <a href=\"https://scikit-learn.org/stable/\">scikit-learn</a>  otherwise you can use Pyspark routines relying on most powerful storage techniques for example using Parquet.\n",
        "\n",
        "    \n",
        "</font>\n",
        "</p>"
      ]
    },
    {
      "cell_type": "code",
      "metadata": {
        "id": "eG3YxgAzVXqB"
      },
      "source": [
        ""
      ],
      "execution_count": 38,
      "outputs": []
    }
  ]
}